{
 "cells": [
  {
   "cell_type": "markdown",
   "metadata": {},
   "source": [
    "![alt text](header.png)"
   ]
  },
  {
   "cell_type": "markdown",
   "metadata": {},
   "source": [
    "# 📚 Importación de librerías"
   ]
  },
  {
   "cell_type": "code",
   "execution_count": 1,
   "metadata": {},
   "outputs": [],
   "source": [
    "# Librerías para procesamiento de datos\n",
    "import os\n",
    "import pandas as pd\n",
    "import numpy as np\n",
    "import json\n",
    "from datetime import datetime, timedelta, date\n",
    "\n",
    "# Librerías para visualización de datos\n",
    "import matplotlib.pyplot as plt\n",
    "import seaborn as sns\n",
    "import plotly.express as px\n",
    "import warnings\n",
    "warnings.filterwarnings('ignore')\n",
    "\n",
    "#Librerías para preprocesamiento de datos\n"
   ]
  },
  {
   "cell_type": "code",
   "execution_count": 3,
   "metadata": {},
   "outputs": [],
   "source": [
    "# Importación de los datos\n",
    "df = pd.read_csv('./datos/df.csv', dtype={\n",
    "    'es_fraude':'Int64',\n",
    "    'tipo':'string',\n",
    "    'mensaje_alarma':'string',\n",
    "    'origen':'string',\n",
    "    'destino':'string'\n",
    "    })"
   ]
  },
  {
   "cell_type": "code",
   "execution_count": 6,
   "metadata": {},
   "outputs": [
    {
     "data": {
      "text/html": [
       "<div>\n",
       "<style scoped>\n",
       "    .dataframe tbody tr th:only-of-type {\n",
       "        vertical-align: middle;\n",
       "    }\n",
       "\n",
       "    .dataframe tbody tr th {\n",
       "        vertical-align: top;\n",
       "    }\n",
       "\n",
       "    .dataframe thead th {\n",
       "        text-align: right;\n",
       "    }\n",
       "</style>\n",
       "<table border=\"1\" class=\"dataframe\">\n",
       "  <thead>\n",
       "    <tr style=\"text-align: right;\">\n",
       "      <th></th>\n",
       "      <th>t_id</th>\n",
       "      <th>origen</th>\n",
       "      <th>destino</th>\n",
       "      <th>cuantia</th>\n",
       "      <th>es_fraude</th>\n",
       "      <th>mensaje_alarma</th>\n",
       "      <th>hora_transaccion</th>\n",
       "      <th>tipo</th>\n",
       "      <th>balance_prev_or</th>\n",
       "      <th>balance_post_or</th>\n",
       "      <th>balance_prev_des</th>\n",
       "      <th>balance_post_des</th>\n",
       "    </tr>\n",
       "  </thead>\n",
       "  <tbody>\n",
       "    <tr>\n",
       "      <th>4537540</th>\n",
       "      <td>4537612</td>\n",
       "      <td>C293933255</td>\n",
       "      <td>C1686077784</td>\n",
       "      <td>664307.70</td>\n",
       "      <td>0</td>\n",
       "      <td>No_detectado_fraude</td>\n",
       "      <td>2022-09-14 21:00:00</td>\n",
       "      <td>TRANSFER</td>\n",
       "      <td>0.00</td>\n",
       "      <td>0.00</td>\n",
       "      <td>2769424.72</td>\n",
       "      <td>3433732.42</td>\n",
       "    </tr>\n",
       "    <tr>\n",
       "      <th>1305664</th>\n",
       "      <td>1305685</td>\n",
       "      <td>C1902356433</td>\n",
       "      <td>C868461635</td>\n",
       "      <td>138165.77</td>\n",
       "      <td>0</td>\n",
       "      <td>No_detectado_fraude</td>\n",
       "      <td>2022-09-06 23:00:00</td>\n",
       "      <td>CASH_IN</td>\n",
       "      <td>5668787.45</td>\n",
       "      <td>5806953.22</td>\n",
       "      <td>734932.94</td>\n",
       "      <td>596767.16</td>\n",
       "    </tr>\n",
       "    <tr>\n",
       "      <th>6312578</th>\n",
       "      <td>6312678</td>\n",
       "      <td>C1561794952</td>\n",
       "      <td>C992001105</td>\n",
       "      <td>98861.63</td>\n",
       "      <td>0</td>\n",
       "      <td>No_detectado_fraude</td>\n",
       "      <td>2022-09-29 21:00:00</td>\n",
       "      <td>CASH_IN</td>\n",
       "      <td>782.00</td>\n",
       "      <td>99643.63</td>\n",
       "      <td>0.00</td>\n",
       "      <td>0.00</td>\n",
       "    </tr>\n",
       "    <tr>\n",
       "      <th>236135</th>\n",
       "      <td>236139</td>\n",
       "      <td>C100379469</td>\n",
       "      <td>C645898745</td>\n",
       "      <td>161569.81</td>\n",
       "      <td>0</td>\n",
       "      <td>No_detectado_fraude</td>\n",
       "      <td>2022-09-01 21:00:00</td>\n",
       "      <td>CASH_IN</td>\n",
       "      <td>3339890.95</td>\n",
       "      <td>3501460.77</td>\n",
       "      <td>3109600.61</td>\n",
       "      <td>3236802.55</td>\n",
       "    </tr>\n",
       "    <tr>\n",
       "      <th>4214477</th>\n",
       "      <td>4214545</td>\n",
       "      <td>C1116272236</td>\n",
       "      <td>C1749186397</td>\n",
       "      <td>446951.64</td>\n",
       "      <td>0</td>\n",
       "      <td>No_detectado_fraude</td>\n",
       "      <td>2022-09-14</td>\n",
       "      <td>CASH_OUT</td>\n",
       "      <td>11871.00</td>\n",
       "      <td>0.00</td>\n",
       "      <td>4944648.16</td>\n",
       "      <td>5391599.79</td>\n",
       "    </tr>\n",
       "  </tbody>\n",
       "</table>\n",
       "</div>"
      ],
      "text/plain": [
       "            t_id       origen      destino    cuantia  es_fraude  \\\n",
       "4537540  4537612   C293933255  C1686077784  664307.70          0   \n",
       "1305664  1305685  C1902356433   C868461635  138165.77          0   \n",
       "6312578  6312678  C1561794952   C992001105   98861.63          0   \n",
       "236135    236139   C100379469   C645898745  161569.81          0   \n",
       "4214477  4214545  C1116272236  C1749186397  446951.64          0   \n",
       "\n",
       "              mensaje_alarma     hora_transaccion      tipo  balance_prev_or  \\\n",
       "4537540  No_detectado_fraude  2022-09-14 21:00:00  TRANSFER             0.00   \n",
       "1305664  No_detectado_fraude  2022-09-06 23:00:00   CASH_IN       5668787.45   \n",
       "6312578  No_detectado_fraude  2022-09-29 21:00:00   CASH_IN           782.00   \n",
       "236135   No_detectado_fraude  2022-09-01 21:00:00   CASH_IN       3339890.95   \n",
       "4214477  No_detectado_fraude           2022-09-14  CASH_OUT         11871.00   \n",
       "\n",
       "         balance_post_or  balance_prev_des  balance_post_des  \n",
       "4537540             0.00        2769424.72        3433732.42  \n",
       "1305664       5806953.22         734932.94         596767.16  \n",
       "6312578         99643.63              0.00              0.00  \n",
       "236135        3501460.77        3109600.61        3236802.55  \n",
       "4214477             0.00        4944648.16        5391599.79  "
      ]
     },
     "execution_count": 6,
     "metadata": {},
     "output_type": "execute_result"
    }
   ],
   "source": [
    "# Muestra aleatoria de 5 instancias del dataset\n",
    "df.sample(5)"
   ]
  },
  {
   "cell_type": "markdown",
   "metadata": {},
   "source": [
    "# 🔝 Información del dataset"
   ]
  },
  {
   "cell_type": "code",
   "execution_count": 82,
   "metadata": {},
   "outputs": [
    {
     "name": "stdout",
     "output_type": "stream",
     "text": [
      "· Contexto: transacciones hechas por los clientes de Pontia Bank entre el 2022-09-01 08:00:00 y el 2022-10-02 06:00:00.\n",
      "\n",
      "· Conteo de transacciones totales: 6362520 siendo fraudulentas (es_fraude = 1) 8209 transacciones.\n",
      "\n",
      "· Class imbalance: El 0.129% de las transacciones son positivas respecto del total de transacciones\n",
      "\n",
      "· Target: es_fraude, 1 para fraude, 0 para el resto de casos.\n"
     ]
    }
   ],
   "source": [
    "print(f'· Contexto: transacciones hechas por los clientes de Pontia Bank entre el {df['hora_transaccion'].min()} y el {df['hora_transaccion'].max()}.\\n')\n",
    "print(f'· Conteo de transacciones totales: {df.count()[0]} siendo fraudulentas (es_fraude = 1) {df['es_fraude'].value_counts()[1]} transacciones.\\n')\n",
    "print(f'· Desbalanceo de clases: El {((df['es_fraude'].value_counts()[1]/df.count()[0])*100).round(3)}% de las transacciones son positivas respecto del total de transacciones\\n')\n",
    "print(f'· Target: es_fraude, 1 para fraude, 0 para el resto de casos.')\n",
    "\n",
    "\n"
   ]
  },
  {
   "cell_type": "markdown",
   "metadata": {},
   "source": [
    "# 📉 Análisis exploratorio de datos"
   ]
  },
  {
   "cell_type": "code",
   "execution_count": 83,
   "metadata": {},
   "outputs": [
    {
     "data": {
      "text/html": [
       "<div>\n",
       "<style scoped>\n",
       "    .dataframe tbody tr th:only-of-type {\n",
       "        vertical-align: middle;\n",
       "    }\n",
       "\n",
       "    .dataframe tbody tr th {\n",
       "        vertical-align: top;\n",
       "    }\n",
       "\n",
       "    .dataframe thead th {\n",
       "        text-align: right;\n",
       "    }\n",
       "</style>\n",
       "<table border=\"1\" class=\"dataframe\">\n",
       "  <thead>\n",
       "    <tr style=\"text-align: right;\">\n",
       "      <th></th>\n",
       "      <th>t_id</th>\n",
       "      <th>origen</th>\n",
       "      <th>destino</th>\n",
       "      <th>cuantia</th>\n",
       "      <th>es_fraude</th>\n",
       "      <th>mensaje_alarma</th>\n",
       "      <th>hora_transaccion</th>\n",
       "      <th>tipo</th>\n",
       "      <th>balance_prev_or</th>\n",
       "      <th>balance_post_or</th>\n",
       "      <th>balance_prev_des</th>\n",
       "      <th>balance_post_des</th>\n",
       "    </tr>\n",
       "  </thead>\n",
       "  <tbody>\n",
       "    <tr>\n",
       "      <th>0</th>\n",
       "      <td>0</td>\n",
       "      <td>C1231006815</td>\n",
       "      <td>M1979787155</td>\n",
       "      <td>9839.64</td>\n",
       "      <td>0</td>\n",
       "      <td>No_detectado_fraude</td>\n",
       "      <td>2022-09-01 08:00:00</td>\n",
       "      <td>PAYMENT</td>\n",
       "      <td>170136.0</td>\n",
       "      <td>160296.36</td>\n",
       "      <td>0.0</td>\n",
       "      <td>0.0</td>\n",
       "    </tr>\n",
       "    <tr>\n",
       "      <th>1</th>\n",
       "      <td>1</td>\n",
       "      <td>C1666544295</td>\n",
       "      <td>M2044282225</td>\n",
       "      <td>1864.28</td>\n",
       "      <td>0</td>\n",
       "      <td>No_detectado_fraude</td>\n",
       "      <td>2022-09-01 08:00:00</td>\n",
       "      <td>PAYMENT</td>\n",
       "      <td>21249.0</td>\n",
       "      <td>19384.72</td>\n",
       "      <td>0.0</td>\n",
       "      <td>0.0</td>\n",
       "    </tr>\n",
       "    <tr>\n",
       "      <th>2</th>\n",
       "      <td>2</td>\n",
       "      <td>C1305486145</td>\n",
       "      <td>C553264065</td>\n",
       "      <td>181.00</td>\n",
       "      <td>1</td>\n",
       "      <td>No_detectado_fraude</td>\n",
       "      <td>2022-09-01 08:00:00</td>\n",
       "      <td>TRANSFER</td>\n",
       "      <td>181.0</td>\n",
       "      <td>0.00</td>\n",
       "      <td>0.0</td>\n",
       "      <td>0.0</td>\n",
       "    </tr>\n",
       "    <tr>\n",
       "      <th>3</th>\n",
       "      <td>3</td>\n",
       "      <td>C840083671</td>\n",
       "      <td>C38997010</td>\n",
       "      <td>181.00</td>\n",
       "      <td>1</td>\n",
       "      <td>No_detectado_fraude</td>\n",
       "      <td>2022-09-01 08:00:00</td>\n",
       "      <td>CASH_OUT</td>\n",
       "      <td>181.0</td>\n",
       "      <td>0.00</td>\n",
       "      <td>21182.0</td>\n",
       "      <td>0.0</td>\n",
       "    </tr>\n",
       "    <tr>\n",
       "      <th>4</th>\n",
       "      <td>4</td>\n",
       "      <td>C2048537720</td>\n",
       "      <td>M1230701703</td>\n",
       "      <td>11668.14</td>\n",
       "      <td>0</td>\n",
       "      <td>No_detectado_fraude</td>\n",
       "      <td>2022-09-01 08:00:00</td>\n",
       "      <td>PAYMENT</td>\n",
       "      <td>41554.0</td>\n",
       "      <td>29885.86</td>\n",
       "      <td>0.0</td>\n",
       "      <td>0.0</td>\n",
       "    </tr>\n",
       "  </tbody>\n",
       "</table>\n",
       "</div>"
      ],
      "text/plain": [
       "   t_id       origen      destino   cuantia  es_fraude       mensaje_alarma  \\\n",
       "0     0  C1231006815  M1979787155   9839.64          0  No_detectado_fraude   \n",
       "1     1  C1666544295  M2044282225   1864.28          0  No_detectado_fraude   \n",
       "2     2  C1305486145   C553264065    181.00          1  No_detectado_fraude   \n",
       "3     3   C840083671    C38997010    181.00          1  No_detectado_fraude   \n",
       "4     4  C2048537720  M1230701703  11668.14          0  No_detectado_fraude   \n",
       "\n",
       "      hora_transaccion      tipo  balance_prev_or  balance_post_or  \\\n",
       "0  2022-09-01 08:00:00   PAYMENT         170136.0        160296.36   \n",
       "1  2022-09-01 08:00:00   PAYMENT          21249.0         19384.72   \n",
       "2  2022-09-01 08:00:00  TRANSFER            181.0             0.00   \n",
       "3  2022-09-01 08:00:00  CASH_OUT            181.0             0.00   \n",
       "4  2022-09-01 08:00:00   PAYMENT          41554.0         29885.86   \n",
       "\n",
       "   balance_prev_des  balance_post_des  \n",
       "0               0.0               0.0  \n",
       "1               0.0               0.0  \n",
       "2               0.0               0.0  \n",
       "3           21182.0               0.0  \n",
       "4               0.0               0.0  "
      ]
     },
     "metadata": {},
     "output_type": "display_data"
    },
    {
     "name": "stdout",
     "output_type": "stream",
     "text": [
      "\n",
      " --------------------------------------------------------------------------------------------------------------------------------------------------------------------- \n",
      "\n"
     ]
    },
    {
     "data": {
      "text/html": [
       "<div>\n",
       "<style scoped>\n",
       "    .dataframe tbody tr th:only-of-type {\n",
       "        vertical-align: middle;\n",
       "    }\n",
       "\n",
       "    .dataframe tbody tr th {\n",
       "        vertical-align: top;\n",
       "    }\n",
       "\n",
       "    .dataframe thead th {\n",
       "        text-align: right;\n",
       "    }\n",
       "</style>\n",
       "<table border=\"1\" class=\"dataframe\">\n",
       "  <thead>\n",
       "    <tr style=\"text-align: right;\">\n",
       "      <th></th>\n",
       "      <th>t_id</th>\n",
       "      <th>origen</th>\n",
       "      <th>destino</th>\n",
       "      <th>cuantia</th>\n",
       "      <th>es_fraude</th>\n",
       "      <th>mensaje_alarma</th>\n",
       "      <th>hora_transaccion</th>\n",
       "      <th>tipo</th>\n",
       "      <th>balance_prev_or</th>\n",
       "      <th>balance_post_or</th>\n",
       "      <th>balance_prev_des</th>\n",
       "      <th>balance_post_des</th>\n",
       "    </tr>\n",
       "  </thead>\n",
       "  <tbody>\n",
       "    <tr>\n",
       "      <th>6362515</th>\n",
       "      <td>6362615</td>\n",
       "      <td>C786484425</td>\n",
       "      <td>C776919290</td>\n",
       "      <td>339682.13</td>\n",
       "      <td>1</td>\n",
       "      <td>No_detectado_fraude</td>\n",
       "      <td>2022-10-02 06:00:00</td>\n",
       "      <td>CASH_OUT</td>\n",
       "      <td>339682.13</td>\n",
       "      <td>0.0</td>\n",
       "      <td>0.00</td>\n",
       "      <td>339682.13</td>\n",
       "    </tr>\n",
       "    <tr>\n",
       "      <th>6362516</th>\n",
       "      <td>6362616</td>\n",
       "      <td>C1529008245</td>\n",
       "      <td>C1881841831</td>\n",
       "      <td>6311409.28</td>\n",
       "      <td>1</td>\n",
       "      <td>No_detectado_fraude</td>\n",
       "      <td>2022-10-02 06:00:00</td>\n",
       "      <td>TRANSFER</td>\n",
       "      <td>6311409.28</td>\n",
       "      <td>0.0</td>\n",
       "      <td>0.00</td>\n",
       "      <td>0.00</td>\n",
       "    </tr>\n",
       "    <tr>\n",
       "      <th>6362517</th>\n",
       "      <td>6362617</td>\n",
       "      <td>C1162922333</td>\n",
       "      <td>C1365125890</td>\n",
       "      <td>6311409.28</td>\n",
       "      <td>1</td>\n",
       "      <td>No_detectado_fraude</td>\n",
       "      <td>2022-10-02 06:00:00</td>\n",
       "      <td>CASH_OUT</td>\n",
       "      <td>6311409.28</td>\n",
       "      <td>0.0</td>\n",
       "      <td>68488.84</td>\n",
       "      <td>6379898.11</td>\n",
       "    </tr>\n",
       "    <tr>\n",
       "      <th>6362518</th>\n",
       "      <td>6362618</td>\n",
       "      <td>C1685995037</td>\n",
       "      <td>C2080388513</td>\n",
       "      <td>850002.52</td>\n",
       "      <td>1</td>\n",
       "      <td>No_detectado_fraude</td>\n",
       "      <td>2022-10-02 06:00:00</td>\n",
       "      <td>TRANSFER</td>\n",
       "      <td>850002.52</td>\n",
       "      <td>0.0</td>\n",
       "      <td>0.00</td>\n",
       "      <td>0.00</td>\n",
       "    </tr>\n",
       "    <tr>\n",
       "      <th>6362519</th>\n",
       "      <td>6362619</td>\n",
       "      <td>C1280323807</td>\n",
       "      <td>C873221189</td>\n",
       "      <td>850002.52</td>\n",
       "      <td>1</td>\n",
       "      <td>No_detectado_fraude</td>\n",
       "      <td>2022-10-02 06:00:00</td>\n",
       "      <td>CASH_OUT</td>\n",
       "      <td>850002.52</td>\n",
       "      <td>0.0</td>\n",
       "      <td>6510099.11</td>\n",
       "      <td>7360101.63</td>\n",
       "    </tr>\n",
       "  </tbody>\n",
       "</table>\n",
       "</div>"
      ],
      "text/plain": [
       "            t_id       origen      destino     cuantia  es_fraude  \\\n",
       "6362515  6362615   C786484425   C776919290   339682.13          1   \n",
       "6362516  6362616  C1529008245  C1881841831  6311409.28          1   \n",
       "6362517  6362617  C1162922333  C1365125890  6311409.28          1   \n",
       "6362518  6362618  C1685995037  C2080388513   850002.52          1   \n",
       "6362519  6362619  C1280323807   C873221189   850002.52          1   \n",
       "\n",
       "              mensaje_alarma     hora_transaccion      tipo  balance_prev_or  \\\n",
       "6362515  No_detectado_fraude  2022-10-02 06:00:00  CASH_OUT        339682.13   \n",
       "6362516  No_detectado_fraude  2022-10-02 06:00:00  TRANSFER       6311409.28   \n",
       "6362517  No_detectado_fraude  2022-10-02 06:00:00  CASH_OUT       6311409.28   \n",
       "6362518  No_detectado_fraude  2022-10-02 06:00:00  TRANSFER        850002.52   \n",
       "6362519  No_detectado_fraude  2022-10-02 06:00:00  CASH_OUT        850002.52   \n",
       "\n",
       "         balance_post_or  balance_prev_des  balance_post_des  \n",
       "6362515              0.0              0.00         339682.13  \n",
       "6362516              0.0              0.00              0.00  \n",
       "6362517              0.0          68488.84        6379898.11  \n",
       "6362518              0.0              0.00              0.00  \n",
       "6362519              0.0        6510099.11        7360101.63  "
      ]
     },
     "metadata": {},
     "output_type": "display_data"
    }
   ],
   "source": [
    "# Primeros y últimos registros del dataset\n",
    "display(df.head())\n",
    "print(\"\\n --------------------------------------------------------------------------------------------------------------------------------------------------------------------- \\n\")\n",
    "display(df.tail())"
   ]
  },
  {
   "cell_type": "code",
   "execution_count": 157,
   "metadata": {},
   "outputs": [
    {
     "data": {
      "text/plain": [
       "t_id                0\n",
       "origen              0\n",
       "destino             0\n",
       "cuantia             0\n",
       "es_fraude           0\n",
       "mensaje_alarma      0\n",
       "hora_transaccion    0\n",
       "tipo                0\n",
       "balance_prev_or     0\n",
       "balance_post_or     0\n",
       "balance_prev_des    0\n",
       "balance_post_des    0\n",
       "dtype: int64"
      ]
     },
     "metadata": {},
     "output_type": "display_data"
    },
    {
     "name": "stdout",
     "output_type": "stream",
     "text": [
      "Valores nulos por columna:\n",
      " None\n"
     ]
    }
   ],
   "source": [
    "# Valores nulos por columnas\n",
    "print('Valores nulos por columna:\\n', display(df.isnull().sum()))"
   ]
  },
  {
   "cell_type": "code",
   "execution_count": 4,
   "metadata": {},
   "outputs": [
    {
     "name": "stdout",
     "output_type": "stream",
     "text": [
      "Estadísticas:\n",
      "*********************************************\n",
      "\n"
     ]
    },
    {
     "data": {
      "text/html": [
       "<div>\n",
       "<style scoped>\n",
       "    .dataframe tbody tr th:only-of-type {\n",
       "        vertical-align: middle;\n",
       "    }\n",
       "\n",
       "    .dataframe tbody tr th {\n",
       "        vertical-align: top;\n",
       "    }\n",
       "\n",
       "    .dataframe thead th {\n",
       "        text-align: right;\n",
       "    }\n",
       "</style>\n",
       "<table border=\"1\" class=\"dataframe\">\n",
       "  <thead>\n",
       "    <tr style=\"text-align: right;\">\n",
       "      <th></th>\n",
       "      <th>t_id</th>\n",
       "      <th>cuantia</th>\n",
       "      <th>es_fraude</th>\n",
       "      <th>balance_prev_or</th>\n",
       "      <th>balance_post_or</th>\n",
       "      <th>balance_prev_des</th>\n",
       "      <th>balance_post_des</th>\n",
       "    </tr>\n",
       "  </thead>\n",
       "  <tbody>\n",
       "    <tr>\n",
       "      <th>count</th>\n",
       "      <td>6.362520e+06</td>\n",
       "      <td>6.362520e+06</td>\n",
       "      <td>6362520.0</td>\n",
       "      <td>6.362520e+06</td>\n",
       "      <td>6.362520e+06</td>\n",
       "      <td>6.362520e+06</td>\n",
       "      <td>6.362520e+06</td>\n",
       "    </tr>\n",
       "    <tr>\n",
       "      <th>mean</th>\n",
       "      <td>3.181312e+06</td>\n",
       "      <td>1.798620e+05</td>\n",
       "      <td>0.00129</td>\n",
       "      <td>8.338892e+05</td>\n",
       "      <td>8.551206e+05</td>\n",
       "      <td>1.100707e+06</td>\n",
       "      <td>1.225002e+06</td>\n",
       "    </tr>\n",
       "    <tr>\n",
       "      <th>std</th>\n",
       "      <td>1.836730e+06</td>\n",
       "      <td>6.038617e+05</td>\n",
       "      <td>0.035896</td>\n",
       "      <td>2.888257e+06</td>\n",
       "      <td>2.924063e+06</td>\n",
       "      <td>3.399201e+06</td>\n",
       "      <td>3.674152e+06</td>\n",
       "    </tr>\n",
       "    <tr>\n",
       "      <th>min</th>\n",
       "      <td>0.000000e+00</td>\n",
       "      <td>0.000000e+00</td>\n",
       "      <td>0.0</td>\n",
       "      <td>0.000000e+00</td>\n",
       "      <td>0.000000e+00</td>\n",
       "      <td>0.000000e+00</td>\n",
       "      <td>0.000000e+00</td>\n",
       "    </tr>\n",
       "    <tr>\n",
       "      <th>25%</th>\n",
       "      <td>1.590656e+06</td>\n",
       "      <td>1.338957e+04</td>\n",
       "      <td>0.0</td>\n",
       "      <td>0.000000e+00</td>\n",
       "      <td>0.000000e+00</td>\n",
       "      <td>0.000000e+00</td>\n",
       "      <td>0.000000e+00</td>\n",
       "    </tr>\n",
       "    <tr>\n",
       "      <th>50%</th>\n",
       "      <td>3.181316e+06</td>\n",
       "      <td>7.487271e+04</td>\n",
       "      <td>0.0</td>\n",
       "      <td>1.420800e+04</td>\n",
       "      <td>0.000000e+00</td>\n",
       "      <td>1.327077e+05</td>\n",
       "      <td>2.146622e+05</td>\n",
       "    </tr>\n",
       "    <tr>\n",
       "      <th>75%</th>\n",
       "      <td>4.771964e+06</td>\n",
       "      <td>2.087216e+05</td>\n",
       "      <td>0.0</td>\n",
       "      <td>1.073150e+05</td>\n",
       "      <td>1.442585e+05</td>\n",
       "      <td>9.430375e+05</td>\n",
       "      <td>1.111909e+06</td>\n",
       "    </tr>\n",
       "    <tr>\n",
       "      <th>max</th>\n",
       "      <td>6.362619e+06</td>\n",
       "      <td>9.244552e+07</td>\n",
       "      <td>1.0</td>\n",
       "      <td>5.958504e+07</td>\n",
       "      <td>4.958504e+07</td>\n",
       "      <td>3.560159e+08</td>\n",
       "      <td>3.561793e+08</td>\n",
       "    </tr>\n",
       "  </tbody>\n",
       "</table>\n",
       "</div>"
      ],
      "text/plain": [
       "               t_id       cuantia  es_fraude  balance_prev_or  \\\n",
       "count  6.362520e+06  6.362520e+06  6362520.0     6.362520e+06   \n",
       "mean   3.181312e+06  1.798620e+05    0.00129     8.338892e+05   \n",
       "std    1.836730e+06  6.038617e+05   0.035896     2.888257e+06   \n",
       "min    0.000000e+00  0.000000e+00        0.0     0.000000e+00   \n",
       "25%    1.590656e+06  1.338957e+04        0.0     0.000000e+00   \n",
       "50%    3.181316e+06  7.487271e+04        0.0     1.420800e+04   \n",
       "75%    4.771964e+06  2.087216e+05        0.0     1.073150e+05   \n",
       "max    6.362619e+06  9.244552e+07        1.0     5.958504e+07   \n",
       "\n",
       "       balance_post_or  balance_prev_des  balance_post_des  \n",
       "count     6.362520e+06      6.362520e+06      6.362520e+06  \n",
       "mean      8.551206e+05      1.100707e+06      1.225002e+06  \n",
       "std       2.924063e+06      3.399201e+06      3.674152e+06  \n",
       "min       0.000000e+00      0.000000e+00      0.000000e+00  \n",
       "25%       0.000000e+00      0.000000e+00      0.000000e+00  \n",
       "50%       0.000000e+00      1.327077e+05      2.146622e+05  \n",
       "75%       1.442585e+05      9.430375e+05      1.111909e+06  \n",
       "max       4.958504e+07      3.560159e+08      3.561793e+08  "
      ]
     },
     "execution_count": 4,
     "metadata": {},
     "output_type": "execute_result"
    }
   ],
   "source": [
    "# Estadísticas\n",
    "print('Estadísticas:\\n*********************************************\\n')\n",
    "df.describe()"
   ]
  },
  {
   "cell_type": "markdown",
   "metadata": {},
   "source": [
    "## 💠 Forma e información variable objetivo"
   ]
  },
  {
   "cell_type": "code",
   "execution_count": 91,
   "metadata": {},
   "outputs": [
    {
     "name": "stdout",
     "output_type": "stream",
     "text": [
      "· El dataset contiene 6362520 filas y 12 columnas.\n",
      "Clases de categorías de \"es_fraude\": <IntegerArray>\n",
      "[0, 1]\n",
      "Length: 2, dtype: Int64\n",
      "Número de registros con valor 0 en la clase es_fraude: 6354311\n",
      "Número de registros con valor 1 en la clase es_fraude: 8209\n"
     ]
    }
   ],
   "source": [
    "# Forma del dataset (número de filas y columnas)\n",
    "print(f'· El dataset contiene {df.shape[0]} filas y {df.shape[1]} columnas.')\n",
    "\n",
    "# Categorías de clase únicas en la columna es_fraude\n",
    "print('Clases de categorías de \"es_fraude\":', df['es_fraude'].unique())\n",
    "\n",
    "# Número de registros con valor 0 en la clase es_fraude\n",
    "print(f'Número de registros con valor 0 en la clase es_fraude:', (df['es_fraude'] == 0).sum())\n",
    "\n",
    "# Número de registros con valor 1 en la clase es_fraude\n",
    "print(f'Número de registros con valor 1 en la clase es_fraude:', (df['es_fraude'] == 1).sum())"
   ]
  },
  {
   "cell_type": "markdown",
   "metadata": {},
   "source": [
    "## ⚖️ Gráfico desbalanceo de clases"
   ]
  },
  {
   "cell_type": "code",
   "execution_count": null,
   "metadata": {},
   "outputs": [
    {
     "data": {
      "application/vnd.plotly.v1+json": {
       "config": {
        "plotlyServerURL": "https://plot.ly"
       },
       "data": [
        {
         "alignmentgroup": "True",
         "hovertemplate": "Valor de es_fraude=%{x}<br>Número de transacciones=%{y}<extra></extra>",
         "legendgroup": "0",
         "marker": {
          "color": "#264653",
          "pattern": {
           "shape": ""
          }
         },
         "name": "0",
         "offsetgroup": "0",
         "orientation": "v",
         "showlegend": true,
         "textposition": "auto",
         "type": "bar",
         "x": [
          "0"
         ],
         "xaxis": "x",
         "y": [
          6354311
         ],
         "yaxis": "y"
        },
        {
         "alignmentgroup": "True",
         "hovertemplate": "Valor de es_fraude=%{x}<br>Número de transacciones=%{y}<extra></extra>",
         "legendgroup": "1",
         "marker": {
          "color": "#2a9d8f",
          "pattern": {
           "shape": ""
          }
         },
         "name": "1",
         "offsetgroup": "1",
         "orientation": "v",
         "showlegend": true,
         "textposition": "auto",
         "type": "bar",
         "x": [
          "1"
         ],
         "xaxis": "x",
         "y": [
          8209
         ],
         "yaxis": "y"
        }
       ],
       "layout": {
        "bargap": 0.5,
        "barmode": "relative",
        "coloraxis": {
         "showscale": false
        },
        "height": 600,
        "legend": {
         "title": {
          "text": "Valor de es_fraude"
         },
         "tracegroupgap": 0
        },
        "template": {
         "data": {
          "bar": [
           {
            "error_x": {
             "color": "#2a3f5f"
            },
            "error_y": {
             "color": "#2a3f5f"
            },
            "marker": {
             "line": {
              "color": "#E5ECF6",
              "width": 0.5
             },
             "pattern": {
              "fillmode": "overlay",
              "size": 10,
              "solidity": 0.2
             }
            },
            "type": "bar"
           }
          ],
          "barpolar": [
           {
            "marker": {
             "line": {
              "color": "#E5ECF6",
              "width": 0.5
             },
             "pattern": {
              "fillmode": "overlay",
              "size": 10,
              "solidity": 0.2
             }
            },
            "type": "barpolar"
           }
          ],
          "carpet": [
           {
            "aaxis": {
             "endlinecolor": "#2a3f5f",
             "gridcolor": "white",
             "linecolor": "white",
             "minorgridcolor": "white",
             "startlinecolor": "#2a3f5f"
            },
            "baxis": {
             "endlinecolor": "#2a3f5f",
             "gridcolor": "white",
             "linecolor": "white",
             "minorgridcolor": "white",
             "startlinecolor": "#2a3f5f"
            },
            "type": "carpet"
           }
          ],
          "choropleth": [
           {
            "colorbar": {
             "outlinewidth": 0,
             "ticks": ""
            },
            "type": "choropleth"
           }
          ],
          "contour": [
           {
            "colorbar": {
             "outlinewidth": 0,
             "ticks": ""
            },
            "colorscale": [
             [
              0,
              "#0d0887"
             ],
             [
              0.1111111111111111,
              "#46039f"
             ],
             [
              0.2222222222222222,
              "#7201a8"
             ],
             [
              0.3333333333333333,
              "#9c179e"
             ],
             [
              0.4444444444444444,
              "#bd3786"
             ],
             [
              0.5555555555555556,
              "#d8576b"
             ],
             [
              0.6666666666666666,
              "#ed7953"
             ],
             [
              0.7777777777777778,
              "#fb9f3a"
             ],
             [
              0.8888888888888888,
              "#fdca26"
             ],
             [
              1,
              "#f0f921"
             ]
            ],
            "type": "contour"
           }
          ],
          "contourcarpet": [
           {
            "colorbar": {
             "outlinewidth": 0,
             "ticks": ""
            },
            "type": "contourcarpet"
           }
          ],
          "heatmap": [
           {
            "colorbar": {
             "outlinewidth": 0,
             "ticks": ""
            },
            "colorscale": [
             [
              0,
              "#0d0887"
             ],
             [
              0.1111111111111111,
              "#46039f"
             ],
             [
              0.2222222222222222,
              "#7201a8"
             ],
             [
              0.3333333333333333,
              "#9c179e"
             ],
             [
              0.4444444444444444,
              "#bd3786"
             ],
             [
              0.5555555555555556,
              "#d8576b"
             ],
             [
              0.6666666666666666,
              "#ed7953"
             ],
             [
              0.7777777777777778,
              "#fb9f3a"
             ],
             [
              0.8888888888888888,
              "#fdca26"
             ],
             [
              1,
              "#f0f921"
             ]
            ],
            "type": "heatmap"
           }
          ],
          "heatmapgl": [
           {
            "colorbar": {
             "outlinewidth": 0,
             "ticks": ""
            },
            "colorscale": [
             [
              0,
              "#0d0887"
             ],
             [
              0.1111111111111111,
              "#46039f"
             ],
             [
              0.2222222222222222,
              "#7201a8"
             ],
             [
              0.3333333333333333,
              "#9c179e"
             ],
             [
              0.4444444444444444,
              "#bd3786"
             ],
             [
              0.5555555555555556,
              "#d8576b"
             ],
             [
              0.6666666666666666,
              "#ed7953"
             ],
             [
              0.7777777777777778,
              "#fb9f3a"
             ],
             [
              0.8888888888888888,
              "#fdca26"
             ],
             [
              1,
              "#f0f921"
             ]
            ],
            "type": "heatmapgl"
           }
          ],
          "histogram": [
           {
            "marker": {
             "pattern": {
              "fillmode": "overlay",
              "size": 10,
              "solidity": 0.2
             }
            },
            "type": "histogram"
           }
          ],
          "histogram2d": [
           {
            "colorbar": {
             "outlinewidth": 0,
             "ticks": ""
            },
            "colorscale": [
             [
              0,
              "#0d0887"
             ],
             [
              0.1111111111111111,
              "#46039f"
             ],
             [
              0.2222222222222222,
              "#7201a8"
             ],
             [
              0.3333333333333333,
              "#9c179e"
             ],
             [
              0.4444444444444444,
              "#bd3786"
             ],
             [
              0.5555555555555556,
              "#d8576b"
             ],
             [
              0.6666666666666666,
              "#ed7953"
             ],
             [
              0.7777777777777778,
              "#fb9f3a"
             ],
             [
              0.8888888888888888,
              "#fdca26"
             ],
             [
              1,
              "#f0f921"
             ]
            ],
            "type": "histogram2d"
           }
          ],
          "histogram2dcontour": [
           {
            "colorbar": {
             "outlinewidth": 0,
             "ticks": ""
            },
            "colorscale": [
             [
              0,
              "#0d0887"
             ],
             [
              0.1111111111111111,
              "#46039f"
             ],
             [
              0.2222222222222222,
              "#7201a8"
             ],
             [
              0.3333333333333333,
              "#9c179e"
             ],
             [
              0.4444444444444444,
              "#bd3786"
             ],
             [
              0.5555555555555556,
              "#d8576b"
             ],
             [
              0.6666666666666666,
              "#ed7953"
             ],
             [
              0.7777777777777778,
              "#fb9f3a"
             ],
             [
              0.8888888888888888,
              "#fdca26"
             ],
             [
              1,
              "#f0f921"
             ]
            ],
            "type": "histogram2dcontour"
           }
          ],
          "mesh3d": [
           {
            "colorbar": {
             "outlinewidth": 0,
             "ticks": ""
            },
            "type": "mesh3d"
           }
          ],
          "parcoords": [
           {
            "line": {
             "colorbar": {
              "outlinewidth": 0,
              "ticks": ""
             }
            },
            "type": "parcoords"
           }
          ],
          "pie": [
           {
            "automargin": true,
            "type": "pie"
           }
          ],
          "scatter": [
           {
            "fillpattern": {
             "fillmode": "overlay",
             "size": 10,
             "solidity": 0.2
            },
            "type": "scatter"
           }
          ],
          "scatter3d": [
           {
            "line": {
             "colorbar": {
              "outlinewidth": 0,
              "ticks": ""
             }
            },
            "marker": {
             "colorbar": {
              "outlinewidth": 0,
              "ticks": ""
             }
            },
            "type": "scatter3d"
           }
          ],
          "scattercarpet": [
           {
            "marker": {
             "colorbar": {
              "outlinewidth": 0,
              "ticks": ""
             }
            },
            "type": "scattercarpet"
           }
          ],
          "scattergeo": [
           {
            "marker": {
             "colorbar": {
              "outlinewidth": 0,
              "ticks": ""
             }
            },
            "type": "scattergeo"
           }
          ],
          "scattergl": [
           {
            "marker": {
             "colorbar": {
              "outlinewidth": 0,
              "ticks": ""
             }
            },
            "type": "scattergl"
           }
          ],
          "scattermapbox": [
           {
            "marker": {
             "colorbar": {
              "outlinewidth": 0,
              "ticks": ""
             }
            },
            "type": "scattermapbox"
           }
          ],
          "scatterpolar": [
           {
            "marker": {
             "colorbar": {
              "outlinewidth": 0,
              "ticks": ""
             }
            },
            "type": "scatterpolar"
           }
          ],
          "scatterpolargl": [
           {
            "marker": {
             "colorbar": {
              "outlinewidth": 0,
              "ticks": ""
             }
            },
            "type": "scatterpolargl"
           }
          ],
          "scatterternary": [
           {
            "marker": {
             "colorbar": {
              "outlinewidth": 0,
              "ticks": ""
             }
            },
            "type": "scatterternary"
           }
          ],
          "surface": [
           {
            "colorbar": {
             "outlinewidth": 0,
             "ticks": ""
            },
            "colorscale": [
             [
              0,
              "#0d0887"
             ],
             [
              0.1111111111111111,
              "#46039f"
             ],
             [
              0.2222222222222222,
              "#7201a8"
             ],
             [
              0.3333333333333333,
              "#9c179e"
             ],
             [
              0.4444444444444444,
              "#bd3786"
             ],
             [
              0.5555555555555556,
              "#d8576b"
             ],
             [
              0.6666666666666666,
              "#ed7953"
             ],
             [
              0.7777777777777778,
              "#fb9f3a"
             ],
             [
              0.8888888888888888,
              "#fdca26"
             ],
             [
              1,
              "#f0f921"
             ]
            ],
            "type": "surface"
           }
          ],
          "table": [
           {
            "cells": {
             "fill": {
              "color": "#EBF0F8"
             },
             "line": {
              "color": "white"
             }
            },
            "header": {
             "fill": {
              "color": "#C8D4E3"
             },
             "line": {
              "color": "white"
             }
            },
            "type": "table"
           }
          ]
         },
         "layout": {
          "annotationdefaults": {
           "arrowcolor": "#2a3f5f",
           "arrowhead": 0,
           "arrowwidth": 1
          },
          "autotypenumbers": "strict",
          "coloraxis": {
           "colorbar": {
            "outlinewidth": 0,
            "ticks": ""
           }
          },
          "colorscale": {
           "diverging": [
            [
             0,
             "#8e0152"
            ],
            [
             0.1,
             "#c51b7d"
            ],
            [
             0.2,
             "#de77ae"
            ],
            [
             0.3,
             "#f1b6da"
            ],
            [
             0.4,
             "#fde0ef"
            ],
            [
             0.5,
             "#f7f7f7"
            ],
            [
             0.6,
             "#e6f5d0"
            ],
            [
             0.7,
             "#b8e186"
            ],
            [
             0.8,
             "#7fbc41"
            ],
            [
             0.9,
             "#4d9221"
            ],
            [
             1,
             "#276419"
            ]
           ],
           "sequential": [
            [
             0,
             "#0d0887"
            ],
            [
             0.1111111111111111,
             "#46039f"
            ],
            [
             0.2222222222222222,
             "#7201a8"
            ],
            [
             0.3333333333333333,
             "#9c179e"
            ],
            [
             0.4444444444444444,
             "#bd3786"
            ],
            [
             0.5555555555555556,
             "#d8576b"
            ],
            [
             0.6666666666666666,
             "#ed7953"
            ],
            [
             0.7777777777777778,
             "#fb9f3a"
            ],
            [
             0.8888888888888888,
             "#fdca26"
            ],
            [
             1,
             "#f0f921"
            ]
           ],
           "sequentialminus": [
            [
             0,
             "#0d0887"
            ],
            [
             0.1111111111111111,
             "#46039f"
            ],
            [
             0.2222222222222222,
             "#7201a8"
            ],
            [
             0.3333333333333333,
             "#9c179e"
            ],
            [
             0.4444444444444444,
             "#bd3786"
            ],
            [
             0.5555555555555556,
             "#d8576b"
            ],
            [
             0.6666666666666666,
             "#ed7953"
            ],
            [
             0.7777777777777778,
             "#fb9f3a"
            ],
            [
             0.8888888888888888,
             "#fdca26"
            ],
            [
             1,
             "#f0f921"
            ]
           ]
          },
          "colorway": [
           "#636efa",
           "#EF553B",
           "#00cc96",
           "#ab63fa",
           "#FFA15A",
           "#19d3f3",
           "#FF6692",
           "#B6E880",
           "#FF97FF",
           "#FECB52"
          ],
          "font": {
           "color": "#2a3f5f"
          },
          "geo": {
           "bgcolor": "white",
           "lakecolor": "white",
           "landcolor": "#E5ECF6",
           "showlakes": true,
           "showland": true,
           "subunitcolor": "white"
          },
          "hoverlabel": {
           "align": "left"
          },
          "hovermode": "closest",
          "mapbox": {
           "style": "light"
          },
          "paper_bgcolor": "white",
          "plot_bgcolor": "#E5ECF6",
          "polar": {
           "angularaxis": {
            "gridcolor": "white",
            "linecolor": "white",
            "ticks": ""
           },
           "bgcolor": "#E5ECF6",
           "radialaxis": {
            "gridcolor": "white",
            "linecolor": "white",
            "ticks": ""
           }
          },
          "scene": {
           "xaxis": {
            "backgroundcolor": "#E5ECF6",
            "gridcolor": "white",
            "gridwidth": 2,
            "linecolor": "white",
            "showbackground": true,
            "ticks": "",
            "zerolinecolor": "white"
           },
           "yaxis": {
            "backgroundcolor": "#E5ECF6",
            "gridcolor": "white",
            "gridwidth": 2,
            "linecolor": "white",
            "showbackground": true,
            "ticks": "",
            "zerolinecolor": "white"
           },
           "zaxis": {
            "backgroundcolor": "#E5ECF6",
            "gridcolor": "white",
            "gridwidth": 2,
            "linecolor": "white",
            "showbackground": true,
            "ticks": "",
            "zerolinecolor": "white"
           }
          },
          "shapedefaults": {
           "line": {
            "color": "#2a3f5f"
           }
          },
          "ternary": {
           "aaxis": {
            "gridcolor": "white",
            "linecolor": "white",
            "ticks": ""
           },
           "baxis": {
            "gridcolor": "white",
            "linecolor": "white",
            "ticks": ""
           },
           "bgcolor": "#E5ECF6",
           "caxis": {
            "gridcolor": "white",
            "linecolor": "white",
            "ticks": ""
           }
          },
          "title": {
           "x": 0.05
          },
          "xaxis": {
           "automargin": true,
           "gridcolor": "white",
           "linecolor": "white",
           "ticks": "",
           "title": {
            "standoff": 15
           },
           "zerolinecolor": "white",
           "zerolinewidth": 2
          },
          "yaxis": {
           "automargin": true,
           "gridcolor": "white",
           "linecolor": "white",
           "ticks": "",
           "title": {
            "standoff": 15
           },
           "zerolinecolor": "white",
           "zerolinewidth": 2
          }
         }
        },
        "title": {
         "text": "Desbalance de Clases en \"es_fraude\""
        },
        "width": 700,
        "xaxis": {
         "anchor": "y",
         "categoryarray": [
          "0",
          "1"
         ],
         "categoryorder": "array",
         "domain": [
          0,
          1
         ],
         "title": {
          "text": "Valor de es_fraude"
         }
        },
        "yaxis": {
         "anchor": "x",
         "domain": [
          0,
          1
         ],
         "title": {
          "text": "Número de transacciones"
         },
         "type": "log"
        }
       }
      }
     },
     "metadata": {},
     "output_type": "display_data"
    }
   ],
   "source": [
    "# Gráfico para visualizar el desbalanceo de clases\n",
    "\n",
    "counts = df['es_fraude'].value_counts().reset_index()\n",
    "counts.columns = ['Clase', 'Recuento']\n",
    "counts['Clase'] = counts['Clase'].astype(str)\n",
    "color_palette = ['#264653', '#2a9d8f', '#e9c46a', '#f4a261', '#e76f51']\n",
    "# https://coolors.co/palette/264653-2a9d8f-e9c46a-f4a261-e76f51\n",
    "\n",
    "\n",
    "fig = px.bar(\n",
    "    counts,\n",
    "    x='Clase',\n",
    "    y='Recuento',\n",
    "    color='Clase',\n",
    "    color_discrete_sequence=color_palette,\n",
    "    title='Desbalance de Clases en \"es_fraude\"',\n",
    "    labels={'Clase':'Valor de es_fraude', 'Recuento':'Número de transacciones'}\n",
    ")\n",
    "\n",
    "fig.update_layout(\n",
    "    width=700,   # ajusta el ancho\n",
    "    height=600,  # ajusta la altura si lo deseas\n",
    "    bargap=0.5,  # controla el espacio entre barras\n",
    ")\n",
    "\n",
    "fig.update_yaxes(type='log') # Lo pongo en escala logarítmica para que se aprecie en el gráfico\n",
    "fig.update_layout(coloraxis_showscale=False)\n",
    "fig.show()"
   ]
  },
  {
   "cell_type": "raw",
   "metadata": {
    "vscode": {
     "languageId": "raw"
    }
   },
   "source": [
    "Las clases de encuentran muy desbalanceadas, solo el 0.129% de las transacciones son fraudulentas. En las próximas secciones se tratará de ajustar este desbalanceo. "
   ]
  },
  {
   "cell_type": "markdown",
   "metadata": {},
   "source": [
    "## 💱 Tipo de transacciones"
   ]
  },
  {
   "cell_type": "code",
   "execution_count": 133,
   "metadata": {},
   "outputs": [
    {
     "name": "stdout",
     "output_type": "stream",
     "text": [
      "Tipo de transacciones: ['PAYMENT', 'TRANSFER', 'CASH_OUT', 'DEBIT', 'CASH_IN']\n",
      "\n",
      "Recuento tipo de transacciones: tipo\n",
      "CASH_OUT    2237463\n",
      "PAYMENT     2151458\n",
      "CASH_IN     1399270\n",
      "TRANSFER     532897\n",
      "DEBIT         41432\n",
      "Name: count, dtype: Int64\n"
     ]
    }
   ],
   "source": [
    "# Valores del tipo de transacciones\n",
    "print(f'Tipo de transacciones: {df['tipo'].unique().tolist()}\\n')\n",
    "\n",
    "# Recuento tipo de transacciones\n",
    "print(f'Recuento tipo de transacciones: {df['tipo'].value_counts()}')"
   ]
  },
  {
   "cell_type": "code",
   "execution_count": 143,
   "metadata": {},
   "outputs": [
    {
     "data": {
      "application/vnd.plotly.v1+json": {
       "config": {
        "plotlyServerURL": "https://plot.ly"
       },
       "data": [
        {
         "alignmentgroup": "True",
         "hovertemplate": "Tipo de Transacción=%{y}<br>Número de Transacciones=%{x}<extra></extra>",
         "legendgroup": "CASH_OUT",
         "marker": {
          "color": "#264653",
          "pattern": {
           "shape": ""
          }
         },
         "name": "CASH_OUT",
         "offsetgroup": "CASH_OUT",
         "orientation": "h",
         "showlegend": true,
         "textposition": "auto",
         "type": "bar",
         "x": [
          2237463
         ],
         "xaxis": "x",
         "y": [
          "CASH_OUT"
         ],
         "yaxis": "y"
        },
        {
         "alignmentgroup": "True",
         "hovertemplate": "Tipo de Transacción=%{y}<br>Número de Transacciones=%{x}<extra></extra>",
         "legendgroup": "PAYMENT",
         "marker": {
          "color": "#2a9d8f",
          "pattern": {
           "shape": ""
          }
         },
         "name": "PAYMENT",
         "offsetgroup": "PAYMENT",
         "orientation": "h",
         "showlegend": true,
         "textposition": "auto",
         "type": "bar",
         "x": [
          2151458
         ],
         "xaxis": "x",
         "y": [
          "PAYMENT"
         ],
         "yaxis": "y"
        },
        {
         "alignmentgroup": "True",
         "hovertemplate": "Tipo de Transacción=%{y}<br>Número de Transacciones=%{x}<extra></extra>",
         "legendgroup": "CASH_IN",
         "marker": {
          "color": "#e9c46a",
          "pattern": {
           "shape": ""
          }
         },
         "name": "CASH_IN",
         "offsetgroup": "CASH_IN",
         "orientation": "h",
         "showlegend": true,
         "textposition": "auto",
         "type": "bar",
         "x": [
          1399270
         ],
         "xaxis": "x",
         "y": [
          "CASH_IN"
         ],
         "yaxis": "y"
        },
        {
         "alignmentgroup": "True",
         "hovertemplate": "Tipo de Transacción=%{y}<br>Número de Transacciones=%{x}<extra></extra>",
         "legendgroup": "TRANSFER",
         "marker": {
          "color": "#f4a261",
          "pattern": {
           "shape": ""
          }
         },
         "name": "TRANSFER",
         "offsetgroup": "TRANSFER",
         "orientation": "h",
         "showlegend": true,
         "textposition": "auto",
         "type": "bar",
         "x": [
          532897
         ],
         "xaxis": "x",
         "y": [
          "TRANSFER"
         ],
         "yaxis": "y"
        },
        {
         "alignmentgroup": "True",
         "hovertemplate": "Tipo de Transacción=%{y}<br>Número de Transacciones=%{x}<extra></extra>",
         "legendgroup": "DEBIT",
         "marker": {
          "color": "#e76f51",
          "pattern": {
           "shape": ""
          }
         },
         "name": "DEBIT",
         "offsetgroup": "DEBIT",
         "orientation": "h",
         "showlegend": true,
         "textposition": "auto",
         "type": "bar",
         "x": [
          41432
         ],
         "xaxis": "x",
         "y": [
          "DEBIT"
         ],
         "yaxis": "y"
        }
       ],
       "layout": {
        "bargap": 0.2,
        "barmode": "relative",
        "height": 600,
        "legend": {
         "title": {
          "text": "Tipo de Transacción"
         },
         "tracegroupgap": 0
        },
        "template": {
         "data": {
          "bar": [
           {
            "error_x": {
             "color": "#2a3f5f"
            },
            "error_y": {
             "color": "#2a3f5f"
            },
            "marker": {
             "line": {
              "color": "#E5ECF6",
              "width": 0.5
             },
             "pattern": {
              "fillmode": "overlay",
              "size": 10,
              "solidity": 0.2
             }
            },
            "type": "bar"
           }
          ],
          "barpolar": [
           {
            "marker": {
             "line": {
              "color": "#E5ECF6",
              "width": 0.5
             },
             "pattern": {
              "fillmode": "overlay",
              "size": 10,
              "solidity": 0.2
             }
            },
            "type": "barpolar"
           }
          ],
          "carpet": [
           {
            "aaxis": {
             "endlinecolor": "#2a3f5f",
             "gridcolor": "white",
             "linecolor": "white",
             "minorgridcolor": "white",
             "startlinecolor": "#2a3f5f"
            },
            "baxis": {
             "endlinecolor": "#2a3f5f",
             "gridcolor": "white",
             "linecolor": "white",
             "minorgridcolor": "white",
             "startlinecolor": "#2a3f5f"
            },
            "type": "carpet"
           }
          ],
          "choropleth": [
           {
            "colorbar": {
             "outlinewidth": 0,
             "ticks": ""
            },
            "type": "choropleth"
           }
          ],
          "contour": [
           {
            "colorbar": {
             "outlinewidth": 0,
             "ticks": ""
            },
            "colorscale": [
             [
              0,
              "#0d0887"
             ],
             [
              0.1111111111111111,
              "#46039f"
             ],
             [
              0.2222222222222222,
              "#7201a8"
             ],
             [
              0.3333333333333333,
              "#9c179e"
             ],
             [
              0.4444444444444444,
              "#bd3786"
             ],
             [
              0.5555555555555556,
              "#d8576b"
             ],
             [
              0.6666666666666666,
              "#ed7953"
             ],
             [
              0.7777777777777778,
              "#fb9f3a"
             ],
             [
              0.8888888888888888,
              "#fdca26"
             ],
             [
              1,
              "#f0f921"
             ]
            ],
            "type": "contour"
           }
          ],
          "contourcarpet": [
           {
            "colorbar": {
             "outlinewidth": 0,
             "ticks": ""
            },
            "type": "contourcarpet"
           }
          ],
          "heatmap": [
           {
            "colorbar": {
             "outlinewidth": 0,
             "ticks": ""
            },
            "colorscale": [
             [
              0,
              "#0d0887"
             ],
             [
              0.1111111111111111,
              "#46039f"
             ],
             [
              0.2222222222222222,
              "#7201a8"
             ],
             [
              0.3333333333333333,
              "#9c179e"
             ],
             [
              0.4444444444444444,
              "#bd3786"
             ],
             [
              0.5555555555555556,
              "#d8576b"
             ],
             [
              0.6666666666666666,
              "#ed7953"
             ],
             [
              0.7777777777777778,
              "#fb9f3a"
             ],
             [
              0.8888888888888888,
              "#fdca26"
             ],
             [
              1,
              "#f0f921"
             ]
            ],
            "type": "heatmap"
           }
          ],
          "heatmapgl": [
           {
            "colorbar": {
             "outlinewidth": 0,
             "ticks": ""
            },
            "colorscale": [
             [
              0,
              "#0d0887"
             ],
             [
              0.1111111111111111,
              "#46039f"
             ],
             [
              0.2222222222222222,
              "#7201a8"
             ],
             [
              0.3333333333333333,
              "#9c179e"
             ],
             [
              0.4444444444444444,
              "#bd3786"
             ],
             [
              0.5555555555555556,
              "#d8576b"
             ],
             [
              0.6666666666666666,
              "#ed7953"
             ],
             [
              0.7777777777777778,
              "#fb9f3a"
             ],
             [
              0.8888888888888888,
              "#fdca26"
             ],
             [
              1,
              "#f0f921"
             ]
            ],
            "type": "heatmapgl"
           }
          ],
          "histogram": [
           {
            "marker": {
             "pattern": {
              "fillmode": "overlay",
              "size": 10,
              "solidity": 0.2
             }
            },
            "type": "histogram"
           }
          ],
          "histogram2d": [
           {
            "colorbar": {
             "outlinewidth": 0,
             "ticks": ""
            },
            "colorscale": [
             [
              0,
              "#0d0887"
             ],
             [
              0.1111111111111111,
              "#46039f"
             ],
             [
              0.2222222222222222,
              "#7201a8"
             ],
             [
              0.3333333333333333,
              "#9c179e"
             ],
             [
              0.4444444444444444,
              "#bd3786"
             ],
             [
              0.5555555555555556,
              "#d8576b"
             ],
             [
              0.6666666666666666,
              "#ed7953"
             ],
             [
              0.7777777777777778,
              "#fb9f3a"
             ],
             [
              0.8888888888888888,
              "#fdca26"
             ],
             [
              1,
              "#f0f921"
             ]
            ],
            "type": "histogram2d"
           }
          ],
          "histogram2dcontour": [
           {
            "colorbar": {
             "outlinewidth": 0,
             "ticks": ""
            },
            "colorscale": [
             [
              0,
              "#0d0887"
             ],
             [
              0.1111111111111111,
              "#46039f"
             ],
             [
              0.2222222222222222,
              "#7201a8"
             ],
             [
              0.3333333333333333,
              "#9c179e"
             ],
             [
              0.4444444444444444,
              "#bd3786"
             ],
             [
              0.5555555555555556,
              "#d8576b"
             ],
             [
              0.6666666666666666,
              "#ed7953"
             ],
             [
              0.7777777777777778,
              "#fb9f3a"
             ],
             [
              0.8888888888888888,
              "#fdca26"
             ],
             [
              1,
              "#f0f921"
             ]
            ],
            "type": "histogram2dcontour"
           }
          ],
          "mesh3d": [
           {
            "colorbar": {
             "outlinewidth": 0,
             "ticks": ""
            },
            "type": "mesh3d"
           }
          ],
          "parcoords": [
           {
            "line": {
             "colorbar": {
              "outlinewidth": 0,
              "ticks": ""
             }
            },
            "type": "parcoords"
           }
          ],
          "pie": [
           {
            "automargin": true,
            "type": "pie"
           }
          ],
          "scatter": [
           {
            "fillpattern": {
             "fillmode": "overlay",
             "size": 10,
             "solidity": 0.2
            },
            "type": "scatter"
           }
          ],
          "scatter3d": [
           {
            "line": {
             "colorbar": {
              "outlinewidth": 0,
              "ticks": ""
             }
            },
            "marker": {
             "colorbar": {
              "outlinewidth": 0,
              "ticks": ""
             }
            },
            "type": "scatter3d"
           }
          ],
          "scattercarpet": [
           {
            "marker": {
             "colorbar": {
              "outlinewidth": 0,
              "ticks": ""
             }
            },
            "type": "scattercarpet"
           }
          ],
          "scattergeo": [
           {
            "marker": {
             "colorbar": {
              "outlinewidth": 0,
              "ticks": ""
             }
            },
            "type": "scattergeo"
           }
          ],
          "scattergl": [
           {
            "marker": {
             "colorbar": {
              "outlinewidth": 0,
              "ticks": ""
             }
            },
            "type": "scattergl"
           }
          ],
          "scattermapbox": [
           {
            "marker": {
             "colorbar": {
              "outlinewidth": 0,
              "ticks": ""
             }
            },
            "type": "scattermapbox"
           }
          ],
          "scatterpolar": [
           {
            "marker": {
             "colorbar": {
              "outlinewidth": 0,
              "ticks": ""
             }
            },
            "type": "scatterpolar"
           }
          ],
          "scatterpolargl": [
           {
            "marker": {
             "colorbar": {
              "outlinewidth": 0,
              "ticks": ""
             }
            },
            "type": "scatterpolargl"
           }
          ],
          "scatterternary": [
           {
            "marker": {
             "colorbar": {
              "outlinewidth": 0,
              "ticks": ""
             }
            },
            "type": "scatterternary"
           }
          ],
          "surface": [
           {
            "colorbar": {
             "outlinewidth": 0,
             "ticks": ""
            },
            "colorscale": [
             [
              0,
              "#0d0887"
             ],
             [
              0.1111111111111111,
              "#46039f"
             ],
             [
              0.2222222222222222,
              "#7201a8"
             ],
             [
              0.3333333333333333,
              "#9c179e"
             ],
             [
              0.4444444444444444,
              "#bd3786"
             ],
             [
              0.5555555555555556,
              "#d8576b"
             ],
             [
              0.6666666666666666,
              "#ed7953"
             ],
             [
              0.7777777777777778,
              "#fb9f3a"
             ],
             [
              0.8888888888888888,
              "#fdca26"
             ],
             [
              1,
              "#f0f921"
             ]
            ],
            "type": "surface"
           }
          ],
          "table": [
           {
            "cells": {
             "fill": {
              "color": "#EBF0F8"
             },
             "line": {
              "color": "white"
             }
            },
            "header": {
             "fill": {
              "color": "#C8D4E3"
             },
             "line": {
              "color": "white"
             }
            },
            "type": "table"
           }
          ]
         },
         "layout": {
          "annotationdefaults": {
           "arrowcolor": "#2a3f5f",
           "arrowhead": 0,
           "arrowwidth": 1
          },
          "autotypenumbers": "strict",
          "coloraxis": {
           "colorbar": {
            "outlinewidth": 0,
            "ticks": ""
           }
          },
          "colorscale": {
           "diverging": [
            [
             0,
             "#8e0152"
            ],
            [
             0.1,
             "#c51b7d"
            ],
            [
             0.2,
             "#de77ae"
            ],
            [
             0.3,
             "#f1b6da"
            ],
            [
             0.4,
             "#fde0ef"
            ],
            [
             0.5,
             "#f7f7f7"
            ],
            [
             0.6,
             "#e6f5d0"
            ],
            [
             0.7,
             "#b8e186"
            ],
            [
             0.8,
             "#7fbc41"
            ],
            [
             0.9,
             "#4d9221"
            ],
            [
             1,
             "#276419"
            ]
           ],
           "sequential": [
            [
             0,
             "#0d0887"
            ],
            [
             0.1111111111111111,
             "#46039f"
            ],
            [
             0.2222222222222222,
             "#7201a8"
            ],
            [
             0.3333333333333333,
             "#9c179e"
            ],
            [
             0.4444444444444444,
             "#bd3786"
            ],
            [
             0.5555555555555556,
             "#d8576b"
            ],
            [
             0.6666666666666666,
             "#ed7953"
            ],
            [
             0.7777777777777778,
             "#fb9f3a"
            ],
            [
             0.8888888888888888,
             "#fdca26"
            ],
            [
             1,
             "#f0f921"
            ]
           ],
           "sequentialminus": [
            [
             0,
             "#0d0887"
            ],
            [
             0.1111111111111111,
             "#46039f"
            ],
            [
             0.2222222222222222,
             "#7201a8"
            ],
            [
             0.3333333333333333,
             "#9c179e"
            ],
            [
             0.4444444444444444,
             "#bd3786"
            ],
            [
             0.5555555555555556,
             "#d8576b"
            ],
            [
             0.6666666666666666,
             "#ed7953"
            ],
            [
             0.7777777777777778,
             "#fb9f3a"
            ],
            [
             0.8888888888888888,
             "#fdca26"
            ],
            [
             1,
             "#f0f921"
            ]
           ]
          },
          "colorway": [
           "#636efa",
           "#EF553B",
           "#00cc96",
           "#ab63fa",
           "#FFA15A",
           "#19d3f3",
           "#FF6692",
           "#B6E880",
           "#FF97FF",
           "#FECB52"
          ],
          "font": {
           "color": "#2a3f5f"
          },
          "geo": {
           "bgcolor": "white",
           "lakecolor": "white",
           "landcolor": "#E5ECF6",
           "showlakes": true,
           "showland": true,
           "subunitcolor": "white"
          },
          "hoverlabel": {
           "align": "left"
          },
          "hovermode": "closest",
          "mapbox": {
           "style": "light"
          },
          "paper_bgcolor": "white",
          "plot_bgcolor": "#E5ECF6",
          "polar": {
           "angularaxis": {
            "gridcolor": "white",
            "linecolor": "white",
            "ticks": ""
           },
           "bgcolor": "#E5ECF6",
           "radialaxis": {
            "gridcolor": "white",
            "linecolor": "white",
            "ticks": ""
           }
          },
          "scene": {
           "xaxis": {
            "backgroundcolor": "#E5ECF6",
            "gridcolor": "white",
            "gridwidth": 2,
            "linecolor": "white",
            "showbackground": true,
            "ticks": "",
            "zerolinecolor": "white"
           },
           "yaxis": {
            "backgroundcolor": "#E5ECF6",
            "gridcolor": "white",
            "gridwidth": 2,
            "linecolor": "white",
            "showbackground": true,
            "ticks": "",
            "zerolinecolor": "white"
           },
           "zaxis": {
            "backgroundcolor": "#E5ECF6",
            "gridcolor": "white",
            "gridwidth": 2,
            "linecolor": "white",
            "showbackground": true,
            "ticks": "",
            "zerolinecolor": "white"
           }
          },
          "shapedefaults": {
           "line": {
            "color": "#2a3f5f"
           }
          },
          "ternary": {
           "aaxis": {
            "gridcolor": "white",
            "linecolor": "white",
            "ticks": ""
           },
           "baxis": {
            "gridcolor": "white",
            "linecolor": "white",
            "ticks": ""
           },
           "bgcolor": "#E5ECF6",
           "caxis": {
            "gridcolor": "white",
            "linecolor": "white",
            "ticks": ""
           }
          },
          "title": {
           "x": 0.05
          },
          "xaxis": {
           "automargin": true,
           "gridcolor": "white",
           "linecolor": "white",
           "ticks": "",
           "title": {
            "standoff": 15
           },
           "zerolinecolor": "white",
           "zerolinewidth": 2
          },
          "yaxis": {
           "automargin": true,
           "gridcolor": "white",
           "linecolor": "white",
           "ticks": "",
           "title": {
            "standoff": 15
           },
           "zerolinecolor": "white",
           "zerolinewidth": 2
          }
         }
        },
        "title": {
         "text": "Distribución de Tipos de Transacción (Horizontal)"
        },
        "width": 800,
        "xaxis": {
         "anchor": "y",
         "domain": [
          0,
          1
         ],
         "title": {
          "text": "Número de Transacciones"
         }
        },
        "yaxis": {
         "anchor": "x",
         "categoryarray": [
          "DEBIT",
          "TRANSFER",
          "CASH_IN",
          "PAYMENT",
          "CASH_OUT"
         ],
         "categoryorder": "array",
         "domain": [
          0,
          1
         ],
         "title": {
          "text": "Tipo de Transacción"
         }
        }
       }
      }
     },
     "metadata": {},
     "output_type": "display_data"
    }
   ],
   "source": [
    "# Gráfico para visualizar la distribución del tipo de transferencias\n",
    "counts = df['tipo'].value_counts().reset_index()\n",
    "counts.columns = ['tipo', 'frecuencia']\n",
    "color_palette = ['#264653', '#2a9d8f', '#e9c46a', '#f4a261', '#e76f51']\n",
    "\n",
    "fig = px.bar(\n",
    "    counts,\n",
    "    x='frecuencia',\n",
    "    y='tipo',\n",
    "    orientation='h',\n",
    "    color='tipo',\n",
    "    color_discrete_sequence=color_palette,\n",
    "    title='Distribución de Tipos de Transacción (Horizontal)',\n",
    "    labels={\n",
    "        'tipo': 'Tipo de Transacción',\n",
    "        'frecuencia': 'Número de Transacciones'\n",
    "    }\n",
    ")\n",
    "\n",
    "fig.update_layout(\n",
    "    width=800,     # Ajustar ancho\n",
    "    height=600,    # Ajustar alto\n",
    "    bargap=0.2     # Espacio entre barras\n",
    ")\n",
    "\n",
    "fig.show()\n"
   ]
  },
  {
   "cell_type": "markdown",
   "metadata": {},
   "source": [
    "## 💱 Tipo de operaciones comunes a fraude"
   ]
  },
  {
   "cell_type": "code",
   "execution_count": 14,
   "metadata": {},
   "outputs": [
    {
     "data": {
      "application/vnd.plotly.v1+json": {
       "config": {
        "plotlyServerURL": "https://plot.ly"
       },
       "data": [
        {
         "alignmentgroup": "True",
         "hovertemplate": "Tipo de Transacción=%{x}<br>Número de Transacciones=%{y}<extra></extra>",
         "legendgroup": "CASH_OUT",
         "marker": {
          "color": "#264653",
          "pattern": {
           "shape": ""
          }
         },
         "name": "CASH_OUT",
         "offsetgroup": "CASH_OUT",
         "orientation": "v",
         "showlegend": true,
         "textposition": "auto",
         "type": "bar",
         "x": [
          "CASH_OUT"
         ],
         "xaxis": "x",
         "y": [
          4114
         ],
         "yaxis": "y"
        },
        {
         "alignmentgroup": "True",
         "hovertemplate": "Tipo de Transacción=%{x}<br>Número de Transacciones=%{y}<extra></extra>",
         "legendgroup": "TRANSFER",
         "marker": {
          "color": "#2a9d8f",
          "pattern": {
           "shape": ""
          }
         },
         "name": "TRANSFER",
         "offsetgroup": "TRANSFER",
         "orientation": "v",
         "showlegend": true,
         "textposition": "auto",
         "type": "bar",
         "x": [
          "TRANSFER"
         ],
         "xaxis": "x",
         "y": [
          4095
         ],
         "yaxis": "y"
        }
       ],
       "layout": {
        "bargap": 0.2,
        "barmode": "relative",
        "height": 600,
        "legend": {
         "title": {
          "text": "Tipo de Transacción"
         },
         "tracegroupgap": 0
        },
        "template": {
         "data": {
          "bar": [
           {
            "error_x": {
             "color": "#2a3f5f"
            },
            "error_y": {
             "color": "#2a3f5f"
            },
            "marker": {
             "line": {
              "color": "#E5ECF6",
              "width": 0.5
             },
             "pattern": {
              "fillmode": "overlay",
              "size": 10,
              "solidity": 0.2
             }
            },
            "type": "bar"
           }
          ],
          "barpolar": [
           {
            "marker": {
             "line": {
              "color": "#E5ECF6",
              "width": 0.5
             },
             "pattern": {
              "fillmode": "overlay",
              "size": 10,
              "solidity": 0.2
             }
            },
            "type": "barpolar"
           }
          ],
          "carpet": [
           {
            "aaxis": {
             "endlinecolor": "#2a3f5f",
             "gridcolor": "white",
             "linecolor": "white",
             "minorgridcolor": "white",
             "startlinecolor": "#2a3f5f"
            },
            "baxis": {
             "endlinecolor": "#2a3f5f",
             "gridcolor": "white",
             "linecolor": "white",
             "minorgridcolor": "white",
             "startlinecolor": "#2a3f5f"
            },
            "type": "carpet"
           }
          ],
          "choropleth": [
           {
            "colorbar": {
             "outlinewidth": 0,
             "ticks": ""
            },
            "type": "choropleth"
           }
          ],
          "contour": [
           {
            "colorbar": {
             "outlinewidth": 0,
             "ticks": ""
            },
            "colorscale": [
             [
              0,
              "#0d0887"
             ],
             [
              0.1111111111111111,
              "#46039f"
             ],
             [
              0.2222222222222222,
              "#7201a8"
             ],
             [
              0.3333333333333333,
              "#9c179e"
             ],
             [
              0.4444444444444444,
              "#bd3786"
             ],
             [
              0.5555555555555556,
              "#d8576b"
             ],
             [
              0.6666666666666666,
              "#ed7953"
             ],
             [
              0.7777777777777778,
              "#fb9f3a"
             ],
             [
              0.8888888888888888,
              "#fdca26"
             ],
             [
              1,
              "#f0f921"
             ]
            ],
            "type": "contour"
           }
          ],
          "contourcarpet": [
           {
            "colorbar": {
             "outlinewidth": 0,
             "ticks": ""
            },
            "type": "contourcarpet"
           }
          ],
          "heatmap": [
           {
            "colorbar": {
             "outlinewidth": 0,
             "ticks": ""
            },
            "colorscale": [
             [
              0,
              "#0d0887"
             ],
             [
              0.1111111111111111,
              "#46039f"
             ],
             [
              0.2222222222222222,
              "#7201a8"
             ],
             [
              0.3333333333333333,
              "#9c179e"
             ],
             [
              0.4444444444444444,
              "#bd3786"
             ],
             [
              0.5555555555555556,
              "#d8576b"
             ],
             [
              0.6666666666666666,
              "#ed7953"
             ],
             [
              0.7777777777777778,
              "#fb9f3a"
             ],
             [
              0.8888888888888888,
              "#fdca26"
             ],
             [
              1,
              "#f0f921"
             ]
            ],
            "type": "heatmap"
           }
          ],
          "heatmapgl": [
           {
            "colorbar": {
             "outlinewidth": 0,
             "ticks": ""
            },
            "colorscale": [
             [
              0,
              "#0d0887"
             ],
             [
              0.1111111111111111,
              "#46039f"
             ],
             [
              0.2222222222222222,
              "#7201a8"
             ],
             [
              0.3333333333333333,
              "#9c179e"
             ],
             [
              0.4444444444444444,
              "#bd3786"
             ],
             [
              0.5555555555555556,
              "#d8576b"
             ],
             [
              0.6666666666666666,
              "#ed7953"
             ],
             [
              0.7777777777777778,
              "#fb9f3a"
             ],
             [
              0.8888888888888888,
              "#fdca26"
             ],
             [
              1,
              "#f0f921"
             ]
            ],
            "type": "heatmapgl"
           }
          ],
          "histogram": [
           {
            "marker": {
             "pattern": {
              "fillmode": "overlay",
              "size": 10,
              "solidity": 0.2
             }
            },
            "type": "histogram"
           }
          ],
          "histogram2d": [
           {
            "colorbar": {
             "outlinewidth": 0,
             "ticks": ""
            },
            "colorscale": [
             [
              0,
              "#0d0887"
             ],
             [
              0.1111111111111111,
              "#46039f"
             ],
             [
              0.2222222222222222,
              "#7201a8"
             ],
             [
              0.3333333333333333,
              "#9c179e"
             ],
             [
              0.4444444444444444,
              "#bd3786"
             ],
             [
              0.5555555555555556,
              "#d8576b"
             ],
             [
              0.6666666666666666,
              "#ed7953"
             ],
             [
              0.7777777777777778,
              "#fb9f3a"
             ],
             [
              0.8888888888888888,
              "#fdca26"
             ],
             [
              1,
              "#f0f921"
             ]
            ],
            "type": "histogram2d"
           }
          ],
          "histogram2dcontour": [
           {
            "colorbar": {
             "outlinewidth": 0,
             "ticks": ""
            },
            "colorscale": [
             [
              0,
              "#0d0887"
             ],
             [
              0.1111111111111111,
              "#46039f"
             ],
             [
              0.2222222222222222,
              "#7201a8"
             ],
             [
              0.3333333333333333,
              "#9c179e"
             ],
             [
              0.4444444444444444,
              "#bd3786"
             ],
             [
              0.5555555555555556,
              "#d8576b"
             ],
             [
              0.6666666666666666,
              "#ed7953"
             ],
             [
              0.7777777777777778,
              "#fb9f3a"
             ],
             [
              0.8888888888888888,
              "#fdca26"
             ],
             [
              1,
              "#f0f921"
             ]
            ],
            "type": "histogram2dcontour"
           }
          ],
          "mesh3d": [
           {
            "colorbar": {
             "outlinewidth": 0,
             "ticks": ""
            },
            "type": "mesh3d"
           }
          ],
          "parcoords": [
           {
            "line": {
             "colorbar": {
              "outlinewidth": 0,
              "ticks": ""
             }
            },
            "type": "parcoords"
           }
          ],
          "pie": [
           {
            "automargin": true,
            "type": "pie"
           }
          ],
          "scatter": [
           {
            "fillpattern": {
             "fillmode": "overlay",
             "size": 10,
             "solidity": 0.2
            },
            "type": "scatter"
           }
          ],
          "scatter3d": [
           {
            "line": {
             "colorbar": {
              "outlinewidth": 0,
              "ticks": ""
             }
            },
            "marker": {
             "colorbar": {
              "outlinewidth": 0,
              "ticks": ""
             }
            },
            "type": "scatter3d"
           }
          ],
          "scattercarpet": [
           {
            "marker": {
             "colorbar": {
              "outlinewidth": 0,
              "ticks": ""
             }
            },
            "type": "scattercarpet"
           }
          ],
          "scattergeo": [
           {
            "marker": {
             "colorbar": {
              "outlinewidth": 0,
              "ticks": ""
             }
            },
            "type": "scattergeo"
           }
          ],
          "scattergl": [
           {
            "marker": {
             "colorbar": {
              "outlinewidth": 0,
              "ticks": ""
             }
            },
            "type": "scattergl"
           }
          ],
          "scattermapbox": [
           {
            "marker": {
             "colorbar": {
              "outlinewidth": 0,
              "ticks": ""
             }
            },
            "type": "scattermapbox"
           }
          ],
          "scatterpolar": [
           {
            "marker": {
             "colorbar": {
              "outlinewidth": 0,
              "ticks": ""
             }
            },
            "type": "scatterpolar"
           }
          ],
          "scatterpolargl": [
           {
            "marker": {
             "colorbar": {
              "outlinewidth": 0,
              "ticks": ""
             }
            },
            "type": "scatterpolargl"
           }
          ],
          "scatterternary": [
           {
            "marker": {
             "colorbar": {
              "outlinewidth": 0,
              "ticks": ""
             }
            },
            "type": "scatterternary"
           }
          ],
          "surface": [
           {
            "colorbar": {
             "outlinewidth": 0,
             "ticks": ""
            },
            "colorscale": [
             [
              0,
              "#0d0887"
             ],
             [
              0.1111111111111111,
              "#46039f"
             ],
             [
              0.2222222222222222,
              "#7201a8"
             ],
             [
              0.3333333333333333,
              "#9c179e"
             ],
             [
              0.4444444444444444,
              "#bd3786"
             ],
             [
              0.5555555555555556,
              "#d8576b"
             ],
             [
              0.6666666666666666,
              "#ed7953"
             ],
             [
              0.7777777777777778,
              "#fb9f3a"
             ],
             [
              0.8888888888888888,
              "#fdca26"
             ],
             [
              1,
              "#f0f921"
             ]
            ],
            "type": "surface"
           }
          ],
          "table": [
           {
            "cells": {
             "fill": {
              "color": "#EBF0F8"
             },
             "line": {
              "color": "white"
             }
            },
            "header": {
             "fill": {
              "color": "#C8D4E3"
             },
             "line": {
              "color": "white"
             }
            },
            "type": "table"
           }
          ]
         },
         "layout": {
          "annotationdefaults": {
           "arrowcolor": "#2a3f5f",
           "arrowhead": 0,
           "arrowwidth": 1
          },
          "autotypenumbers": "strict",
          "coloraxis": {
           "colorbar": {
            "outlinewidth": 0,
            "ticks": ""
           }
          },
          "colorscale": {
           "diverging": [
            [
             0,
             "#8e0152"
            ],
            [
             0.1,
             "#c51b7d"
            ],
            [
             0.2,
             "#de77ae"
            ],
            [
             0.3,
             "#f1b6da"
            ],
            [
             0.4,
             "#fde0ef"
            ],
            [
             0.5,
             "#f7f7f7"
            ],
            [
             0.6,
             "#e6f5d0"
            ],
            [
             0.7,
             "#b8e186"
            ],
            [
             0.8,
             "#7fbc41"
            ],
            [
             0.9,
             "#4d9221"
            ],
            [
             1,
             "#276419"
            ]
           ],
           "sequential": [
            [
             0,
             "#0d0887"
            ],
            [
             0.1111111111111111,
             "#46039f"
            ],
            [
             0.2222222222222222,
             "#7201a8"
            ],
            [
             0.3333333333333333,
             "#9c179e"
            ],
            [
             0.4444444444444444,
             "#bd3786"
            ],
            [
             0.5555555555555556,
             "#d8576b"
            ],
            [
             0.6666666666666666,
             "#ed7953"
            ],
            [
             0.7777777777777778,
             "#fb9f3a"
            ],
            [
             0.8888888888888888,
             "#fdca26"
            ],
            [
             1,
             "#f0f921"
            ]
           ],
           "sequentialminus": [
            [
             0,
             "#0d0887"
            ],
            [
             0.1111111111111111,
             "#46039f"
            ],
            [
             0.2222222222222222,
             "#7201a8"
            ],
            [
             0.3333333333333333,
             "#9c179e"
            ],
            [
             0.4444444444444444,
             "#bd3786"
            ],
            [
             0.5555555555555556,
             "#d8576b"
            ],
            [
             0.6666666666666666,
             "#ed7953"
            ],
            [
             0.7777777777777778,
             "#fb9f3a"
            ],
            [
             0.8888888888888888,
             "#fdca26"
            ],
            [
             1,
             "#f0f921"
            ]
           ]
          },
          "colorway": [
           "#636efa",
           "#EF553B",
           "#00cc96",
           "#ab63fa",
           "#FFA15A",
           "#19d3f3",
           "#FF6692",
           "#B6E880",
           "#FF97FF",
           "#FECB52"
          ],
          "font": {
           "color": "#2a3f5f"
          },
          "geo": {
           "bgcolor": "white",
           "lakecolor": "white",
           "landcolor": "#E5ECF6",
           "showlakes": true,
           "showland": true,
           "subunitcolor": "white"
          },
          "hoverlabel": {
           "align": "left"
          },
          "hovermode": "closest",
          "mapbox": {
           "style": "light"
          },
          "paper_bgcolor": "white",
          "plot_bgcolor": "#E5ECF6",
          "polar": {
           "angularaxis": {
            "gridcolor": "white",
            "linecolor": "white",
            "ticks": ""
           },
           "bgcolor": "#E5ECF6",
           "radialaxis": {
            "gridcolor": "white",
            "linecolor": "white",
            "ticks": ""
           }
          },
          "scene": {
           "xaxis": {
            "backgroundcolor": "#E5ECF6",
            "gridcolor": "white",
            "gridwidth": 2,
            "linecolor": "white",
            "showbackground": true,
            "ticks": "",
            "zerolinecolor": "white"
           },
           "yaxis": {
            "backgroundcolor": "#E5ECF6",
            "gridcolor": "white",
            "gridwidth": 2,
            "linecolor": "white",
            "showbackground": true,
            "ticks": "",
            "zerolinecolor": "white"
           },
           "zaxis": {
            "backgroundcolor": "#E5ECF6",
            "gridcolor": "white",
            "gridwidth": 2,
            "linecolor": "white",
            "showbackground": true,
            "ticks": "",
            "zerolinecolor": "white"
           }
          },
          "shapedefaults": {
           "line": {
            "color": "#2a3f5f"
           }
          },
          "ternary": {
           "aaxis": {
            "gridcolor": "white",
            "linecolor": "white",
            "ticks": ""
           },
           "baxis": {
            "gridcolor": "white",
            "linecolor": "white",
            "ticks": ""
           },
           "bgcolor": "#E5ECF6",
           "caxis": {
            "gridcolor": "white",
            "linecolor": "white",
            "ticks": ""
           }
          },
          "title": {
           "x": 0.05
          },
          "xaxis": {
           "automargin": true,
           "gridcolor": "white",
           "linecolor": "white",
           "ticks": "",
           "title": {
            "standoff": 15
           },
           "zerolinecolor": "white",
           "zerolinewidth": 2
          },
          "yaxis": {
           "automargin": true,
           "gridcolor": "white",
           "linecolor": "white",
           "ticks": "",
           "title": {
            "standoff": 15
           },
           "zerolinecolor": "white",
           "zerolinewidth": 2
          }
         }
        },
        "title": {
         "text": "Distribución de Tipos de Transacción Fraudulenta"
        },
        "width": 600,
        "xaxis": {
         "anchor": "y",
         "categoryarray": [
          "CASH_OUT",
          "TRANSFER"
         ],
         "categoryorder": "array",
         "domain": [
          0,
          1
         ],
         "title": {
          "text": "Tipo de Transacción"
         }
        },
        "yaxis": {
         "anchor": "x",
         "domain": [
          0,
          1
         ],
         "title": {
          "text": "Número de Transacciones"
         }
        }
       }
      }
     },
     "metadata": {},
     "output_type": "display_data"
    }
   ],
   "source": [
    "# Gráfico para visualizar la distribución del tipo de transacción fraudulenta\n",
    "counts = df[df['es_fraude'] == 1]['tipo'].value_counts().reset_index()\n",
    "counts.columns = ['tipo', 'frecuencia']\n",
    "color_palette = ['#264653', '#2a9d8f', '#e9c46a', '#f4a261', '#e76f51']\n",
    "\n",
    "fig = px.bar(\n",
    "    counts,\n",
    "    x='tipo',\n",
    "    y='frecuencia',\n",
    "    color='tipo',\n",
    "    color_discrete_sequence=color_palette,\n",
    "    title='Distribución de Tipos de Transacción Fraudulenta',\n",
    "    labels={\n",
    "        'tipo': 'Tipo de Transacción',\n",
    "        'frecuencia': 'Número de Transacciones'\n",
    "    }\n",
    ")\n",
    "\n",
    "fig.update_layout(\n",
    "    width=600,     # Ajustar ancho\n",
    "    height=600,    # Ajustar alto\n",
    "    bargap=0.2     # Espacio entre barras\n",
    ")\n",
    "\n",
    "fig.show()"
   ]
  },
  {
   "cell_type": "raw",
   "metadata": {
    "vscode": {
     "languageId": "raw"
    }
   },
   "source": [
    "Este gráfico revela una información importante. Las transacciones fraudulentas solo son de tipo CASH_OUT (retiradas de dinero) y\n",
    "de tipo TRANSFER (tranferencias a otras cuentas)."
   ]
  },
  {
   "cell_type": "code",
   "execution_count": 14,
   "metadata": {},
   "outputs": [
    {
     "data": {
      "text/html": [
       "<div>\n",
       "<style scoped>\n",
       "    .dataframe tbody tr th:only-of-type {\n",
       "        vertical-align: middle;\n",
       "    }\n",
       "\n",
       "    .dataframe tbody tr th {\n",
       "        vertical-align: top;\n",
       "    }\n",
       "\n",
       "    .dataframe thead th {\n",
       "        text-align: right;\n",
       "    }\n",
       "</style>\n",
       "<table border=\"1\" class=\"dataframe\">\n",
       "  <thead>\n",
       "    <tr style=\"text-align: right;\">\n",
       "      <th></th>\n",
       "      <th>t_id</th>\n",
       "      <th>origen</th>\n",
       "      <th>destino</th>\n",
       "      <th>cuantia</th>\n",
       "      <th>es_fraude</th>\n",
       "      <th>mensaje_alarma</th>\n",
       "      <th>hora_transaccion</th>\n",
       "      <th>tipo</th>\n",
       "      <th>balance_prev_or</th>\n",
       "      <th>balance_post_or</th>\n",
       "      <th>balance_prev_des</th>\n",
       "      <th>balance_post_des</th>\n",
       "    </tr>\n",
       "  </thead>\n",
       "  <tbody>\n",
       "    <tr>\n",
       "      <th>1059483</th>\n",
       "      <td>1059502</td>\n",
       "      <td>C1514427330</td>\n",
       "      <td>C2103550727</td>\n",
       "      <td>4589441.44</td>\n",
       "      <td>1</td>\n",
       "      <td>No_detectado_fraude</td>\n",
       "      <td>2022-09-05 10:00:00</td>\n",
       "      <td>TRANSFER</td>\n",
       "      <td>4589441.44</td>\n",
       "      <td>0.00</td>\n",
       "      <td>0.00</td>\n",
       "      <td>0.00</td>\n",
       "    </tr>\n",
       "    <tr>\n",
       "      <th>6008331</th>\n",
       "      <td>6008425</td>\n",
       "      <td>C1606056333</td>\n",
       "      <td>C2110335244</td>\n",
       "      <td>2040374.55</td>\n",
       "      <td>1</td>\n",
       "      <td>No_detectado_fraude</td>\n",
       "      <td>2022-09-19 09:00:00</td>\n",
       "      <td>CASH_OUT</td>\n",
       "      <td>2040374.55</td>\n",
       "      <td>0.00</td>\n",
       "      <td>50729.93</td>\n",
       "      <td>2091104.48</td>\n",
       "    </tr>\n",
       "    <tr>\n",
       "      <th>6296561</th>\n",
       "      <td>6296661</td>\n",
       "      <td>C1561550785</td>\n",
       "      <td>C1078506798</td>\n",
       "      <td>327773.15</td>\n",
       "      <td>1</td>\n",
       "      <td>No_detectado_fraude</td>\n",
       "      <td>2022-09-29 11:00:00</td>\n",
       "      <td>CASH_OUT</td>\n",
       "      <td>327773.15</td>\n",
       "      <td>0.00</td>\n",
       "      <td>696949.46</td>\n",
       "      <td>1024722.61</td>\n",
       "    </tr>\n",
       "    <tr>\n",
       "      <th>1932166</th>\n",
       "      <td>1932202</td>\n",
       "      <td>C450561445</td>\n",
       "      <td>C1075348177</td>\n",
       "      <td>2177218.43</td>\n",
       "      <td>1</td>\n",
       "      <td>No_detectado_fraude</td>\n",
       "      <td>2022-09-08 12:00:00</td>\n",
       "      <td>CASH_OUT</td>\n",
       "      <td>2177218.43</td>\n",
       "      <td>0.00</td>\n",
       "      <td>0.00</td>\n",
       "      <td>2177218.43</td>\n",
       "    </tr>\n",
       "    <tr>\n",
       "      <th>6361621</th>\n",
       "      <td>6361721</td>\n",
       "      <td>C48892155</td>\n",
       "      <td>C281499391</td>\n",
       "      <td>10000000.00</td>\n",
       "      <td>1</td>\n",
       "      <td>No_detectado_fraude</td>\n",
       "      <td>2022-10-01 05:00:00</td>\n",
       "      <td>TRANSFER</td>\n",
       "      <td>19749042.95</td>\n",
       "      <td>9749042.95</td>\n",
       "      <td>0.00</td>\n",
       "      <td>0.00</td>\n",
       "    </tr>\n",
       "    <tr>\n",
       "      <th>33912</th>\n",
       "      <td>33913</td>\n",
       "      <td>C1825456600</td>\n",
       "      <td>C570409417</td>\n",
       "      <td>29707.86</td>\n",
       "      <td>1</td>\n",
       "      <td>No_detectado_fraude</td>\n",
       "      <td>2022-09-01 15:00:00</td>\n",
       "      <td>TRANSFER</td>\n",
       "      <td>29707.86</td>\n",
       "      <td>0.00</td>\n",
       "      <td>0.00</td>\n",
       "      <td>0.00</td>\n",
       "    </tr>\n",
       "    <tr>\n",
       "      <th>6010766</th>\n",
       "      <td>6010860</td>\n",
       "      <td>C1855594531</td>\n",
       "      <td>C301687974</td>\n",
       "      <td>10000000.00</td>\n",
       "      <td>1</td>\n",
       "      <td>No_detectado_fraude</td>\n",
       "      <td>2022-09-19 19:00:00</td>\n",
       "      <td>CASH_OUT</td>\n",
       "      <td>10000000.00</td>\n",
       "      <td>0.00</td>\n",
       "      <td>185609.51</td>\n",
       "      <td>10185609.51</td>\n",
       "    </tr>\n",
       "    <tr>\n",
       "      <th>2382130</th>\n",
       "      <td>2382172</td>\n",
       "      <td>C1950985216</td>\n",
       "      <td>C1535946302</td>\n",
       "      <td>295054.68</td>\n",
       "      <td>1</td>\n",
       "      <td>No_detectado_fraude</td>\n",
       "      <td>2022-09-09 14:00:00</td>\n",
       "      <td>TRANSFER</td>\n",
       "      <td>295054.68</td>\n",
       "      <td>0.00</td>\n",
       "      <td>0.00</td>\n",
       "      <td>0.00</td>\n",
       "    </tr>\n",
       "    <tr>\n",
       "      <th>6062003</th>\n",
       "      <td>6062097</td>\n",
       "      <td>C1980530073</td>\n",
       "      <td>C1685608858</td>\n",
       "      <td>66066.73</td>\n",
       "      <td>1</td>\n",
       "      <td>No_detectado_fraude</td>\n",
       "      <td>2022-09-22 05:00:00</td>\n",
       "      <td>TRANSFER</td>\n",
       "      <td>66066.73</td>\n",
       "      <td>0.00</td>\n",
       "      <td>0.00</td>\n",
       "      <td>0.00</td>\n",
       "    </tr>\n",
       "    <tr>\n",
       "      <th>4315366</th>\n",
       "      <td>4315436</td>\n",
       "      <td>C2030660606</td>\n",
       "      <td>C1098443300</td>\n",
       "      <td>6647155.99</td>\n",
       "      <td>1</td>\n",
       "      <td>No_detectado_fraude</td>\n",
       "      <td>2022-09-14 03:00:00</td>\n",
       "      <td>CASH_OUT</td>\n",
       "      <td>6647155.99</td>\n",
       "      <td>0.00</td>\n",
       "      <td>0.00</td>\n",
       "      <td>6647155.99</td>\n",
       "    </tr>\n",
       "  </tbody>\n",
       "</table>\n",
       "</div>"
      ],
      "text/plain": [
       "            t_id       origen      destino      cuantia  es_fraude  \\\n",
       "1059483  1059502  C1514427330  C2103550727   4589441.44          1   \n",
       "6008331  6008425  C1606056333  C2110335244   2040374.55          1   \n",
       "6296561  6296661  C1561550785  C1078506798    327773.15          1   \n",
       "1932166  1932202   C450561445  C1075348177   2177218.43          1   \n",
       "6361621  6361721    C48892155   C281499391  10000000.00          1   \n",
       "33912      33913  C1825456600   C570409417     29707.86          1   \n",
       "6010766  6010860  C1855594531   C301687974  10000000.00          1   \n",
       "2382130  2382172  C1950985216  C1535946302    295054.68          1   \n",
       "6062003  6062097  C1980530073  C1685608858     66066.73          1   \n",
       "4315366  4315436  C2030660606  C1098443300   6647155.99          1   \n",
       "\n",
       "              mensaje_alarma     hora_transaccion      tipo  balance_prev_or  \\\n",
       "1059483  No_detectado_fraude  2022-09-05 10:00:00  TRANSFER       4589441.44   \n",
       "6008331  No_detectado_fraude  2022-09-19 09:00:00  CASH_OUT       2040374.55   \n",
       "6296561  No_detectado_fraude  2022-09-29 11:00:00  CASH_OUT        327773.15   \n",
       "1932166  No_detectado_fraude  2022-09-08 12:00:00  CASH_OUT       2177218.43   \n",
       "6361621  No_detectado_fraude  2022-10-01 05:00:00  TRANSFER      19749042.95   \n",
       "33912    No_detectado_fraude  2022-09-01 15:00:00  TRANSFER         29707.86   \n",
       "6010766  No_detectado_fraude  2022-09-19 19:00:00  CASH_OUT      10000000.00   \n",
       "2382130  No_detectado_fraude  2022-09-09 14:00:00  TRANSFER        295054.68   \n",
       "6062003  No_detectado_fraude  2022-09-22 05:00:00  TRANSFER         66066.73   \n",
       "4315366  No_detectado_fraude  2022-09-14 03:00:00  CASH_OUT       6647155.99   \n",
       "\n",
       "         balance_post_or  balance_prev_des  balance_post_des  \n",
       "1059483             0.00              0.00              0.00  \n",
       "6008331             0.00          50729.93        2091104.48  \n",
       "6296561             0.00         696949.46        1024722.61  \n",
       "1932166             0.00              0.00        2177218.43  \n",
       "6361621       9749042.95              0.00              0.00  \n",
       "33912               0.00              0.00              0.00  \n",
       "6010766             0.00         185609.51       10185609.51  \n",
       "2382130             0.00              0.00              0.00  \n",
       "6062003             0.00              0.00              0.00  \n",
       "4315366             0.00              0.00        6647155.99  "
      ]
     },
     "execution_count": 14,
     "metadata": {},
     "output_type": "execute_result"
    }
   ],
   "source": [
    "df[df['es_fraude'] == 1].sample(10)"
   ]
  },
  {
   "cell_type": "markdown",
   "metadata": {},
   "source": [
    "## 💵 Cuantía vs es_fraude"
   ]
  },
  {
   "cell_type": "raw",
   "metadata": {
    "vscode": {
     "languageId": "raw"
    }
   },
   "source": [
    "En la siguiente gráfica se revela la distribución de cuantía respecto a la cuantía de las transacciones"
   ]
  },
  {
   "cell_type": "code",
   "execution_count": 4,
   "metadata": {},
   "outputs": [
    {
     "data": {
      "text/plain": [
       "<Axes: xlabel='es_fraude', ylabel='cuantia'>"
      ]
     },
     "execution_count": 4,
     "metadata": {},
     "output_type": "execute_result"
    },
    {
     "data": {
      "image/png": "[encoded data removed]",
      "text/plain": [
       "<Figure size 640x480 with 1 Axes>"
      ]
     },
     "metadata": {},
     "output_type": "display_data"
    }
   ],
   "source": [
    "sns.boxplot(x='es_fraude', y='cuantia', data=df[df.cuantia < 1e5], palette={'0': '#264653', '1': '#e76f51'})"
   ]
  },
  {
   "cell_type": "raw",
   "metadata": {
    "vscode": {
     "languageId": "raw"
    }
   },
   "source": [
    "Se aprecia que la cuantia de las transacciones fraudulentas es superior a la de las transacciones no fraudulentas"
   ]
  },
  {
   "cell_type": "markdown",
   "metadata": {},
   "source": [
    "## ⚡Alarma fraude"
   ]
  },
  {
   "cell_type": "code",
   "execution_count": 19,
   "metadata": {},
   "outputs": [
    {
     "data": {
      "text/html": [
       "<div>\n",
       "<style scoped>\n",
       "    .dataframe tbody tr th:only-of-type {\n",
       "        vertical-align: middle;\n",
       "    }\n",
       "\n",
       "    .dataframe tbody tr th {\n",
       "        vertical-align: top;\n",
       "    }\n",
       "\n",
       "    .dataframe thead th {\n",
       "        text-align: right;\n",
       "    }\n",
       "</style>\n",
       "<table border=\"1\" class=\"dataframe\">\n",
       "  <thead>\n",
       "    <tr style=\"text-align: right;\">\n",
       "      <th></th>\n",
       "      <th>t_id</th>\n",
       "      <th>origen</th>\n",
       "      <th>destino</th>\n",
       "      <th>cuantia</th>\n",
       "      <th>es_fraude</th>\n",
       "      <th>mensaje_alarma</th>\n",
       "      <th>hora_transaccion</th>\n",
       "      <th>tipo</th>\n",
       "      <th>balance_prev_or</th>\n",
       "      <th>balance_post_or</th>\n",
       "      <th>balance_prev_des</th>\n",
       "      <th>balance_post_des</th>\n",
       "    </tr>\n",
       "  </thead>\n",
       "  <tbody>\n",
       "    <tr>\n",
       "      <th>2736399</th>\n",
       "      <td>2736446</td>\n",
       "      <td>C728984460</td>\n",
       "      <td>C639921569</td>\n",
       "      <td>4953893.08</td>\n",
       "      <td>1</td>\n",
       "      <td>Detectado_fraude</td>\n",
       "      <td>2022-09-10 03:00:00</td>\n",
       "      <td>TRANSFER</td>\n",
       "      <td>4953893.08</td>\n",
       "      <td>4953893.08</td>\n",
       "      <td>0.0</td>\n",
       "      <td>0.0</td>\n",
       "    </tr>\n",
       "    <tr>\n",
       "      <th>3247240</th>\n",
       "      <td>3247297</td>\n",
       "      <td>C1100582606</td>\n",
       "      <td>C1147517658</td>\n",
       "      <td>1343002.08</td>\n",
       "      <td>1</td>\n",
       "      <td>Detectado_fraude</td>\n",
       "      <td>2022-09-11 17:00:00</td>\n",
       "      <td>TRANSFER</td>\n",
       "      <td>1343002.08</td>\n",
       "      <td>1343002.08</td>\n",
       "      <td>0.0</td>\n",
       "      <td>0.0</td>\n",
       "    </tr>\n",
       "    <tr>\n",
       "      <th>3760224</th>\n",
       "      <td>3760288</td>\n",
       "      <td>C1035541766</td>\n",
       "      <td>C1100697970</td>\n",
       "      <td>536624.41</td>\n",
       "      <td>1</td>\n",
       "      <td>Detectado_fraude</td>\n",
       "      <td>2022-09-12 22:00:00</td>\n",
       "      <td>TRANSFER</td>\n",
       "      <td>536624.41</td>\n",
       "      <td>536624.41</td>\n",
       "      <td>0.0</td>\n",
       "      <td>0.0</td>\n",
       "    </tr>\n",
       "    <tr>\n",
       "      <th>5563622</th>\n",
       "      <td>5563713</td>\n",
       "      <td>C908544136</td>\n",
       "      <td>C891140444</td>\n",
       "      <td>4892193.09</td>\n",
       "      <td>1</td>\n",
       "      <td>Detectado_fraude</td>\n",
       "      <td>2022-09-17 10:00:00</td>\n",
       "      <td>TRANSFER</td>\n",
       "      <td>4892193.09</td>\n",
       "      <td>4892193.09</td>\n",
       "      <td>0.0</td>\n",
       "      <td>0.0</td>\n",
       "    </tr>\n",
       "    <tr>\n",
       "      <th>5996313</th>\n",
       "      <td>5996407</td>\n",
       "      <td>C689608084</td>\n",
       "      <td>C1392803603</td>\n",
       "      <td>10000000.00</td>\n",
       "      <td>1</td>\n",
       "      <td>Detectado_fraude</td>\n",
       "      <td>2022-09-19 00:00:00</td>\n",
       "      <td>TRANSFER</td>\n",
       "      <td>19585040.37</td>\n",
       "      <td>19585040.37</td>\n",
       "      <td>0.0</td>\n",
       "      <td>0.0</td>\n",
       "    </tr>\n",
       "    <tr>\n",
       "      <th>5996315</th>\n",
       "      <td>5996409</td>\n",
       "      <td>C452586515</td>\n",
       "      <td>C1109166882</td>\n",
       "      <td>9585040.37</td>\n",
       "      <td>1</td>\n",
       "      <td>Detectado_fraude</td>\n",
       "      <td>2022-09-19 00:00:00</td>\n",
       "      <td>TRANSFER</td>\n",
       "      <td>19585040.37</td>\n",
       "      <td>19585040.37</td>\n",
       "      <td>0.0</td>\n",
       "      <td>0.0</td>\n",
       "    </tr>\n",
       "    <tr>\n",
       "      <th>6168403</th>\n",
       "      <td>6168499</td>\n",
       "      <td>C193696150</td>\n",
       "      <td>C484597480</td>\n",
       "      <td>3576297.10</td>\n",
       "      <td>1</td>\n",
       "      <td>Detectado_fraude</td>\n",
       "      <td>2022-09-24 09:00:00</td>\n",
       "      <td>TRANSFER</td>\n",
       "      <td>3576297.10</td>\n",
       "      <td>3576297.10</td>\n",
       "      <td>0.0</td>\n",
       "      <td>0.0</td>\n",
       "    </tr>\n",
       "    <tr>\n",
       "      <th>6205342</th>\n",
       "      <td>6205439</td>\n",
       "      <td>C1684585475</td>\n",
       "      <td>C1770418982</td>\n",
       "      <td>353874.22</td>\n",
       "      <td>1</td>\n",
       "      <td>Detectado_fraude</td>\n",
       "      <td>2022-09-25 17:00:00</td>\n",
       "      <td>TRANSFER</td>\n",
       "      <td>353874.22</td>\n",
       "      <td>353874.22</td>\n",
       "      <td>0.0</td>\n",
       "      <td>0.0</td>\n",
       "    </tr>\n",
       "    <tr>\n",
       "      <th>6266315</th>\n",
       "      <td>6266413</td>\n",
       "      <td>C786455622</td>\n",
       "      <td>C661958277</td>\n",
       "      <td>2542664.27</td>\n",
       "      <td>1</td>\n",
       "      <td>Detectado_fraude</td>\n",
       "      <td>2022-09-27 00:00:00</td>\n",
       "      <td>TRANSFER</td>\n",
       "      <td>2542664.27</td>\n",
       "      <td>2542664.27</td>\n",
       "      <td>0.0</td>\n",
       "      <td>0.0</td>\n",
       "    </tr>\n",
       "    <tr>\n",
       "      <th>6281382</th>\n",
       "      <td>6281482</td>\n",
       "      <td>C19004745</td>\n",
       "      <td>C1806199534</td>\n",
       "      <td>10000000.00</td>\n",
       "      <td>1</td>\n",
       "      <td>Detectado_fraude</td>\n",
       "      <td>2022-09-28 05:00:00</td>\n",
       "      <td>TRANSFER</td>\n",
       "      <td>10399045.08</td>\n",
       "      <td>10399045.08</td>\n",
       "      <td>0.0</td>\n",
       "      <td>0.0</td>\n",
       "    </tr>\n",
       "    <tr>\n",
       "      <th>6281384</th>\n",
       "      <td>6281484</td>\n",
       "      <td>C724693370</td>\n",
       "      <td>C1909486199</td>\n",
       "      <td>399045.08</td>\n",
       "      <td>1</td>\n",
       "      <td>Detectado_fraude</td>\n",
       "      <td>2022-09-28 05:00:00</td>\n",
       "      <td>TRANSFER</td>\n",
       "      <td>10399045.08</td>\n",
       "      <td>10399045.08</td>\n",
       "      <td>0.0</td>\n",
       "      <td>0.0</td>\n",
       "    </tr>\n",
       "    <tr>\n",
       "      <th>6295914</th>\n",
       "      <td>6296014</td>\n",
       "      <td>C917414431</td>\n",
       "      <td>C1082139865</td>\n",
       "      <td>3441041.46</td>\n",
       "      <td>1</td>\n",
       "      <td>Detectado_fraude</td>\n",
       "      <td>2022-09-29 06:00:00</td>\n",
       "      <td>TRANSFER</td>\n",
       "      <td>3441041.46</td>\n",
       "      <td>3441041.46</td>\n",
       "      <td>0.0</td>\n",
       "      <td>0.0</td>\n",
       "    </tr>\n",
       "    <tr>\n",
       "      <th>6351125</th>\n",
       "      <td>6351225</td>\n",
       "      <td>C1892216157</td>\n",
       "      <td>C1308068787</td>\n",
       "      <td>3171085.59</td>\n",
       "      <td>1</td>\n",
       "      <td>Detectado_fraude</td>\n",
       "      <td>2022-09-30 13:00:00</td>\n",
       "      <td>TRANSFER</td>\n",
       "      <td>3171085.59</td>\n",
       "      <td>3171085.59</td>\n",
       "      <td>0.0</td>\n",
       "      <td>0.0</td>\n",
       "    </tr>\n",
       "    <tr>\n",
       "      <th>6362360</th>\n",
       "      <td>6362460</td>\n",
       "      <td>C2140038573</td>\n",
       "      <td>C1395467927</td>\n",
       "      <td>10000000.00</td>\n",
       "      <td>1</td>\n",
       "      <td>Detectado_fraude</td>\n",
       "      <td>2022-10-01 17:00:00</td>\n",
       "      <td>TRANSFER</td>\n",
       "      <td>17316255.05</td>\n",
       "      <td>17316255.05</td>\n",
       "      <td>0.0</td>\n",
       "      <td>0.0</td>\n",
       "    </tr>\n",
       "    <tr>\n",
       "      <th>6362362</th>\n",
       "      <td>6362462</td>\n",
       "      <td>C1869569059</td>\n",
       "      <td>C1861208726</td>\n",
       "      <td>7316255.05</td>\n",
       "      <td>1</td>\n",
       "      <td>Detectado_fraude</td>\n",
       "      <td>2022-10-01 17:00:00</td>\n",
       "      <td>TRANSFER</td>\n",
       "      <td>17316255.05</td>\n",
       "      <td>17316255.05</td>\n",
       "      <td>0.0</td>\n",
       "      <td>0.0</td>\n",
       "    </tr>\n",
       "    <tr>\n",
       "      <th>6362484</th>\n",
       "      <td>6362584</td>\n",
       "      <td>C992223106</td>\n",
       "      <td>C1366804249</td>\n",
       "      <td>5674547.89</td>\n",
       "      <td>1</td>\n",
       "      <td>Detectado_fraude</td>\n",
       "      <td>2022-10-02 04:00:00</td>\n",
       "      <td>TRANSFER</td>\n",
       "      <td>5674547.89</td>\n",
       "      <td>5674547.89</td>\n",
       "      <td>0.0</td>\n",
       "      <td>0.0</td>\n",
       "    </tr>\n",
       "  </tbody>\n",
       "</table>\n",
       "</div>"
      ],
      "text/plain": [
       "            t_id       origen      destino      cuantia  es_fraude  \\\n",
       "2736399  2736446   C728984460   C639921569   4953893.08          1   \n",
       "3247240  3247297  C1100582606  C1147517658   1343002.08          1   \n",
       "3760224  3760288  C1035541766  C1100697970    536624.41          1   \n",
       "5563622  5563713   C908544136   C891140444   4892193.09          1   \n",
       "5996313  5996407   C689608084  C1392803603  10000000.00          1   \n",
       "5996315  5996409   C452586515  C1109166882   9585040.37          1   \n",
       "6168403  6168499   C193696150   C484597480   3576297.10          1   \n",
       "6205342  6205439  C1684585475  C1770418982    353874.22          1   \n",
       "6266315  6266413   C786455622   C661958277   2542664.27          1   \n",
       "6281382  6281482    C19004745  C1806199534  10000000.00          1   \n",
       "6281384  6281484   C724693370  C1909486199    399045.08          1   \n",
       "6295914  6296014   C917414431  C1082139865   3441041.46          1   \n",
       "6351125  6351225  C1892216157  C1308068787   3171085.59          1   \n",
       "6362360  6362460  C2140038573  C1395467927  10000000.00          1   \n",
       "6362362  6362462  C1869569059  C1861208726   7316255.05          1   \n",
       "6362484  6362584   C992223106  C1366804249   5674547.89          1   \n",
       "\n",
       "           mensaje_alarma     hora_transaccion      tipo  balance_prev_or  \\\n",
       "2736399  Detectado_fraude  2022-09-10 03:00:00  TRANSFER       4953893.08   \n",
       "3247240  Detectado_fraude  2022-09-11 17:00:00  TRANSFER       1343002.08   \n",
       "3760224  Detectado_fraude  2022-09-12 22:00:00  TRANSFER        536624.41   \n",
       "5563622  Detectado_fraude  2022-09-17 10:00:00  TRANSFER       4892193.09   \n",
       "5996313  Detectado_fraude  2022-09-19 00:00:00  TRANSFER      19585040.37   \n",
       "5996315  Detectado_fraude  2022-09-19 00:00:00  TRANSFER      19585040.37   \n",
       "6168403  Detectado_fraude  2022-09-24 09:00:00  TRANSFER       3576297.10   \n",
       "6205342  Detectado_fraude  2022-09-25 17:00:00  TRANSFER        353874.22   \n",
       "6266315  Detectado_fraude  2022-09-27 00:00:00  TRANSFER       2542664.27   \n",
       "6281382  Detectado_fraude  2022-09-28 05:00:00  TRANSFER      10399045.08   \n",
       "6281384  Detectado_fraude  2022-09-28 05:00:00  TRANSFER      10399045.08   \n",
       "6295914  Detectado_fraude  2022-09-29 06:00:00  TRANSFER       3441041.46   \n",
       "6351125  Detectado_fraude  2022-09-30 13:00:00  TRANSFER       3171085.59   \n",
       "6362360  Detectado_fraude  2022-10-01 17:00:00  TRANSFER      17316255.05   \n",
       "6362362  Detectado_fraude  2022-10-01 17:00:00  TRANSFER      17316255.05   \n",
       "6362484  Detectado_fraude  2022-10-02 04:00:00  TRANSFER       5674547.89   \n",
       "\n",
       "         balance_post_or  balance_prev_des  balance_post_des  \n",
       "2736399       4953893.08               0.0               0.0  \n",
       "3247240       1343002.08               0.0               0.0  \n",
       "3760224        536624.41               0.0               0.0  \n",
       "5563622       4892193.09               0.0               0.0  \n",
       "5996313      19585040.37               0.0               0.0  \n",
       "5996315      19585040.37               0.0               0.0  \n",
       "6168403       3576297.10               0.0               0.0  \n",
       "6205342        353874.22               0.0               0.0  \n",
       "6266315       2542664.27               0.0               0.0  \n",
       "6281382      10399045.08               0.0               0.0  \n",
       "6281384      10399045.08               0.0               0.0  \n",
       "6295914       3441041.46               0.0               0.0  \n",
       "6351125       3171085.59               0.0               0.0  \n",
       "6362360      17316255.05               0.0               0.0  \n",
       "6362362      17316255.05               0.0               0.0  \n",
       "6362484       5674547.89               0.0               0.0  "
      ]
     },
     "metadata": {},
     "output_type": "display_data"
    },
    {
     "name": "stdout",
     "output_type": "stream",
     "text": [
      "Existen 16 registros en los que ha saltado la alarma.\n"
     ]
    }
   ],
   "source": [
    "display(df[df['mensaje_alarma'] == 'Detectado_fraude'])\n",
    "\n",
    "print(f'Existen {df['mensaje_alarma'].value_counts()[1]} registros en los que ha saltado la alarma.')"
   ]
  },
  {
   "cell_type": "raw",
   "metadata": {
    "vscode": {
     "languageId": "raw"
    }
   },
   "source": [
    "Se observa que en los registros en los que ha saltado la alarma, el valor de balance_prev_des y balance_post_des es 0."
   ]
  },
  {
   "cell_type": "markdown",
   "metadata": {},
   "source": [
    "## 🧮 Variables balance_prev_des y balance_post_des"
   ]
  },
  {
   "cell_type": "code",
   "execution_count": 22,
   "metadata": {},
   "outputs": [
    {
     "name": "stdout",
     "output_type": "stream",
     "text": [
      "Número de transacciones fraudulentas: 8209\n"
     ]
    }
   ],
   "source": [
    "print(f'Número de transacciones fraudulentas: {df['es_fraude'].value_counts()[1]}')"
   ]
  },
  {
   "cell_type": "code",
   "execution_count": 46,
   "metadata": {},
   "outputs": [
    {
     "name": "stdout",
     "output_type": "stream",
     "text": [
      "Número de transacciones fraudulentas en las que el valor de balance_prev_des y balance_post_des es 0: 4074\n"
     ]
    }
   ],
   "source": [
    "print(f'Número de transacciones fraudulentas en las que el valor de balance_prev_des y balance_post_des es 0: {df[(df['es_fraude'] == 1) & (df['balance_post_des'] == 0) & (df['balance_prev_des'] == 0)].count()['t_id']}')"
   ]
  },
  {
   "cell_type": "code",
   "execution_count": 44,
   "metadata": {},
   "outputs": [
    {
     "name": "stdout",
     "output_type": "stream",
     "text": [
      "Porcentaje de observaciones fraudulentas con 0 en las variables balance_prev_des y balance_post_des: 49.63%\n"
     ]
    }
   ],
   "source": [
    "print(f'Porcentaje de observaciones fraudulentas con 0 en las variables balance_prev_des y balance_post_des: {(df[(df['es_fraude'] == 1) & (df['balance_post_des'] == 0) & (df['balance_prev_des'] == 0)].count()['t_id'] / df[(df['es_fraude'] == 1)].count()['t_id']).round(4) * 100}%')"
   ]
  },
  {
   "cell_type": "raw",
   "metadata": {
    "vscode": {
     "languageId": "raw"
    }
   },
   "source": [
    "A continuación se van a observar los mismos datos para el dataset sin fraude"
   ]
  },
  {
   "cell_type": "code",
   "execution_count": 5,
   "metadata": {},
   "outputs": [
    {
     "name": "stdout",
     "output_type": "stream",
     "text": [
      "Número de transacciones NO fraudulentas: 6354311\n"
     ]
    }
   ],
   "source": [
    "print(f'Número de transacciones NO fraudulentas: {df['es_fraude'].value_counts()[0]}')"
   ]
  },
  {
   "cell_type": "code",
   "execution_count": 7,
   "metadata": {},
   "outputs": [
    {
     "name": "stdout",
     "output_type": "stream",
     "text": [
      "Número de transacciones NO fraudulentas en las que el valor de balance_prev_des y balance_post_des es 0: 2313169\n"
     ]
    }
   ],
   "source": [
    "print(f'Número de transacciones NO fraudulentas en las que el valor de balance_prev_des y balance_post_des es 0: {df[(df['es_fraude'] == 0) & (df['balance_post_des'] == 0) & (df['balance_prev_des'] == 0)].count()['t_id']}')"
   ]
  },
  {
   "cell_type": "code",
   "execution_count": 9,
   "metadata": {},
   "outputs": [
    {
     "name": "stdout",
     "output_type": "stream",
     "text": [
      "Porcentaje de observaciones NO fraudulentas con 0 en las variables balance_prev_des y balance_post_des: 36.4%\n"
     ]
    }
   ],
   "source": [
    "print(f'Porcentaje de observaciones NO fraudulentas con 0 en las variables balance_prev_des y balance_post_des: {(df[(df['es_fraude'] == 0) & (df['balance_post_des'] == 0) & (df['balance_prev_des'] == 0)].count()['t_id'] / df[(df['es_fraude'] == 0)].count()['t_id']).round(4) * 100}%')"
   ]
  },
  {
   "cell_type": "raw",
   "metadata": {
    "vscode": {
     "languageId": "raw"
    }
   },
   "source": [
    "Para estas variables, cuando balance_prev_des y balance_post_des = 0 se hay mayor porcentaje de transacciones fraudulentas"
   ]
  },
  {
   "cell_type": "markdown",
   "metadata": {},
   "source": [
    "## 🧮 Variables balance_prev_or y balance_post_or"
   ]
  },
  {
   "cell_type": "raw",
   "metadata": {
    "vscode": {
     "languageId": "raw"
    }
   },
   "source": [
    "A continuación, vamos a observar el número de veces que ambas variables son iguales es decir cuando ocurra que balance_prev_or = balance_post_or"
   ]
  },
  {
   "cell_type": "code",
   "execution_count": 16,
   "metadata": {},
   "outputs": [
    {
     "name": "stdout",
     "output_type": "stream",
     "text": [
      "Para transacciones fraudulentas:\n",
      "\n",
      "Cantidad de transacciones en las que las variables balance_post_or = balance_prev_or y son marcadas como fraudulentas: 57\n"
     ]
    }
   ],
   "source": [
    "print(\"Para transacciones fraudulentas:\\n\")\n",
    "\n",
    "print(f'Cantidad de transacciones en las que las variables balance_post_or = balance_prev_or y son marcadas como fraudulentas: {df[(df['es_fraude'] == 1) & ((df['balance_post_or']) == (df['balance_prev_or']))].count()['t_id']}')"
   ]
  },
  {
   "cell_type": "code",
   "execution_count": 23,
   "metadata": {},
   "outputs": [
    {
     "name": "stdout",
     "output_type": "stream",
     "text": [
      "Porcentaje de observaciones con el mismo valor en las variables balance_post_or = balance_prev_or: 0.694%\n"
     ]
    }
   ],
   "source": [
    "print(f'Porcentaje de observaciones con el mismo valor en las variables balance_post_or = balance_prev_or: {(df[(df['es_fraude'] == 1) & ((df['balance_post_or']) == (df['balance_prev_or']))].count()['t_id'] / df[df['es_fraude'] == 1].count()['t_id']).round(5) * 100}%')"
   ]
  },
  {
   "cell_type": "code",
   "execution_count": 24,
   "metadata": {},
   "outputs": [
    {
     "name": "stdout",
     "output_type": "stream",
     "text": [
      "Para transacciones NO fraudulentas:\n",
      "\n",
      "Cantidad de transacciones en las que las variables balance_post_or = balance_prev_or y son marcadas como NO fraudulentas: 2088944\n"
     ]
    }
   ],
   "source": [
    "print(\"Para transacciones NO fraudulentas:\\n\")\n",
    "\n",
    "print(f'Cantidad de transacciones en las que las variables balance_post_or = balance_prev_or y son marcadas como NO fraudulentas: {df[(df['es_fraude'] == 0) & ((df['balance_post_or']) == (df['balance_prev_or']))].count()['t_id']}')"
   ]
  },
  {
   "cell_type": "code",
   "execution_count": 26,
   "metadata": {},
   "outputs": [
    {
     "name": "stdout",
     "output_type": "stream",
     "text": [
      "Porcentaje de observaciones con el mismo valor en las variables balance_post_or = balance_prev_or: 32.87%\n"
     ]
    }
   ],
   "source": [
    "print(f'Porcentaje de observaciones con el mismo valor en las variables balance_post_or = balance_prev_or: {(df[(df['es_fraude'] == 0) & ((df['balance_post_or']) == (df['balance_prev_or']))].count()['t_id'] / df[df['es_fraude'] == 0].count()['t_id']).round(4) * 100}%')"
   ]
  },
  {
   "cell_type": "raw",
   "metadata": {
    "vscode": {
     "languageId": "raw"
    }
   },
   "source": [
    "Es interesante obserar que el porcentaje en el dataset de transacciones no fraudulentas el porcentaje de observaciones es sensiblemente superior"
   ]
  }
 ],
 "metadata": {
  "kernelspec": {
   "display_name": "Python 3",
   "language": "python",
   "name": "python3"
  },
  "language_info": {
   "codemirror_mode": {
    "name": "ipython",
    "version": 3
   },
   "file_extension": ".py",
   "mimetype": "text/x-python",
   "name": "python",
   "nbconvert_exporter": "python",
   "pygments_lexer": "ipython3",
   "version": "3.12.6"
  }
 },
 "nbformat": 4,
 "nbformat_minor": 2
}
