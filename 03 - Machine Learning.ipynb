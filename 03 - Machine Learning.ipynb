{
 "cells": [
  {
   "cell_type": "markdown",
   "metadata": {},
   "source": [
    "![alt text](header.png)"
   ]
  },
  {
   "cell_type": "markdown",
   "metadata": {},
   "source": [
    "# 📚 Importación de librerías"
   ]
  },
  {
   "cell_type": "code",
   "execution_count": 3,
   "metadata": {},
   "outputs": [],
   "source": [
    "# Librerías para procesamiento de datos\n",
    "import os\n",
    "import pandas as pd\n",
    "import numpy as np\n",
    "import json\n",
    "from datetime import datetime, timedelta, date\n",
    "\n",
    "# Librerías para visualización de datos\n",
    "import matplotlib.pyplot as plt\n",
    "import seaborn as sns\n",
    "import plotly.express as px\n",
    "import warnings\n",
    "warnings.filterwarnings('ignore')\n",
    "\n",
    "# Librerías machine learning\n",
    "from sklearn import preprocessing\n",
    "from sklearn.preprocessing import StandardScaler\n",
    "from sklearn.feature_selection import RFE\n",
    "from sklearn.feature_selection import RFECV\n",
    "from sklearn import tree\n",
    "from sklearn.ensemble import RandomForestClassifier\n",
    "from sklearn.linear_model import LogisticRegression\n",
    "from sklearn.decomposition import PCA\n",
    "from sklearn.model_selection import train_test_split\n",
    "from sklearn.metrics import classification_report, confusion_matrix\n",
    "from sklearn.ensemble import IsolationForest\n",
    "\n",
    "from scipy.stats import chi2_contingency\n",
    "from scipy.stats import chisquare\n",
    "\n",
    "from imblearn.under_sampling import RandomUnderSampler\n",
    "from imblearn.under_sampling import NearMiss"
   ]
  },
  {
   "cell_type": "code",
   "execution_count": 4,
   "metadata": {},
   "outputs": [],
   "source": [
    "# Importación de los datos\n",
    "df = pd.read_csv('./datos/df.csv', dtype={\n",
    "    'es_fraude':'Int64',\n",
    "    'tipo':'string',\n",
    "    'mensaje_alarma':'string',\n",
    "    'origen':'string',\n",
    "    'destino':'string'\n",
    "    })"
   ]
  },
  {
   "cell_type": "markdown",
   "metadata": {},
   "source": [
    "# 📲 Preprocesado de datos"
   ]
  },
  {
   "cell_type": "code",
   "execution_count": 5,
   "metadata": {},
   "outputs": [
    {
     "name": "stdout",
     "output_type": "stream",
     "text": [
      "Estructura y tipo de datos:\n",
      "\n",
      "*+*+*+*+*+*+*+*+*+*+*+*+*+*+*+ \n",
      "\n",
      "Index(['t_id', 'origen', 'destino', 'cuantia', 'es_fraude', 'mensaje_alarma',\n",
      "       'hora_transaccion', 'tipo', 'balance_prev_or', 'balance_post_or',\n",
      "       'balance_prev_des', 'balance_post_des'],\n",
      "      dtype='object') \n",
      "\n",
      "*+*+*+*+*+*+*+*+*+*+*+*+*+*+*+ \n",
      "\n",
      "t_id                         int64\n",
      "origen              string[python]\n",
      "destino             string[python]\n",
      "cuantia                    float64\n",
      "es_fraude                    Int64\n",
      "mensaje_alarma      string[python]\n",
      "hora_transaccion            object\n",
      "tipo                string[python]\n",
      "balance_prev_or            float64\n",
      "balance_post_or            float64\n",
      "balance_prev_des           float64\n",
      "balance_post_des           float64\n",
      "dtype: object\n"
     ]
    }
   ],
   "source": [
    "print('Estructura y tipo de datos:\\n')\n",
    "print('*+' * 15, '\\n')\n",
    "print(df.columns, '\\n')\n",
    "print('*+' * 15, '\\n')\n",
    "print(df.dtypes)"
   ]
  },
  {
   "cell_type": "code",
   "execution_count": 6,
   "metadata": {},
   "outputs": [
    {
     "name": "stdout",
     "output_type": "stream",
     "text": [
      "Estadísticas del dataset:\n",
      "\n",
      "*+*+*+*+*+*+*+*+*+*+*+*+*+*+*+ \n",
      "\n"
     ]
    },
    {
     "data": {
      "text/html": [
       "<div>\n",
       "<style scoped>\n",
       "    .dataframe tbody tr th:only-of-type {\n",
       "        vertical-align: middle;\n",
       "    }\n",
       "\n",
       "    .dataframe tbody tr th {\n",
       "        vertical-align: top;\n",
       "    }\n",
       "\n",
       "    .dataframe thead th {\n",
       "        text-align: right;\n",
       "    }\n",
       "</style>\n",
       "<table border=\"1\" class=\"dataframe\">\n",
       "  <thead>\n",
       "    <tr style=\"text-align: right;\">\n",
       "      <th></th>\n",
       "      <th>t_id</th>\n",
       "      <th>cuantia</th>\n",
       "      <th>es_fraude</th>\n",
       "      <th>balance_prev_or</th>\n",
       "      <th>balance_post_or</th>\n",
       "      <th>balance_prev_des</th>\n",
       "      <th>balance_post_des</th>\n",
       "    </tr>\n",
       "  </thead>\n",
       "  <tbody>\n",
       "    <tr>\n",
       "      <th>count</th>\n",
       "      <td>6.362520e+06</td>\n",
       "      <td>6.362520e+06</td>\n",
       "      <td>6362520.0</td>\n",
       "      <td>6.362520e+06</td>\n",
       "      <td>6.362520e+06</td>\n",
       "      <td>6.362520e+06</td>\n",
       "      <td>6.362520e+06</td>\n",
       "    </tr>\n",
       "    <tr>\n",
       "      <th>mean</th>\n",
       "      <td>3.181312e+06</td>\n",
       "      <td>1.798620e+05</td>\n",
       "      <td>0.00129</td>\n",
       "      <td>8.338892e+05</td>\n",
       "      <td>8.551206e+05</td>\n",
       "      <td>1.100707e+06</td>\n",
       "      <td>1.225002e+06</td>\n",
       "    </tr>\n",
       "    <tr>\n",
       "      <th>std</th>\n",
       "      <td>1.836730e+06</td>\n",
       "      <td>6.038617e+05</td>\n",
       "      <td>0.035896</td>\n",
       "      <td>2.888257e+06</td>\n",
       "      <td>2.924063e+06</td>\n",
       "      <td>3.399201e+06</td>\n",
       "      <td>3.674152e+06</td>\n",
       "    </tr>\n",
       "    <tr>\n",
       "      <th>min</th>\n",
       "      <td>0.000000e+00</td>\n",
       "      <td>0.000000e+00</td>\n",
       "      <td>0.0</td>\n",
       "      <td>0.000000e+00</td>\n",
       "      <td>0.000000e+00</td>\n",
       "      <td>0.000000e+00</td>\n",
       "      <td>0.000000e+00</td>\n",
       "    </tr>\n",
       "    <tr>\n",
       "      <th>25%</th>\n",
       "      <td>1.590656e+06</td>\n",
       "      <td>1.338957e+04</td>\n",
       "      <td>0.0</td>\n",
       "      <td>0.000000e+00</td>\n",
       "      <td>0.000000e+00</td>\n",
       "      <td>0.000000e+00</td>\n",
       "      <td>0.000000e+00</td>\n",
       "    </tr>\n",
       "    <tr>\n",
       "      <th>50%</th>\n",
       "      <td>3.181316e+06</td>\n",
       "      <td>7.487271e+04</td>\n",
       "      <td>0.0</td>\n",
       "      <td>1.420800e+04</td>\n",
       "      <td>0.000000e+00</td>\n",
       "      <td>1.327077e+05</td>\n",
       "      <td>2.146622e+05</td>\n",
       "    </tr>\n",
       "    <tr>\n",
       "      <th>75%</th>\n",
       "      <td>4.771964e+06</td>\n",
       "      <td>2.087216e+05</td>\n",
       "      <td>0.0</td>\n",
       "      <td>1.073150e+05</td>\n",
       "      <td>1.442585e+05</td>\n",
       "      <td>9.430375e+05</td>\n",
       "      <td>1.111909e+06</td>\n",
       "    </tr>\n",
       "    <tr>\n",
       "      <th>max</th>\n",
       "      <td>6.362619e+06</td>\n",
       "      <td>9.244552e+07</td>\n",
       "      <td>1.0</td>\n",
       "      <td>5.958504e+07</td>\n",
       "      <td>4.958504e+07</td>\n",
       "      <td>3.560159e+08</td>\n",
       "      <td>3.561793e+08</td>\n",
       "    </tr>\n",
       "  </tbody>\n",
       "</table>\n",
       "</div>"
      ],
      "text/plain": [
       "               t_id       cuantia  es_fraude  balance_prev_or  \\\n",
       "count  6.362520e+06  6.362520e+06  6362520.0     6.362520e+06   \n",
       "mean   3.181312e+06  1.798620e+05    0.00129     8.338892e+05   \n",
       "std    1.836730e+06  6.038617e+05   0.035896     2.888257e+06   \n",
       "min    0.000000e+00  0.000000e+00        0.0     0.000000e+00   \n",
       "25%    1.590656e+06  1.338957e+04        0.0     0.000000e+00   \n",
       "50%    3.181316e+06  7.487271e+04        0.0     1.420800e+04   \n",
       "75%    4.771964e+06  2.087216e+05        0.0     1.073150e+05   \n",
       "max    6.362619e+06  9.244552e+07        1.0     5.958504e+07   \n",
       "\n",
       "       balance_post_or  balance_prev_des  balance_post_des  \n",
       "count     6.362520e+06      6.362520e+06      6.362520e+06  \n",
       "mean      8.551206e+05      1.100707e+06      1.225002e+06  \n",
       "std       2.924063e+06      3.399201e+06      3.674152e+06  \n",
       "min       0.000000e+00      0.000000e+00      0.000000e+00  \n",
       "25%       0.000000e+00      0.000000e+00      0.000000e+00  \n",
       "50%       0.000000e+00      1.327077e+05      2.146622e+05  \n",
       "75%       1.442585e+05      9.430375e+05      1.111909e+06  \n",
       "max       4.958504e+07      3.560159e+08      3.561793e+08  "
      ]
     },
     "metadata": {},
     "output_type": "display_data"
    }
   ],
   "source": [
    "print('Estadísticas del dataset:\\n')\n",
    "print('*+' * 15, '\\n')\n",
    "display(df.describe())"
   ]
  },
  {
   "cell_type": "markdown",
   "metadata": {},
   "source": [
    "## 🫧 Feature Cleaning y Feature Engineering"
   ]
  },
  {
   "cell_type": "code",
   "execution_count": 22,
   "metadata": {},
   "outputs": [
    {
     "data": {
      "text/plain": [
       "tipo\n",
       "CASH_OUT    4114\n",
       "TRANSFER    4095\n",
       "Name: count, dtype: Int64"
      ]
     },
     "execution_count": 22,
     "metadata": {},
     "output_type": "execute_result"
    }
   ],
   "source": [
    "df[df['es_fraude'] == 1]['tipo'].value_counts()"
   ]
  },
  {
   "cell_type": "markdown",
   "metadata": {},
   "source": [
    "### Manejo de valores nulos"
   ]
  },
  {
   "cell_type": "markdown",
   "metadata": {},
   "source": [
    "Los valores nulos en un dataset importan:\n",
    "\n",
    "*   Ciertos algoritmos no funcionan cuando hay valores nulos presentes.  \n",
    "*   Incluso para algoritmos que soportan valores nulos, sin el tratamiento de los mismos, el modelo puede conducir a conclusiones imprecisas."
   ]
  },
  {
   "cell_type": "code",
   "execution_count": 7,
   "metadata": {},
   "outputs": [
    {
     "data": {
      "text/plain": [
       "t_id                False\n",
       "origen              False\n",
       "destino             False\n",
       "cuantia             False\n",
       "es_fraude           False\n",
       "mensaje_alarma      False\n",
       "hora_transaccion    False\n",
       "tipo                False\n",
       "balance_prev_or     False\n",
       "balance_post_or     False\n",
       "balance_prev_des    False\n",
       "balance_post_des    False\n",
       "dtype: bool"
      ]
     },
     "execution_count": 7,
     "metadata": {},
     "output_type": "execute_result"
    }
   ],
   "source": [
    "# Comprobación para ver si el dataset contiene algún valor NULL\n",
    "df.isnull().any()"
   ]
  },
  {
   "cell_type": "markdown",
   "metadata": {},
   "source": [
    "### Distribución de variables"
   ]
  },
  {
   "cell_type": "markdown",
   "metadata": {},
   "source": [
    "#### Variable: tipo"
   ]
  },
  {
   "cell_type": "code",
   "execution_count": 53,
   "metadata": {},
   "outputs": [
    {
     "data": {
      "application/vnd.plotly.v1+json": {
       "config": {
        "plotlyServerURL": "https://plot.ly"
       },
       "data": [
        {
         "alignmentgroup": "True",
         "hovertemplate": "Tipo de Transacción=%{y}<br>Número de Transacciones=%{x}<extra></extra>",
         "legendgroup": "CASH_OUT",
         "marker": {
          "color": "#264653",
          "pattern": {
           "shape": ""
          }
         },
         "name": "CASH_OUT",
         "offsetgroup": "CASH_OUT",
         "orientation": "h",
         "showlegend": true,
         "textposition": "auto",
         "type": "bar",
         "x": [
          2237463
         ],
         "xaxis": "x",
         "y": [
          "CASH_OUT"
         ],
         "yaxis": "y"
        },
        {
         "alignmentgroup": "True",
         "hovertemplate": "Tipo de Transacción=%{y}<br>Número de Transacciones=%{x}<extra></extra>",
         "legendgroup": "PAYMENT",
         "marker": {
          "color": "#2a9d8f",
          "pattern": {
           "shape": ""
          }
         },
         "name": "PAYMENT",
         "offsetgroup": "PAYMENT",
         "orientation": "h",
         "showlegend": true,
         "textposition": "auto",
         "type": "bar",
         "x": [
          2151458
         ],
         "xaxis": "x",
         "y": [
          "PAYMENT"
         ],
         "yaxis": "y"
        },
        {
         "alignmentgroup": "True",
         "hovertemplate": "Tipo de Transacción=%{y}<br>Número de Transacciones=%{x}<extra></extra>",
         "legendgroup": "CASH_IN",
         "marker": {
          "color": "#e9c46a",
          "pattern": {
           "shape": ""
          }
         },
         "name": "CASH_IN",
         "offsetgroup": "CASH_IN",
         "orientation": "h",
         "showlegend": true,
         "textposition": "auto",
         "type": "bar",
         "x": [
          1399270
         ],
         "xaxis": "x",
         "y": [
          "CASH_IN"
         ],
         "yaxis": "y"
        },
        {
         "alignmentgroup": "True",
         "hovertemplate": "Tipo de Transacción=%{y}<br>Número de Transacciones=%{x}<extra></extra>",
         "legendgroup": "TRANSFER",
         "marker": {
          "color": "#f4a261",
          "pattern": {
           "shape": ""
          }
         },
         "name": "TRANSFER",
         "offsetgroup": "TRANSFER",
         "orientation": "h",
         "showlegend": true,
         "textposition": "auto",
         "type": "bar",
         "x": [
          532897
         ],
         "xaxis": "x",
         "y": [
          "TRANSFER"
         ],
         "yaxis": "y"
        },
        {
         "alignmentgroup": "True",
         "hovertemplate": "Tipo de Transacción=%{y}<br>Número de Transacciones=%{x}<extra></extra>",
         "legendgroup": "DEBIT",
         "marker": {
          "color": "#e76f51",
          "pattern": {
           "shape": ""
          }
         },
         "name": "DEBIT",
         "offsetgroup": "DEBIT",
         "orientation": "h",
         "showlegend": true,
         "textposition": "auto",
         "type": "bar",
         "x": [
          41432
         ],
         "xaxis": "x",
         "y": [
          "DEBIT"
         ],
         "yaxis": "y"
        }
       ],
       "layout": {
        "bargap": 0.2,
        "barmode": "relative",
        "height": 600,
        "legend": {
         "title": {
          "text": "Tipo de Transacción"
         },
         "tracegroupgap": 0
        },
        "template": {
         "data": {
          "bar": [
           {
            "error_x": {
             "color": "#2a3f5f"
            },
            "error_y": {
             "color": "#2a3f5f"
            },
            "marker": {
             "line": {
              "color": "#E5ECF6",
              "width": 0.5
             },
             "pattern": {
              "fillmode": "overlay",
              "size": 10,
              "solidity": 0.2
             }
            },
            "type": "bar"
           }
          ],
          "barpolar": [
           {
            "marker": {
             "line": {
              "color": "#E5ECF6",
              "width": 0.5
             },
             "pattern": {
              "fillmode": "overlay",
              "size": 10,
              "solidity": 0.2
             }
            },
            "type": "barpolar"
           }
          ],
          "carpet": [
           {
            "aaxis": {
             "endlinecolor": "#2a3f5f",
             "gridcolor": "white",
             "linecolor": "white",
             "minorgridcolor": "white",
             "startlinecolor": "#2a3f5f"
            },
            "baxis": {
             "endlinecolor": "#2a3f5f",
             "gridcolor": "white",
             "linecolor": "white",
             "minorgridcolor": "white",
             "startlinecolor": "#2a3f5f"
            },
            "type": "carpet"
           }
          ],
          "choropleth": [
           {
            "colorbar": {
             "outlinewidth": 0,
             "ticks": ""
            },
            "type": "choropleth"
           }
          ],
          "contour": [
           {
            "colorbar": {
             "outlinewidth": 0,
             "ticks": ""
            },
            "colorscale": [
             [
              0,
              "#0d0887"
             ],
             [
              0.1111111111111111,
              "#46039f"
             ],
             [
              0.2222222222222222,
              "#7201a8"
             ],
             [
              0.3333333333333333,
              "#9c179e"
             ],
             [
              0.4444444444444444,
              "#bd3786"
             ],
             [
              0.5555555555555556,
              "#d8576b"
             ],
             [
              0.6666666666666666,
              "#ed7953"
             ],
             [
              0.7777777777777778,
              "#fb9f3a"
             ],
             [
              0.8888888888888888,
              "#fdca26"
             ],
             [
              1,
              "#f0f921"
             ]
            ],
            "type": "contour"
           }
          ],
          "contourcarpet": [
           {
            "colorbar": {
             "outlinewidth": 0,
             "ticks": ""
            },
            "type": "contourcarpet"
           }
          ],
          "heatmap": [
           {
            "colorbar": {
             "outlinewidth": 0,
             "ticks": ""
            },
            "colorscale": [
             [
              0,
              "#0d0887"
             ],
             [
              0.1111111111111111,
              "#46039f"
             ],
             [
              0.2222222222222222,
              "#7201a8"
             ],
             [
              0.3333333333333333,
              "#9c179e"
             ],
             [
              0.4444444444444444,
              "#bd3786"
             ],
             [
              0.5555555555555556,
              "#d8576b"
             ],
             [
              0.6666666666666666,
              "#ed7953"
             ],
             [
              0.7777777777777778,
              "#fb9f3a"
             ],
             [
              0.8888888888888888,
              "#fdca26"
             ],
             [
              1,
              "#f0f921"
             ]
            ],
            "type": "heatmap"
           }
          ],
          "heatmapgl": [
           {
            "colorbar": {
             "outlinewidth": 0,
             "ticks": ""
            },
            "colorscale": [
             [
              0,
              "#0d0887"
             ],
             [
              0.1111111111111111,
              "#46039f"
             ],
             [
              0.2222222222222222,
              "#7201a8"
             ],
             [
              0.3333333333333333,
              "#9c179e"
             ],
             [
              0.4444444444444444,
              "#bd3786"
             ],
             [
              0.5555555555555556,
              "#d8576b"
             ],
             [
              0.6666666666666666,
              "#ed7953"
             ],
             [
              0.7777777777777778,
              "#fb9f3a"
             ],
             [
              0.8888888888888888,
              "#fdca26"
             ],
             [
              1,
              "#f0f921"
             ]
            ],
            "type": "heatmapgl"
           }
          ],
          "histogram": [
           {
            "marker": {
             "pattern": {
              "fillmode": "overlay",
              "size": 10,
              "solidity": 0.2
             }
            },
            "type": "histogram"
           }
          ],
          "histogram2d": [
           {
            "colorbar": {
             "outlinewidth": 0,
             "ticks": ""
            },
            "colorscale": [
             [
              0,
              "#0d0887"
             ],
             [
              0.1111111111111111,
              "#46039f"
             ],
             [
              0.2222222222222222,
              "#7201a8"
             ],
             [
              0.3333333333333333,
              "#9c179e"
             ],
             [
              0.4444444444444444,
              "#bd3786"
             ],
             [
              0.5555555555555556,
              "#d8576b"
             ],
             [
              0.6666666666666666,
              "#ed7953"
             ],
             [
              0.7777777777777778,
              "#fb9f3a"
             ],
             [
              0.8888888888888888,
              "#fdca26"
             ],
             [
              1,
              "#f0f921"
             ]
            ],
            "type": "histogram2d"
           }
          ],
          "histogram2dcontour": [
           {
            "colorbar": {
             "outlinewidth": 0,
             "ticks": ""
            },
            "colorscale": [
             [
              0,
              "#0d0887"
             ],
             [
              0.1111111111111111,
              "#46039f"
             ],
             [
              0.2222222222222222,
              "#7201a8"
             ],
             [
              0.3333333333333333,
              "#9c179e"
             ],
             [
              0.4444444444444444,
              "#bd3786"
             ],
             [
              0.5555555555555556,
              "#d8576b"
             ],
             [
              0.6666666666666666,
              "#ed7953"
             ],
             [
              0.7777777777777778,
              "#fb9f3a"
             ],
             [
              0.8888888888888888,
              "#fdca26"
             ],
             [
              1,
              "#f0f921"
             ]
            ],
            "type": "histogram2dcontour"
           }
          ],
          "mesh3d": [
           {
            "colorbar": {
             "outlinewidth": 0,
             "ticks": ""
            },
            "type": "mesh3d"
           }
          ],
          "parcoords": [
           {
            "line": {
             "colorbar": {
              "outlinewidth": 0,
              "ticks": ""
             }
            },
            "type": "parcoords"
           }
          ],
          "pie": [
           {
            "automargin": true,
            "type": "pie"
           }
          ],
          "scatter": [
           {
            "fillpattern": {
             "fillmode": "overlay",
             "size": 10,
             "solidity": 0.2
            },
            "type": "scatter"
           }
          ],
          "scatter3d": [
           {
            "line": {
             "colorbar": {
              "outlinewidth": 0,
              "ticks": ""
             }
            },
            "marker": {
             "colorbar": {
              "outlinewidth": 0,
              "ticks": ""
             }
            },
            "type": "scatter3d"
           }
          ],
          "scattercarpet": [
           {
            "marker": {
             "colorbar": {
              "outlinewidth": 0,
              "ticks": ""
             }
            },
            "type": "scattercarpet"
           }
          ],
          "scattergeo": [
           {
            "marker": {
             "colorbar": {
              "outlinewidth": 0,
              "ticks": ""
             }
            },
            "type": "scattergeo"
           }
          ],
          "scattergl": [
           {
            "marker": {
             "colorbar": {
              "outlinewidth": 0,
              "ticks": ""
             }
            },
            "type": "scattergl"
           }
          ],
          "scattermapbox": [
           {
            "marker": {
             "colorbar": {
              "outlinewidth": 0,
              "ticks": ""
             }
            },
            "type": "scattermapbox"
           }
          ],
          "scatterpolar": [
           {
            "marker": {
             "colorbar": {
              "outlinewidth": 0,
              "ticks": ""
             }
            },
            "type": "scatterpolar"
           }
          ],
          "scatterpolargl": [
           {
            "marker": {
             "colorbar": {
              "outlinewidth": 0,
              "ticks": ""
             }
            },
            "type": "scatterpolargl"
           }
          ],
          "scatterternary": [
           {
            "marker": {
             "colorbar": {
              "outlinewidth": 0,
              "ticks": ""
             }
            },
            "type": "scatterternary"
           }
          ],
          "surface": [
           {
            "colorbar": {
             "outlinewidth": 0,
             "ticks": ""
            },
            "colorscale": [
             [
              0,
              "#0d0887"
             ],
             [
              0.1111111111111111,
              "#46039f"
             ],
             [
              0.2222222222222222,
              "#7201a8"
             ],
             [
              0.3333333333333333,
              "#9c179e"
             ],
             [
              0.4444444444444444,
              "#bd3786"
             ],
             [
              0.5555555555555556,
              "#d8576b"
             ],
             [
              0.6666666666666666,
              "#ed7953"
             ],
             [
              0.7777777777777778,
              "#fb9f3a"
             ],
             [
              0.8888888888888888,
              "#fdca26"
             ],
             [
              1,
              "#f0f921"
             ]
            ],
            "type": "surface"
           }
          ],
          "table": [
           {
            "cells": {
             "fill": {
              "color": "#EBF0F8"
             },
             "line": {
              "color": "white"
             }
            },
            "header": {
             "fill": {
              "color": "#C8D4E3"
             },
             "line": {
              "color": "white"
             }
            },
            "type": "table"
           }
          ]
         },
         "layout": {
          "annotationdefaults": {
           "arrowcolor": "#2a3f5f",
           "arrowhead": 0,
           "arrowwidth": 1
          },
          "autotypenumbers": "strict",
          "coloraxis": {
           "colorbar": {
            "outlinewidth": 0,
            "ticks": ""
           }
          },
          "colorscale": {
           "diverging": [
            [
             0,
             "#8e0152"
            ],
            [
             0.1,
             "#c51b7d"
            ],
            [
             0.2,
             "#de77ae"
            ],
            [
             0.3,
             "#f1b6da"
            ],
            [
             0.4,
             "#fde0ef"
            ],
            [
             0.5,
             "#f7f7f7"
            ],
            [
             0.6,
             "#e6f5d0"
            ],
            [
             0.7,
             "#b8e186"
            ],
            [
             0.8,
             "#7fbc41"
            ],
            [
             0.9,
             "#4d9221"
            ],
            [
             1,
             "#276419"
            ]
           ],
           "sequential": [
            [
             0,
             "#0d0887"
            ],
            [
             0.1111111111111111,
             "#46039f"
            ],
            [
             0.2222222222222222,
             "#7201a8"
            ],
            [
             0.3333333333333333,
             "#9c179e"
            ],
            [
             0.4444444444444444,
             "#bd3786"
            ],
            [
             0.5555555555555556,
             "#d8576b"
            ],
            [
             0.6666666666666666,
             "#ed7953"
            ],
            [
             0.7777777777777778,
             "#fb9f3a"
            ],
            [
             0.8888888888888888,
             "#fdca26"
            ],
            [
             1,
             "#f0f921"
            ]
           ],
           "sequentialminus": [
            [
             0,
             "#0d0887"
            ],
            [
             0.1111111111111111,
             "#46039f"
            ],
            [
             0.2222222222222222,
             "#7201a8"
            ],
            [
             0.3333333333333333,
             "#9c179e"
            ],
            [
             0.4444444444444444,
             "#bd3786"
            ],
            [
             0.5555555555555556,
             "#d8576b"
            ],
            [
             0.6666666666666666,
             "#ed7953"
            ],
            [
             0.7777777777777778,
             "#fb9f3a"
            ],
            [
             0.8888888888888888,
             "#fdca26"
            ],
            [
             1,
             "#f0f921"
            ]
           ]
          },
          "colorway": [
           "#636efa",
           "#EF553B",
           "#00cc96",
           "#ab63fa",
           "#FFA15A",
           "#19d3f3",
           "#FF6692",
           "#B6E880",
           "#FF97FF",
           "#FECB52"
          ],
          "font": {
           "color": "#2a3f5f"
          },
          "geo": {
           "bgcolor": "white",
           "lakecolor": "white",
           "landcolor": "#E5ECF6",
           "showlakes": true,
           "showland": true,
           "subunitcolor": "white"
          },
          "hoverlabel": {
           "align": "left"
          },
          "hovermode": "closest",
          "mapbox": {
           "style": "light"
          },
          "paper_bgcolor": "white",
          "plot_bgcolor": "#E5ECF6",
          "polar": {
           "angularaxis": {
            "gridcolor": "white",
            "linecolor": "white",
            "ticks": ""
           },
           "bgcolor": "#E5ECF6",
           "radialaxis": {
            "gridcolor": "white",
            "linecolor": "white",
            "ticks": ""
           }
          },
          "scene": {
           "xaxis": {
            "backgroundcolor": "#E5ECF6",
            "gridcolor": "white",
            "gridwidth": 2,
            "linecolor": "white",
            "showbackground": true,
            "ticks": "",
            "zerolinecolor": "white"
           },
           "yaxis": {
            "backgroundcolor": "#E5ECF6",
            "gridcolor": "white",
            "gridwidth": 2,
            "linecolor": "white",
            "showbackground": true,
            "ticks": "",
            "zerolinecolor": "white"
           },
           "zaxis": {
            "backgroundcolor": "#E5ECF6",
            "gridcolor": "white",
            "gridwidth": 2,
            "linecolor": "white",
            "showbackground": true,
            "ticks": "",
            "zerolinecolor": "white"
           }
          },
          "shapedefaults": {
           "line": {
            "color": "#2a3f5f"
           }
          },
          "ternary": {
           "aaxis": {
            "gridcolor": "white",
            "linecolor": "white",
            "ticks": ""
           },
           "baxis": {
            "gridcolor": "white",
            "linecolor": "white",
            "ticks": ""
           },
           "bgcolor": "#E5ECF6",
           "caxis": {
            "gridcolor": "white",
            "linecolor": "white",
            "ticks": ""
           }
          },
          "title": {
           "x": 0.05
          },
          "xaxis": {
           "automargin": true,
           "gridcolor": "white",
           "linecolor": "white",
           "ticks": "",
           "title": {
            "standoff": 15
           },
           "zerolinecolor": "white",
           "zerolinewidth": 2
          },
          "yaxis": {
           "automargin": true,
           "gridcolor": "white",
           "linecolor": "white",
           "ticks": "",
           "title": {
            "standoff": 15
           },
           "zerolinecolor": "white",
           "zerolinewidth": 2
          }
         }
        },
        "title": {
         "text": "Distribución de Tipos de Transacción (Horizontal)"
        },
        "width": 800,
        "xaxis": {
         "anchor": "y",
         "domain": [
          0,
          1
         ],
         "title": {
          "text": "Número de Transacciones"
         }
        },
        "yaxis": {
         "anchor": "x",
         "categoryarray": [
          "DEBIT",
          "TRANSFER",
          "CASH_IN",
          "PAYMENT",
          "CASH_OUT"
         ],
         "categoryorder": "array",
         "domain": [
          0,
          1
         ],
         "title": {
          "text": "Tipo de Transacción"
         }
        }
       }
      }
     },
     "metadata": {},
     "output_type": "display_data"
    }
   ],
   "source": [
    "# Gráfico para visualizar la distribución del tipo de transacciones\n",
    "counts = df['tipo'].value_counts().reset_index()\n",
    "counts.columns = ['tipo', 'frecuencia']\n",
    "color_palette = ['#264653', '#2a9d8f', '#e9c46a', '#f4a261', '#e76f51']\n",
    "\n",
    "fig = px.bar(\n",
    "    counts,\n",
    "    x='frecuencia',\n",
    "    y='tipo',\n",
    "    orientation='h',\n",
    "    color='tipo',\n",
    "    color_discrete_sequence=color_palette,\n",
    "    title='Distribución de Tipos de Transacción (Horizontal)',\n",
    "    labels={\n",
    "        'tipo': 'Tipo de Transacción',\n",
    "        'frecuencia': 'Número de Transacciones'\n",
    "    }\n",
    ")\n",
    "\n",
    "fig.update_layout(\n",
    "    width=800,     # Ajustar ancho\n",
    "    height=600,    # Ajustar alto\n",
    "    bargap=0.2     # Espacio entre barras\n",
    ")\n",
    "\n",
    "fig.show()"
   ]
  },
  {
   "cell_type": "markdown",
   "metadata": {},
   "source": [
    "Las transacciones más frecuentes en el dataset son las de tipo CASH_OUT y PAYMENT."
   ]
  },
  {
   "cell_type": "code",
   "execution_count": 59,
   "metadata": {},
   "outputs": [
    {
     "name": "stdout",
     "output_type": "stream",
     "text": [
      "· Conteo de transacciones totales: 6362520 siendo fraudulentas (es_fraude = 1) 8209 transacciones.\n",
      "\n",
      "· Desbalanceo de clases: El 0.129% de las transacciones son positivas respecto del total de transacciones\n",
      "\n",
      "· Target: es_fraude, 1 para fraude, 0 para el resto de casos.\n"
     ]
    }
   ],
   "source": [
    "print(f'· Conteo de transacciones totales: {df.count()[0]} siendo fraudulentas (es_fraude = 1) {df['es_fraude'].value_counts()[1]} transacciones.\\n')\n",
    "print(f'· Desbalanceo de clases: El {((df['es_fraude'].value_counts()[1]/df.count()[0])*100).round(3)}% de las transacciones son positivas respecto del total de transacciones\\n')\n",
    "print(f'· Target: es_fraude, 1 para fraude, 0 para el resto de casos.')"
   ]
  },
  {
   "cell_type": "markdown",
   "metadata": {},
   "source": [
    "Las clases se encuentran muy desbalanceadas, apenas el 0.13€ de las instancias se clasifican como fraudulentas. Más adelante se trarará este desbalanceo de clases."
   ]
  },
  {
   "cell_type": "markdown",
   "metadata": {},
   "source": [
    "#### Variable: es_fraude"
   ]
  },
  {
   "cell_type": "code",
   "execution_count": 60,
   "metadata": {},
   "outputs": [
    {
     "data": {
      "application/vnd.plotly.v1+json": {
       "config": {
        "plotlyServerURL": "https://plot.ly"
       },
       "data": [
        {
         "alignmentgroup": "True",
         "hovertemplate": "Tipo de Transacción=%{x}<br>Número de Transacciones=%{y}<extra></extra>",
         "legendgroup": "CASH_OUT",
         "marker": {
          "color": "#264653",
          "pattern": {
           "shape": ""
          }
         },
         "name": "CASH_OUT",
         "offsetgroup": "CASH_OUT",
         "orientation": "v",
         "showlegend": true,
         "textposition": "auto",
         "type": "bar",
         "x": [
          "CASH_OUT"
         ],
         "xaxis": "x",
         "y": [
          4114
         ],
         "yaxis": "y"
        },
        {
         "alignmentgroup": "True",
         "hovertemplate": "Tipo de Transacción=%{x}<br>Número de Transacciones=%{y}<extra></extra>",
         "legendgroup": "TRANSFER",
         "marker": {
          "color": "#2a9d8f",
          "pattern": {
           "shape": ""
          }
         },
         "name": "TRANSFER",
         "offsetgroup": "TRANSFER",
         "orientation": "v",
         "showlegend": true,
         "textposition": "auto",
         "type": "bar",
         "x": [
          "TRANSFER"
         ],
         "xaxis": "x",
         "y": [
          4095
         ],
         "yaxis": "y"
        }
       ],
       "layout": {
        "bargap": 0.2,
        "barmode": "relative",
        "height": 600,
        "legend": {
         "title": {
          "text": "Tipo de Transacción"
         },
         "tracegroupgap": 0
        },
        "template": {
         "data": {
          "bar": [
           {
            "error_x": {
             "color": "#2a3f5f"
            },
            "error_y": {
             "color": "#2a3f5f"
            },
            "marker": {
             "line": {
              "color": "#E5ECF6",
              "width": 0.5
             },
             "pattern": {
              "fillmode": "overlay",
              "size": 10,
              "solidity": 0.2
             }
            },
            "type": "bar"
           }
          ],
          "barpolar": [
           {
            "marker": {
             "line": {
              "color": "#E5ECF6",
              "width": 0.5
             },
             "pattern": {
              "fillmode": "overlay",
              "size": 10,
              "solidity": 0.2
             }
            },
            "type": "barpolar"
           }
          ],
          "carpet": [
           {
            "aaxis": {
             "endlinecolor": "#2a3f5f",
             "gridcolor": "white",
             "linecolor": "white",
             "minorgridcolor": "white",
             "startlinecolor": "#2a3f5f"
            },
            "baxis": {
             "endlinecolor": "#2a3f5f",
             "gridcolor": "white",
             "linecolor": "white",
             "minorgridcolor": "white",
             "startlinecolor": "#2a3f5f"
            },
            "type": "carpet"
           }
          ],
          "choropleth": [
           {
            "colorbar": {
             "outlinewidth": 0,
             "ticks": ""
            },
            "type": "choropleth"
           }
          ],
          "contour": [
           {
            "colorbar": {
             "outlinewidth": 0,
             "ticks": ""
            },
            "colorscale": [
             [
              0,
              "#0d0887"
             ],
             [
              0.1111111111111111,
              "#46039f"
             ],
             [
              0.2222222222222222,
              "#7201a8"
             ],
             [
              0.3333333333333333,
              "#9c179e"
             ],
             [
              0.4444444444444444,
              "#bd3786"
             ],
             [
              0.5555555555555556,
              "#d8576b"
             ],
             [
              0.6666666666666666,
              "#ed7953"
             ],
             [
              0.7777777777777778,
              "#fb9f3a"
             ],
             [
              0.8888888888888888,
              "#fdca26"
             ],
             [
              1,
              "#f0f921"
             ]
            ],
            "type": "contour"
           }
          ],
          "contourcarpet": [
           {
            "colorbar": {
             "outlinewidth": 0,
             "ticks": ""
            },
            "type": "contourcarpet"
           }
          ],
          "heatmap": [
           {
            "colorbar": {
             "outlinewidth": 0,
             "ticks": ""
            },
            "colorscale": [
             [
              0,
              "#0d0887"
             ],
             [
              0.1111111111111111,
              "#46039f"
             ],
             [
              0.2222222222222222,
              "#7201a8"
             ],
             [
              0.3333333333333333,
              "#9c179e"
             ],
             [
              0.4444444444444444,
              "#bd3786"
             ],
             [
              0.5555555555555556,
              "#d8576b"
             ],
             [
              0.6666666666666666,
              "#ed7953"
             ],
             [
              0.7777777777777778,
              "#fb9f3a"
             ],
             [
              0.8888888888888888,
              "#fdca26"
             ],
             [
              1,
              "#f0f921"
             ]
            ],
            "type": "heatmap"
           }
          ],
          "heatmapgl": [
           {
            "colorbar": {
             "outlinewidth": 0,
             "ticks": ""
            },
            "colorscale": [
             [
              0,
              "#0d0887"
             ],
             [
              0.1111111111111111,
              "#46039f"
             ],
             [
              0.2222222222222222,
              "#7201a8"
             ],
             [
              0.3333333333333333,
              "#9c179e"
             ],
             [
              0.4444444444444444,
              "#bd3786"
             ],
             [
              0.5555555555555556,
              "#d8576b"
             ],
             [
              0.6666666666666666,
              "#ed7953"
             ],
             [
              0.7777777777777778,
              "#fb9f3a"
             ],
             [
              0.8888888888888888,
              "#fdca26"
             ],
             [
              1,
              "#f0f921"
             ]
            ],
            "type": "heatmapgl"
           }
          ],
          "histogram": [
           {
            "marker": {
             "pattern": {
              "fillmode": "overlay",
              "size": 10,
              "solidity": 0.2
             }
            },
            "type": "histogram"
           }
          ],
          "histogram2d": [
           {
            "colorbar": {
             "outlinewidth": 0,
             "ticks": ""
            },
            "colorscale": [
             [
              0,
              "#0d0887"
             ],
             [
              0.1111111111111111,
              "#46039f"
             ],
             [
              0.2222222222222222,
              "#7201a8"
             ],
             [
              0.3333333333333333,
              "#9c179e"
             ],
             [
              0.4444444444444444,
              "#bd3786"
             ],
             [
              0.5555555555555556,
              "#d8576b"
             ],
             [
              0.6666666666666666,
              "#ed7953"
             ],
             [
              0.7777777777777778,
              "#fb9f3a"
             ],
             [
              0.8888888888888888,
              "#fdca26"
             ],
             [
              1,
              "#f0f921"
             ]
            ],
            "type": "histogram2d"
           }
          ],
          "histogram2dcontour": [
           {
            "colorbar": {
             "outlinewidth": 0,
             "ticks": ""
            },
            "colorscale": [
             [
              0,
              "#0d0887"
             ],
             [
              0.1111111111111111,
              "#46039f"
             ],
             [
              0.2222222222222222,
              "#7201a8"
             ],
             [
              0.3333333333333333,
              "#9c179e"
             ],
             [
              0.4444444444444444,
              "#bd3786"
             ],
             [
              0.5555555555555556,
              "#d8576b"
             ],
             [
              0.6666666666666666,
              "#ed7953"
             ],
             [
              0.7777777777777778,
              "#fb9f3a"
             ],
             [
              0.8888888888888888,
              "#fdca26"
             ],
             [
              1,
              "#f0f921"
             ]
            ],
            "type": "histogram2dcontour"
           }
          ],
          "mesh3d": [
           {
            "colorbar": {
             "outlinewidth": 0,
             "ticks": ""
            },
            "type": "mesh3d"
           }
          ],
          "parcoords": [
           {
            "line": {
             "colorbar": {
              "outlinewidth": 0,
              "ticks": ""
             }
            },
            "type": "parcoords"
           }
          ],
          "pie": [
           {
            "automargin": true,
            "type": "pie"
           }
          ],
          "scatter": [
           {
            "fillpattern": {
             "fillmode": "overlay",
             "size": 10,
             "solidity": 0.2
            },
            "type": "scatter"
           }
          ],
          "scatter3d": [
           {
            "line": {
             "colorbar": {
              "outlinewidth": 0,
              "ticks": ""
             }
            },
            "marker": {
             "colorbar": {
              "outlinewidth": 0,
              "ticks": ""
             }
            },
            "type": "scatter3d"
           }
          ],
          "scattercarpet": [
           {
            "marker": {
             "colorbar": {
              "outlinewidth": 0,
              "ticks": ""
             }
            },
            "type": "scattercarpet"
           }
          ],
          "scattergeo": [
           {
            "marker": {
             "colorbar": {
              "outlinewidth": 0,
              "ticks": ""
             }
            },
            "type": "scattergeo"
           }
          ],
          "scattergl": [
           {
            "marker": {
             "colorbar": {
              "outlinewidth": 0,
              "ticks": ""
             }
            },
            "type": "scattergl"
           }
          ],
          "scattermapbox": [
           {
            "marker": {
             "colorbar": {
              "outlinewidth": 0,
              "ticks": ""
             }
            },
            "type": "scattermapbox"
           }
          ],
          "scatterpolar": [
           {
            "marker": {
             "colorbar": {
              "outlinewidth": 0,
              "ticks": ""
             }
            },
            "type": "scatterpolar"
           }
          ],
          "scatterpolargl": [
           {
            "marker": {
             "colorbar": {
              "outlinewidth": 0,
              "ticks": ""
             }
            },
            "type": "scatterpolargl"
           }
          ],
          "scatterternary": [
           {
            "marker": {
             "colorbar": {
              "outlinewidth": 0,
              "ticks": ""
             }
            },
            "type": "scatterternary"
           }
          ],
          "surface": [
           {
            "colorbar": {
             "outlinewidth": 0,
             "ticks": ""
            },
            "colorscale": [
             [
              0,
              "#0d0887"
             ],
             [
              0.1111111111111111,
              "#46039f"
             ],
             [
              0.2222222222222222,
              "#7201a8"
             ],
             [
              0.3333333333333333,
              "#9c179e"
             ],
             [
              0.4444444444444444,
              "#bd3786"
             ],
             [
              0.5555555555555556,
              "#d8576b"
             ],
             [
              0.6666666666666666,
              "#ed7953"
             ],
             [
              0.7777777777777778,
              "#fb9f3a"
             ],
             [
              0.8888888888888888,
              "#fdca26"
             ],
             [
              1,
              "#f0f921"
             ]
            ],
            "type": "surface"
           }
          ],
          "table": [
           {
            "cells": {
             "fill": {
              "color": "#EBF0F8"
             },
             "line": {
              "color": "white"
             }
            },
            "header": {
             "fill": {
              "color": "#C8D4E3"
             },
             "line": {
              "color": "white"
             }
            },
            "type": "table"
           }
          ]
         },
         "layout": {
          "annotationdefaults": {
           "arrowcolor": "#2a3f5f",
           "arrowhead": 0,
           "arrowwidth": 1
          },
          "autotypenumbers": "strict",
          "coloraxis": {
           "colorbar": {
            "outlinewidth": 0,
            "ticks": ""
           }
          },
          "colorscale": {
           "diverging": [
            [
             0,
             "#8e0152"
            ],
            [
             0.1,
             "#c51b7d"
            ],
            [
             0.2,
             "#de77ae"
            ],
            [
             0.3,
             "#f1b6da"
            ],
            [
             0.4,
             "#fde0ef"
            ],
            [
             0.5,
             "#f7f7f7"
            ],
            [
             0.6,
             "#e6f5d0"
            ],
            [
             0.7,
             "#b8e186"
            ],
            [
             0.8,
             "#7fbc41"
            ],
            [
             0.9,
             "#4d9221"
            ],
            [
             1,
             "#276419"
            ]
           ],
           "sequential": [
            [
             0,
             "#0d0887"
            ],
            [
             0.1111111111111111,
             "#46039f"
            ],
            [
             0.2222222222222222,
             "#7201a8"
            ],
            [
             0.3333333333333333,
             "#9c179e"
            ],
            [
             0.4444444444444444,
             "#bd3786"
            ],
            [
             0.5555555555555556,
             "#d8576b"
            ],
            [
             0.6666666666666666,
             "#ed7953"
            ],
            [
             0.7777777777777778,
             "#fb9f3a"
            ],
            [
             0.8888888888888888,
             "#fdca26"
            ],
            [
             1,
             "#f0f921"
            ]
           ],
           "sequentialminus": [
            [
             0,
             "#0d0887"
            ],
            [
             0.1111111111111111,
             "#46039f"
            ],
            [
             0.2222222222222222,
             "#7201a8"
            ],
            [
             0.3333333333333333,
             "#9c179e"
            ],
            [
             0.4444444444444444,
             "#bd3786"
            ],
            [
             0.5555555555555556,
             "#d8576b"
            ],
            [
             0.6666666666666666,
             "#ed7953"
            ],
            [
             0.7777777777777778,
             "#fb9f3a"
            ],
            [
             0.8888888888888888,
             "#fdca26"
            ],
            [
             1,
             "#f0f921"
            ]
           ]
          },
          "colorway": [
           "#636efa",
           "#EF553B",
           "#00cc96",
           "#ab63fa",
           "#FFA15A",
           "#19d3f3",
           "#FF6692",
           "#B6E880",
           "#FF97FF",
           "#FECB52"
          ],
          "font": {
           "color": "#2a3f5f"
          },
          "geo": {
           "bgcolor": "white",
           "lakecolor": "white",
           "landcolor": "#E5ECF6",
           "showlakes": true,
           "showland": true,
           "subunitcolor": "white"
          },
          "hoverlabel": {
           "align": "left"
          },
          "hovermode": "closest",
          "mapbox": {
           "style": "light"
          },
          "paper_bgcolor": "white",
          "plot_bgcolor": "#E5ECF6",
          "polar": {
           "angularaxis": {
            "gridcolor": "white",
            "linecolor": "white",
            "ticks": ""
           },
           "bgcolor": "#E5ECF6",
           "radialaxis": {
            "gridcolor": "white",
            "linecolor": "white",
            "ticks": ""
           }
          },
          "scene": {
           "xaxis": {
            "backgroundcolor": "#E5ECF6",
            "gridcolor": "white",
            "gridwidth": 2,
            "linecolor": "white",
            "showbackground": true,
            "ticks": "",
            "zerolinecolor": "white"
           },
           "yaxis": {
            "backgroundcolor": "#E5ECF6",
            "gridcolor": "white",
            "gridwidth": 2,
            "linecolor": "white",
            "showbackground": true,
            "ticks": "",
            "zerolinecolor": "white"
           },
           "zaxis": {
            "backgroundcolor": "#E5ECF6",
            "gridcolor": "white",
            "gridwidth": 2,
            "linecolor": "white",
            "showbackground": true,
            "ticks": "",
            "zerolinecolor": "white"
           }
          },
          "shapedefaults": {
           "line": {
            "color": "#2a3f5f"
           }
          },
          "ternary": {
           "aaxis": {
            "gridcolor": "white",
            "linecolor": "white",
            "ticks": ""
           },
           "baxis": {
            "gridcolor": "white",
            "linecolor": "white",
            "ticks": ""
           },
           "bgcolor": "#E5ECF6",
           "caxis": {
            "gridcolor": "white",
            "linecolor": "white",
            "ticks": ""
           }
          },
          "title": {
           "x": 0.05
          },
          "xaxis": {
           "automargin": true,
           "gridcolor": "white",
           "linecolor": "white",
           "ticks": "",
           "title": {
            "standoff": 15
           },
           "zerolinecolor": "white",
           "zerolinewidth": 2
          },
          "yaxis": {
           "automargin": true,
           "gridcolor": "white",
           "linecolor": "white",
           "ticks": "",
           "title": {
            "standoff": 15
           },
           "zerolinecolor": "white",
           "zerolinewidth": 2
          }
         }
        },
        "title": {
         "text": "Distribución de Tipos de Transacción Fraudulenta"
        },
        "width": 600,
        "xaxis": {
         "anchor": "y",
         "categoryarray": [
          "CASH_OUT",
          "TRANSFER"
         ],
         "categoryorder": "array",
         "domain": [
          0,
          1
         ],
         "title": {
          "text": "Tipo de Transacción"
         }
        },
        "yaxis": {
         "anchor": "x",
         "domain": [
          0,
          1
         ],
         "title": {
          "text": "Número de Transacciones"
         }
        }
       }
      }
     },
     "metadata": {},
     "output_type": "display_data"
    }
   ],
   "source": [
    "# Gráfico para visualizar la distribución del tipo de transacción fraudulenta\n",
    "counts = df[df['es_fraude'] == 1]['tipo'].value_counts().reset_index()\n",
    "counts.columns = ['tipo', 'frecuencia']\n",
    "color_palette = ['#264653', '#2a9d8f', '#e9c46a', '#f4a261', '#e76f51']\n",
    "\n",
    "fig = px.bar(\n",
    "    counts,\n",
    "    x='tipo',\n",
    "    y='frecuencia',\n",
    "    color='tipo',\n",
    "    color_discrete_sequence=color_palette,\n",
    "    title='Distribución de Tipos de Transacción Fraudulenta',\n",
    "    labels={\n",
    "        'tipo': 'Tipo de Transacción',\n",
    "        'frecuencia': 'Número de Transacciones'\n",
    "    }\n",
    ")\n",
    "\n",
    "fig.update_layout(\n",
    "    width=600,     # Ajustar ancho\n",
    "    height=600,    # Ajustar alto\n",
    "    bargap=0.2     # Espacio entre barras\n",
    ")\n",
    "\n",
    "fig.show()"
   ]
  },
  {
   "cell_type": "markdown",
   "metadata": {},
   "source": [
    "Este gráfico revela que las transacciones fraudulentas solo ocurren para el tipo de transacción CASH_OUT (retiradas de efectivo) y TRANSFER (transferencias bancarias)."
   ]
  },
  {
   "cell_type": "markdown",
   "metadata": {},
   "source": [
    "#### Variable: cuantia"
   ]
  },
  {
   "cell_type": "markdown",
   "metadata": {},
   "source": [
    "A continuación, veremos cuál es la distribución de la variable cuantía para las transacciones fraudulentas."
   ]
  },
  {
   "cell_type": "code",
   "execution_count": 79,
   "metadata": {},
   "outputs": [
    {
     "data": {
      "text/plain": [
       "<Axes: xlabel='es_fraude', ylabel='cuantia'>"
      ]
     },
     "execution_count": 79,
     "metadata": {},
     "output_type": "execute_result"
    },
    {
     "data": {
      "image/png": "[encoded data removed]",
      "text/plain": [
       "<Figure size 640x480 with 1 Axes>"
      ]
     },
     "metadata": {},
     "output_type": "display_data"
    }
   ],
   "source": [
    "sns.boxplot(x='es_fraude', y='cuantia', data=df[df.cuantia < 1e5], palette={'0': '#264653', '1': '#e76f51'})"
   ]
  },
  {
   "cell_type": "markdown",
   "metadata": {},
   "source": [
    "En el diagrama de cajas y bigotes se aprecia que las transacciones fraudulentas tienden a ocurrir con cantidades más altas respecto a las no fraudulentas."
   ]
  },
  {
   "cell_type": "markdown",
   "metadata": {},
   "source": [
    "#### Variable: mensaje_alarma"
   ]
  },
  {
   "cell_type": "code",
   "execution_count": 8,
   "metadata": {},
   "outputs": [
    {
     "data": {
      "text/plain": [
       "mensaje_alarma\n",
       "No_detectado_fraude    6362504\n",
       "Detectado_fraude            16\n",
       "Name: count, dtype: Int64"
      ]
     },
     "execution_count": 8,
     "metadata": {},
     "output_type": "execute_result"
    }
   ],
   "source": [
    "df['mensaje_alarma'].value_counts()"
   ]
  },
  {
   "cell_type": "code",
   "execution_count": 9,
   "metadata": {},
   "outputs": [],
   "source": [
    "# Cambiamos la cadena de texto por 0 y 1\n",
    "df['mensaje_alarma'] = np.where(df['mensaje_alarma'] == 'No_detectado_fraude', 0, 1)"
   ]
  },
  {
   "cell_type": "code",
   "execution_count": 10,
   "metadata": {},
   "outputs": [
    {
     "data": {
      "text/html": [
       "<div>\n",
       "<style scoped>\n",
       "    .dataframe tbody tr th:only-of-type {\n",
       "        vertical-align: middle;\n",
       "    }\n",
       "\n",
       "    .dataframe tbody tr th {\n",
       "        vertical-align: top;\n",
       "    }\n",
       "\n",
       "    .dataframe thead th {\n",
       "        text-align: right;\n",
       "    }\n",
       "</style>\n",
       "<table border=\"1\" class=\"dataframe\">\n",
       "  <thead>\n",
       "    <tr style=\"text-align: right;\">\n",
       "      <th></th>\n",
       "      <th>t_id</th>\n",
       "      <th>origen</th>\n",
       "      <th>destino</th>\n",
       "      <th>cuantia</th>\n",
       "      <th>es_fraude</th>\n",
       "      <th>mensaje_alarma</th>\n",
       "      <th>hora_transaccion</th>\n",
       "      <th>tipo</th>\n",
       "      <th>balance_prev_or</th>\n",
       "      <th>balance_post_or</th>\n",
       "      <th>balance_prev_des</th>\n",
       "      <th>balance_post_des</th>\n",
       "    </tr>\n",
       "  </thead>\n",
       "  <tbody>\n",
       "    <tr>\n",
       "      <th>0</th>\n",
       "      <td>0</td>\n",
       "      <td>C1231006815</td>\n",
       "      <td>M1979787155</td>\n",
       "      <td>9839.64</td>\n",
       "      <td>0</td>\n",
       "      <td>0</td>\n",
       "      <td>2022-09-01 08:00:00</td>\n",
       "      <td>PAYMENT</td>\n",
       "      <td>170136.0</td>\n",
       "      <td>160296.36</td>\n",
       "      <td>0.0</td>\n",
       "      <td>0.0</td>\n",
       "    </tr>\n",
       "    <tr>\n",
       "      <th>1</th>\n",
       "      <td>1</td>\n",
       "      <td>C1666544295</td>\n",
       "      <td>M2044282225</td>\n",
       "      <td>1864.28</td>\n",
       "      <td>0</td>\n",
       "      <td>0</td>\n",
       "      <td>2022-09-01 08:00:00</td>\n",
       "      <td>PAYMENT</td>\n",
       "      <td>21249.0</td>\n",
       "      <td>19384.72</td>\n",
       "      <td>0.0</td>\n",
       "      <td>0.0</td>\n",
       "    </tr>\n",
       "    <tr>\n",
       "      <th>2</th>\n",
       "      <td>2</td>\n",
       "      <td>C1305486145</td>\n",
       "      <td>C553264065</td>\n",
       "      <td>181.00</td>\n",
       "      <td>1</td>\n",
       "      <td>0</td>\n",
       "      <td>2022-09-01 08:00:00</td>\n",
       "      <td>TRANSFER</td>\n",
       "      <td>181.0</td>\n",
       "      <td>0.00</td>\n",
       "      <td>0.0</td>\n",
       "      <td>0.0</td>\n",
       "    </tr>\n",
       "    <tr>\n",
       "      <th>3</th>\n",
       "      <td>3</td>\n",
       "      <td>C840083671</td>\n",
       "      <td>C38997010</td>\n",
       "      <td>181.00</td>\n",
       "      <td>1</td>\n",
       "      <td>0</td>\n",
       "      <td>2022-09-01 08:00:00</td>\n",
       "      <td>CASH_OUT</td>\n",
       "      <td>181.0</td>\n",
       "      <td>0.00</td>\n",
       "      <td>21182.0</td>\n",
       "      <td>0.0</td>\n",
       "    </tr>\n",
       "    <tr>\n",
       "      <th>4</th>\n",
       "      <td>4</td>\n",
       "      <td>C2048537720</td>\n",
       "      <td>M1230701703</td>\n",
       "      <td>11668.14</td>\n",
       "      <td>0</td>\n",
       "      <td>0</td>\n",
       "      <td>2022-09-01 08:00:00</td>\n",
       "      <td>PAYMENT</td>\n",
       "      <td>41554.0</td>\n",
       "      <td>29885.86</td>\n",
       "      <td>0.0</td>\n",
       "      <td>0.0</td>\n",
       "    </tr>\n",
       "  </tbody>\n",
       "</table>\n",
       "</div>"
      ],
      "text/plain": [
       "   t_id       origen      destino   cuantia  es_fraude  mensaje_alarma  \\\n",
       "0     0  C1231006815  M1979787155   9839.64          0               0   \n",
       "1     1  C1666544295  M2044282225   1864.28          0               0   \n",
       "2     2  C1305486145   C553264065    181.00          1               0   \n",
       "3     3   C840083671    C38997010    181.00          1               0   \n",
       "4     4  C2048537720  M1230701703  11668.14          0               0   \n",
       "\n",
       "      hora_transaccion      tipo  balance_prev_or  balance_post_or  \\\n",
       "0  2022-09-01 08:00:00   PAYMENT         170136.0        160296.36   \n",
       "1  2022-09-01 08:00:00   PAYMENT          21249.0         19384.72   \n",
       "2  2022-09-01 08:00:00  TRANSFER            181.0             0.00   \n",
       "3  2022-09-01 08:00:00  CASH_OUT            181.0             0.00   \n",
       "4  2022-09-01 08:00:00   PAYMENT          41554.0         29885.86   \n",
       "\n",
       "   balance_prev_des  balance_post_des  \n",
       "0               0.0               0.0  \n",
       "1               0.0               0.0  \n",
       "2               0.0               0.0  \n",
       "3           21182.0               0.0  \n",
       "4               0.0               0.0  "
      ]
     },
     "execution_count": 10,
     "metadata": {},
     "output_type": "execute_result"
    }
   ],
   "source": [
    "df.head(5)"
   ]
  },
  {
   "cell_type": "code",
   "execution_count": 83,
   "metadata": {},
   "outputs": [
    {
     "data": {
      "text/html": [
       "<div>\n",
       "<style scoped>\n",
       "    .dataframe tbody tr th:only-of-type {\n",
       "        vertical-align: middle;\n",
       "    }\n",
       "\n",
       "    .dataframe tbody tr th {\n",
       "        vertical-align: top;\n",
       "    }\n",
       "\n",
       "    .dataframe thead th {\n",
       "        text-align: right;\n",
       "    }\n",
       "</style>\n",
       "<table border=\"1\" class=\"dataframe\">\n",
       "  <thead>\n",
       "    <tr style=\"text-align: right;\">\n",
       "      <th></th>\n",
       "      <th>t_id</th>\n",
       "      <th>origen</th>\n",
       "      <th>destino</th>\n",
       "      <th>cuantia</th>\n",
       "      <th>es_fraude</th>\n",
       "      <th>mensaje_alarma</th>\n",
       "      <th>hora_transaccion</th>\n",
       "      <th>tipo</th>\n",
       "      <th>balance_prev_or</th>\n",
       "      <th>balance_post_or</th>\n",
       "      <th>balance_prev_des</th>\n",
       "      <th>balance_post_des</th>\n",
       "    </tr>\n",
       "  </thead>\n",
       "  <tbody>\n",
       "    <tr>\n",
       "      <th>2736399</th>\n",
       "      <td>2736446</td>\n",
       "      <td>C728984460</td>\n",
       "      <td>C639921569</td>\n",
       "      <td>4953893.08</td>\n",
       "      <td>1</td>\n",
       "      <td>1</td>\n",
       "      <td>2022-09-10 03:00:00</td>\n",
       "      <td>TRANSFER</td>\n",
       "      <td>4953893.08</td>\n",
       "      <td>4953893.08</td>\n",
       "      <td>0.0</td>\n",
       "      <td>0.0</td>\n",
       "    </tr>\n",
       "    <tr>\n",
       "      <th>3247240</th>\n",
       "      <td>3247297</td>\n",
       "      <td>C1100582606</td>\n",
       "      <td>C1147517658</td>\n",
       "      <td>1343002.08</td>\n",
       "      <td>1</td>\n",
       "      <td>1</td>\n",
       "      <td>2022-09-11 17:00:00</td>\n",
       "      <td>TRANSFER</td>\n",
       "      <td>1343002.08</td>\n",
       "      <td>1343002.08</td>\n",
       "      <td>0.0</td>\n",
       "      <td>0.0</td>\n",
       "    </tr>\n",
       "    <tr>\n",
       "      <th>3760224</th>\n",
       "      <td>3760288</td>\n",
       "      <td>C1035541766</td>\n",
       "      <td>C1100697970</td>\n",
       "      <td>536624.41</td>\n",
       "      <td>1</td>\n",
       "      <td>1</td>\n",
       "      <td>2022-09-12 22:00:00</td>\n",
       "      <td>TRANSFER</td>\n",
       "      <td>536624.41</td>\n",
       "      <td>536624.41</td>\n",
       "      <td>0.0</td>\n",
       "      <td>0.0</td>\n",
       "    </tr>\n",
       "    <tr>\n",
       "      <th>5563622</th>\n",
       "      <td>5563713</td>\n",
       "      <td>C908544136</td>\n",
       "      <td>C891140444</td>\n",
       "      <td>4892193.09</td>\n",
       "      <td>1</td>\n",
       "      <td>1</td>\n",
       "      <td>2022-09-17 10:00:00</td>\n",
       "      <td>TRANSFER</td>\n",
       "      <td>4892193.09</td>\n",
       "      <td>4892193.09</td>\n",
       "      <td>0.0</td>\n",
       "      <td>0.0</td>\n",
       "    </tr>\n",
       "    <tr>\n",
       "      <th>5996313</th>\n",
       "      <td>5996407</td>\n",
       "      <td>C689608084</td>\n",
       "      <td>C1392803603</td>\n",
       "      <td>10000000.00</td>\n",
       "      <td>1</td>\n",
       "      <td>1</td>\n",
       "      <td>2022-09-19 00:00:00</td>\n",
       "      <td>TRANSFER</td>\n",
       "      <td>19585040.37</td>\n",
       "      <td>19585040.37</td>\n",
       "      <td>0.0</td>\n",
       "      <td>0.0</td>\n",
       "    </tr>\n",
       "    <tr>\n",
       "      <th>5996315</th>\n",
       "      <td>5996409</td>\n",
       "      <td>C452586515</td>\n",
       "      <td>C1109166882</td>\n",
       "      <td>9585040.37</td>\n",
       "      <td>1</td>\n",
       "      <td>1</td>\n",
       "      <td>2022-09-19 00:00:00</td>\n",
       "      <td>TRANSFER</td>\n",
       "      <td>19585040.37</td>\n",
       "      <td>19585040.37</td>\n",
       "      <td>0.0</td>\n",
       "      <td>0.0</td>\n",
       "    </tr>\n",
       "    <tr>\n",
       "      <th>6168403</th>\n",
       "      <td>6168499</td>\n",
       "      <td>C193696150</td>\n",
       "      <td>C484597480</td>\n",
       "      <td>3576297.10</td>\n",
       "      <td>1</td>\n",
       "      <td>1</td>\n",
       "      <td>2022-09-24 09:00:00</td>\n",
       "      <td>TRANSFER</td>\n",
       "      <td>3576297.10</td>\n",
       "      <td>3576297.10</td>\n",
       "      <td>0.0</td>\n",
       "      <td>0.0</td>\n",
       "    </tr>\n",
       "    <tr>\n",
       "      <th>6205342</th>\n",
       "      <td>6205439</td>\n",
       "      <td>C1684585475</td>\n",
       "      <td>C1770418982</td>\n",
       "      <td>353874.22</td>\n",
       "      <td>1</td>\n",
       "      <td>1</td>\n",
       "      <td>2022-09-25 17:00:00</td>\n",
       "      <td>TRANSFER</td>\n",
       "      <td>353874.22</td>\n",
       "      <td>353874.22</td>\n",
       "      <td>0.0</td>\n",
       "      <td>0.0</td>\n",
       "    </tr>\n",
       "    <tr>\n",
       "      <th>6266315</th>\n",
       "      <td>6266413</td>\n",
       "      <td>C786455622</td>\n",
       "      <td>C661958277</td>\n",
       "      <td>2542664.27</td>\n",
       "      <td>1</td>\n",
       "      <td>1</td>\n",
       "      <td>2022-09-27 00:00:00</td>\n",
       "      <td>TRANSFER</td>\n",
       "      <td>2542664.27</td>\n",
       "      <td>2542664.27</td>\n",
       "      <td>0.0</td>\n",
       "      <td>0.0</td>\n",
       "    </tr>\n",
       "    <tr>\n",
       "      <th>6281382</th>\n",
       "      <td>6281482</td>\n",
       "      <td>C19004745</td>\n",
       "      <td>C1806199534</td>\n",
       "      <td>10000000.00</td>\n",
       "      <td>1</td>\n",
       "      <td>1</td>\n",
       "      <td>2022-09-28 05:00:00</td>\n",
       "      <td>TRANSFER</td>\n",
       "      <td>10399045.08</td>\n",
       "      <td>10399045.08</td>\n",
       "      <td>0.0</td>\n",
       "      <td>0.0</td>\n",
       "    </tr>\n",
       "    <tr>\n",
       "      <th>6281384</th>\n",
       "      <td>6281484</td>\n",
       "      <td>C724693370</td>\n",
       "      <td>C1909486199</td>\n",
       "      <td>399045.08</td>\n",
       "      <td>1</td>\n",
       "      <td>1</td>\n",
       "      <td>2022-09-28 05:00:00</td>\n",
       "      <td>TRANSFER</td>\n",
       "      <td>10399045.08</td>\n",
       "      <td>10399045.08</td>\n",
       "      <td>0.0</td>\n",
       "      <td>0.0</td>\n",
       "    </tr>\n",
       "    <tr>\n",
       "      <th>6295914</th>\n",
       "      <td>6296014</td>\n",
       "      <td>C917414431</td>\n",
       "      <td>C1082139865</td>\n",
       "      <td>3441041.46</td>\n",
       "      <td>1</td>\n",
       "      <td>1</td>\n",
       "      <td>2022-09-29 06:00:00</td>\n",
       "      <td>TRANSFER</td>\n",
       "      <td>3441041.46</td>\n",
       "      <td>3441041.46</td>\n",
       "      <td>0.0</td>\n",
       "      <td>0.0</td>\n",
       "    </tr>\n",
       "    <tr>\n",
       "      <th>6351125</th>\n",
       "      <td>6351225</td>\n",
       "      <td>C1892216157</td>\n",
       "      <td>C1308068787</td>\n",
       "      <td>3171085.59</td>\n",
       "      <td>1</td>\n",
       "      <td>1</td>\n",
       "      <td>2022-09-30 13:00:00</td>\n",
       "      <td>TRANSFER</td>\n",
       "      <td>3171085.59</td>\n",
       "      <td>3171085.59</td>\n",
       "      <td>0.0</td>\n",
       "      <td>0.0</td>\n",
       "    </tr>\n",
       "    <tr>\n",
       "      <th>6362360</th>\n",
       "      <td>6362460</td>\n",
       "      <td>C2140038573</td>\n",
       "      <td>C1395467927</td>\n",
       "      <td>10000000.00</td>\n",
       "      <td>1</td>\n",
       "      <td>1</td>\n",
       "      <td>2022-10-01 17:00:00</td>\n",
       "      <td>TRANSFER</td>\n",
       "      <td>17316255.05</td>\n",
       "      <td>17316255.05</td>\n",
       "      <td>0.0</td>\n",
       "      <td>0.0</td>\n",
       "    </tr>\n",
       "    <tr>\n",
       "      <th>6362362</th>\n",
       "      <td>6362462</td>\n",
       "      <td>C1869569059</td>\n",
       "      <td>C1861208726</td>\n",
       "      <td>7316255.05</td>\n",
       "      <td>1</td>\n",
       "      <td>1</td>\n",
       "      <td>2022-10-01 17:00:00</td>\n",
       "      <td>TRANSFER</td>\n",
       "      <td>17316255.05</td>\n",
       "      <td>17316255.05</td>\n",
       "      <td>0.0</td>\n",
       "      <td>0.0</td>\n",
       "    </tr>\n",
       "    <tr>\n",
       "      <th>6362484</th>\n",
       "      <td>6362584</td>\n",
       "      <td>C992223106</td>\n",
       "      <td>C1366804249</td>\n",
       "      <td>5674547.89</td>\n",
       "      <td>1</td>\n",
       "      <td>1</td>\n",
       "      <td>2022-10-02 04:00:00</td>\n",
       "      <td>TRANSFER</td>\n",
       "      <td>5674547.89</td>\n",
       "      <td>5674547.89</td>\n",
       "      <td>0.0</td>\n",
       "      <td>0.0</td>\n",
       "    </tr>\n",
       "  </tbody>\n",
       "</table>\n",
       "</div>"
      ],
      "text/plain": [
       "            t_id       origen      destino      cuantia  es_fraude  \\\n",
       "2736399  2736446   C728984460   C639921569   4953893.08          1   \n",
       "3247240  3247297  C1100582606  C1147517658   1343002.08          1   \n",
       "3760224  3760288  C1035541766  C1100697970    536624.41          1   \n",
       "5563622  5563713   C908544136   C891140444   4892193.09          1   \n",
       "5996313  5996407   C689608084  C1392803603  10000000.00          1   \n",
       "5996315  5996409   C452586515  C1109166882   9585040.37          1   \n",
       "6168403  6168499   C193696150   C484597480   3576297.10          1   \n",
       "6205342  6205439  C1684585475  C1770418982    353874.22          1   \n",
       "6266315  6266413   C786455622   C661958277   2542664.27          1   \n",
       "6281382  6281482    C19004745  C1806199534  10000000.00          1   \n",
       "6281384  6281484   C724693370  C1909486199    399045.08          1   \n",
       "6295914  6296014   C917414431  C1082139865   3441041.46          1   \n",
       "6351125  6351225  C1892216157  C1308068787   3171085.59          1   \n",
       "6362360  6362460  C2140038573  C1395467927  10000000.00          1   \n",
       "6362362  6362462  C1869569059  C1861208726   7316255.05          1   \n",
       "6362484  6362584   C992223106  C1366804249   5674547.89          1   \n",
       "\n",
       "         mensaje_alarma     hora_transaccion      tipo  balance_prev_or  \\\n",
       "2736399               1  2022-09-10 03:00:00  TRANSFER       4953893.08   \n",
       "3247240               1  2022-09-11 17:00:00  TRANSFER       1343002.08   \n",
       "3760224               1  2022-09-12 22:00:00  TRANSFER        536624.41   \n",
       "5563622               1  2022-09-17 10:00:00  TRANSFER       4892193.09   \n",
       "5996313               1  2022-09-19 00:00:00  TRANSFER      19585040.37   \n",
       "5996315               1  2022-09-19 00:00:00  TRANSFER      19585040.37   \n",
       "6168403               1  2022-09-24 09:00:00  TRANSFER       3576297.10   \n",
       "6205342               1  2022-09-25 17:00:00  TRANSFER        353874.22   \n",
       "6266315               1  2022-09-27 00:00:00  TRANSFER       2542664.27   \n",
       "6281382               1  2022-09-28 05:00:00  TRANSFER      10399045.08   \n",
       "6281384               1  2022-09-28 05:00:00  TRANSFER      10399045.08   \n",
       "6295914               1  2022-09-29 06:00:00  TRANSFER       3441041.46   \n",
       "6351125               1  2022-09-30 13:00:00  TRANSFER       3171085.59   \n",
       "6362360               1  2022-10-01 17:00:00  TRANSFER      17316255.05   \n",
       "6362362               1  2022-10-01 17:00:00  TRANSFER      17316255.05   \n",
       "6362484               1  2022-10-02 04:00:00  TRANSFER       5674547.89   \n",
       "\n",
       "         balance_post_or  balance_prev_des  balance_post_des  \n",
       "2736399       4953893.08               0.0               0.0  \n",
       "3247240       1343002.08               0.0               0.0  \n",
       "3760224        536624.41               0.0               0.0  \n",
       "5563622       4892193.09               0.0               0.0  \n",
       "5996313      19585040.37               0.0               0.0  \n",
       "5996315      19585040.37               0.0               0.0  \n",
       "6168403       3576297.10               0.0               0.0  \n",
       "6205342        353874.22               0.0               0.0  \n",
       "6266315       2542664.27               0.0               0.0  \n",
       "6281382      10399045.08               0.0               0.0  \n",
       "6281384      10399045.08               0.0               0.0  \n",
       "6295914       3441041.46               0.0               0.0  \n",
       "6351125       3171085.59               0.0               0.0  \n",
       "6362360      17316255.05               0.0               0.0  \n",
       "6362362      17316255.05               0.0               0.0  \n",
       "6362484       5674547.89               0.0               0.0  "
      ]
     },
     "execution_count": 83,
     "metadata": {},
     "output_type": "execute_result"
    }
   ],
   "source": [
    "df[(df['mensaje_alarma'] == 1)]"
   ]
  },
  {
   "cell_type": "markdown",
   "metadata": {},
   "source": [
    "De los 16 registros en los que han saltado la alarma, se observa lo siguiente:\n",
    "\n",
    "* El tipo de transacción siempre es de tipo TRANSFER.\n",
    "* Todas las instancias tienen el balance_prev_des y balance_post_des iguales e iguales a 0, es decir, no se descuenta el valor del dinero en la transacción.\n",
    "* Parece que cuando hay un intento de transferencia de elevada cuantía, el sistema marca esa transacción como fraudulenta."
   ]
  },
  {
   "cell_type": "markdown",
   "metadata": {},
   "source": [
    "#### Variable: balance_prev_des y balance_post_des"
   ]
  },
  {
   "cell_type": "markdown",
   "metadata": {},
   "source": [
    "#### Variable: balance_prev_or y balance_post_or"
   ]
  },
  {
   "cell_type": "markdown",
   "metadata": {},
   "source": [
    "#### Variable: hora_transaccion"
   ]
  },
  {
   "cell_type": "code",
   "execution_count": 219,
   "metadata": {},
   "outputs": [
    {
     "data": {
      "text/html": [
       "<div>\n",
       "<style scoped>\n",
       "    .dataframe tbody tr th:only-of-type {\n",
       "        vertical-align: middle;\n",
       "    }\n",
       "\n",
       "    .dataframe tbody tr th {\n",
       "        vertical-align: top;\n",
       "    }\n",
       "\n",
       "    .dataframe thead th {\n",
       "        text-align: right;\n",
       "    }\n",
       "</style>\n",
       "<table border=\"1\" class=\"dataframe\">\n",
       "  <thead>\n",
       "    <tr style=\"text-align: right;\">\n",
       "      <th></th>\n",
       "      <th>t_id</th>\n",
       "      <th>origen</th>\n",
       "      <th>destino</th>\n",
       "      <th>cuantia</th>\n",
       "      <th>es_fraude</th>\n",
       "      <th>mensaje_alarma</th>\n",
       "      <th>hora_transaccion</th>\n",
       "      <th>tipo</th>\n",
       "      <th>balance_prev_or</th>\n",
       "      <th>balance_post_or</th>\n",
       "      <th>balance_prev_des</th>\n",
       "      <th>balance_post_des</th>\n",
       "    </tr>\n",
       "  </thead>\n",
       "  <tbody>\n",
       "    <tr>\n",
       "      <th>0</th>\n",
       "      <td>0</td>\n",
       "      <td>C1231006815</td>\n",
       "      <td>M1979787155</td>\n",
       "      <td>9839.64</td>\n",
       "      <td>0</td>\n",
       "      <td>No_detectado_fraude</td>\n",
       "      <td>2022-09-01 08:00:00</td>\n",
       "      <td>PAYMENT</td>\n",
       "      <td>170136.0</td>\n",
       "      <td>160296.36</td>\n",
       "      <td>0.0</td>\n",
       "      <td>0.0</td>\n",
       "    </tr>\n",
       "    <tr>\n",
       "      <th>1</th>\n",
       "      <td>1</td>\n",
       "      <td>C1666544295</td>\n",
       "      <td>M2044282225</td>\n",
       "      <td>1864.28</td>\n",
       "      <td>0</td>\n",
       "      <td>No_detectado_fraude</td>\n",
       "      <td>2022-09-01 08:00:00</td>\n",
       "      <td>PAYMENT</td>\n",
       "      <td>21249.0</td>\n",
       "      <td>19384.72</td>\n",
       "      <td>0.0</td>\n",
       "      <td>0.0</td>\n",
       "    </tr>\n",
       "    <tr>\n",
       "      <th>2</th>\n",
       "      <td>2</td>\n",
       "      <td>C1305486145</td>\n",
       "      <td>C553264065</td>\n",
       "      <td>181.00</td>\n",
       "      <td>1</td>\n",
       "      <td>No_detectado_fraude</td>\n",
       "      <td>2022-09-01 08:00:00</td>\n",
       "      <td>TRANSFER</td>\n",
       "      <td>181.0</td>\n",
       "      <td>0.00</td>\n",
       "      <td>0.0</td>\n",
       "      <td>0.0</td>\n",
       "    </tr>\n",
       "    <tr>\n",
       "      <th>3</th>\n",
       "      <td>3</td>\n",
       "      <td>C840083671</td>\n",
       "      <td>C38997010</td>\n",
       "      <td>181.00</td>\n",
       "      <td>1</td>\n",
       "      <td>No_detectado_fraude</td>\n",
       "      <td>2022-09-01 08:00:00</td>\n",
       "      <td>CASH_OUT</td>\n",
       "      <td>181.0</td>\n",
       "      <td>0.00</td>\n",
       "      <td>21182.0</td>\n",
       "      <td>0.0</td>\n",
       "    </tr>\n",
       "    <tr>\n",
       "      <th>4</th>\n",
       "      <td>4</td>\n",
       "      <td>C2048537720</td>\n",
       "      <td>M1230701703</td>\n",
       "      <td>11668.14</td>\n",
       "      <td>0</td>\n",
       "      <td>No_detectado_fraude</td>\n",
       "      <td>2022-09-01 08:00:00</td>\n",
       "      <td>PAYMENT</td>\n",
       "      <td>41554.0</td>\n",
       "      <td>29885.86</td>\n",
       "      <td>0.0</td>\n",
       "      <td>0.0</td>\n",
       "    </tr>\n",
       "  </tbody>\n",
       "</table>\n",
       "</div>"
      ],
      "text/plain": [
       "   t_id       origen      destino   cuantia  es_fraude       mensaje_alarma  \\\n",
       "0     0  C1231006815  M1979787155   9839.64          0  No_detectado_fraude   \n",
       "1     1  C1666544295  M2044282225   1864.28          0  No_detectado_fraude   \n",
       "2     2  C1305486145   C553264065    181.00          1  No_detectado_fraude   \n",
       "3     3   C840083671    C38997010    181.00          1  No_detectado_fraude   \n",
       "4     4  C2048537720  M1230701703  11668.14          0  No_detectado_fraude   \n",
       "\n",
       "      hora_transaccion      tipo  balance_prev_or  balance_post_or  \\\n",
       "0  2022-09-01 08:00:00   PAYMENT         170136.0        160296.36   \n",
       "1  2022-09-01 08:00:00   PAYMENT          21249.0         19384.72   \n",
       "2  2022-09-01 08:00:00  TRANSFER            181.0             0.00   \n",
       "3  2022-09-01 08:00:00  CASH_OUT            181.0             0.00   \n",
       "4  2022-09-01 08:00:00   PAYMENT          41554.0         29885.86   \n",
       "\n",
       "   balance_prev_des  balance_post_des  \n",
       "0               0.0               0.0  \n",
       "1               0.0               0.0  \n",
       "2               0.0               0.0  \n",
       "3           21182.0               0.0  \n",
       "4               0.0               0.0  "
      ]
     },
     "execution_count": 219,
     "metadata": {},
     "output_type": "execute_result"
    }
   ],
   "source": [
    "df.head()"
   ]
  },
  {
   "cell_type": "code",
   "execution_count": 11,
   "metadata": {},
   "outputs": [],
   "source": [
    "df_tiempo_original = pd.read_csv('./datos/tiempo_original.csv')\n",
    "df = pd.merge(df_tiempo_original, df, on=\"t_id\", how=\"inner\")\n",
    "df.drop('hora_transaccion_y', axis=1, inplace=True)\n",
    "df.rename(columns={'hora_transaccion_x':'hora_transaccion'}, inplace=True)"
   ]
  },
  {
   "cell_type": "code",
   "execution_count": 12,
   "metadata": {},
   "outputs": [
    {
     "data": {
      "text/html": [
       "<div>\n",
       "<style scoped>\n",
       "    .dataframe tbody tr th:only-of-type {\n",
       "        vertical-align: middle;\n",
       "    }\n",
       "\n",
       "    .dataframe tbody tr th {\n",
       "        vertical-align: top;\n",
       "    }\n",
       "\n",
       "    .dataframe thead th {\n",
       "        text-align: right;\n",
       "    }\n",
       "</style>\n",
       "<table border=\"1\" class=\"dataframe\">\n",
       "  <thead>\n",
       "    <tr style=\"text-align: right;\">\n",
       "      <th></th>\n",
       "      <th>hora_transaccion</th>\n",
       "      <th>t_id</th>\n",
       "      <th>origen</th>\n",
       "      <th>destino</th>\n",
       "      <th>cuantia</th>\n",
       "      <th>es_fraude</th>\n",
       "      <th>mensaje_alarma</th>\n",
       "      <th>tipo</th>\n",
       "      <th>balance_prev_or</th>\n",
       "      <th>balance_post_or</th>\n",
       "      <th>balance_prev_des</th>\n",
       "      <th>balance_post_des</th>\n",
       "    </tr>\n",
       "  </thead>\n",
       "  <tbody>\n",
       "    <tr>\n",
       "      <th>0</th>\n",
       "      <td>1</td>\n",
       "      <td>0</td>\n",
       "      <td>C1231006815</td>\n",
       "      <td>M1979787155</td>\n",
       "      <td>9839.64</td>\n",
       "      <td>0</td>\n",
       "      <td>0</td>\n",
       "      <td>PAYMENT</td>\n",
       "      <td>170136.0</td>\n",
       "      <td>160296.36</td>\n",
       "      <td>0.0</td>\n",
       "      <td>0.0</td>\n",
       "    </tr>\n",
       "    <tr>\n",
       "      <th>1</th>\n",
       "      <td>1</td>\n",
       "      <td>1</td>\n",
       "      <td>C1666544295</td>\n",
       "      <td>M2044282225</td>\n",
       "      <td>1864.28</td>\n",
       "      <td>0</td>\n",
       "      <td>0</td>\n",
       "      <td>PAYMENT</td>\n",
       "      <td>21249.0</td>\n",
       "      <td>19384.72</td>\n",
       "      <td>0.0</td>\n",
       "      <td>0.0</td>\n",
       "    </tr>\n",
       "    <tr>\n",
       "      <th>2</th>\n",
       "      <td>1</td>\n",
       "      <td>2</td>\n",
       "      <td>C1305486145</td>\n",
       "      <td>C553264065</td>\n",
       "      <td>181.00</td>\n",
       "      <td>1</td>\n",
       "      <td>0</td>\n",
       "      <td>TRANSFER</td>\n",
       "      <td>181.0</td>\n",
       "      <td>0.00</td>\n",
       "      <td>0.0</td>\n",
       "      <td>0.0</td>\n",
       "    </tr>\n",
       "    <tr>\n",
       "      <th>3</th>\n",
       "      <td>1</td>\n",
       "      <td>3</td>\n",
       "      <td>C840083671</td>\n",
       "      <td>C38997010</td>\n",
       "      <td>181.00</td>\n",
       "      <td>1</td>\n",
       "      <td>0</td>\n",
       "      <td>CASH_OUT</td>\n",
       "      <td>181.0</td>\n",
       "      <td>0.00</td>\n",
       "      <td>21182.0</td>\n",
       "      <td>0.0</td>\n",
       "    </tr>\n",
       "    <tr>\n",
       "      <th>4</th>\n",
       "      <td>1</td>\n",
       "      <td>4</td>\n",
       "      <td>C2048537720</td>\n",
       "      <td>M1230701703</td>\n",
       "      <td>11668.14</td>\n",
       "      <td>0</td>\n",
       "      <td>0</td>\n",
       "      <td>PAYMENT</td>\n",
       "      <td>41554.0</td>\n",
       "      <td>29885.86</td>\n",
       "      <td>0.0</td>\n",
       "      <td>0.0</td>\n",
       "    </tr>\n",
       "  </tbody>\n",
       "</table>\n",
       "</div>"
      ],
      "text/plain": [
       "   hora_transaccion  t_id       origen      destino   cuantia  es_fraude  \\\n",
       "0                 1     0  C1231006815  M1979787155   9839.64          0   \n",
       "1                 1     1  C1666544295  M2044282225   1864.28          0   \n",
       "2                 1     2  C1305486145   C553264065    181.00          1   \n",
       "3                 1     3   C840083671    C38997010    181.00          1   \n",
       "4                 1     4  C2048537720  M1230701703  11668.14          0   \n",
       "\n",
       "   mensaje_alarma      tipo  balance_prev_or  balance_post_or  \\\n",
       "0               0   PAYMENT         170136.0        160296.36   \n",
       "1               0   PAYMENT          21249.0         19384.72   \n",
       "2               0  TRANSFER            181.0             0.00   \n",
       "3               0  CASH_OUT            181.0             0.00   \n",
       "4               0   PAYMENT          41554.0         29885.86   \n",
       "\n",
       "   balance_prev_des  balance_post_des  \n",
       "0               0.0               0.0  \n",
       "1               0.0               0.0  \n",
       "2               0.0               0.0  \n",
       "3           21182.0               0.0  \n",
       "4               0.0               0.0  "
      ]
     },
     "execution_count": 12,
     "metadata": {},
     "output_type": "execute_result"
    }
   ],
   "source": [
    "df.head()"
   ]
  },
  {
   "cell_type": "code",
   "execution_count": 13,
   "metadata": {},
   "outputs": [
    {
     "data": {
      "text/plain": [
       "hora_transaccion    False\n",
       "t_id                False\n",
       "origen              False\n",
       "destino             False\n",
       "cuantia             False\n",
       "es_fraude           False\n",
       "mensaje_alarma      False\n",
       "tipo                False\n",
       "balance_prev_or     False\n",
       "balance_post_or     False\n",
       "balance_prev_des    False\n",
       "balance_post_des    False\n",
       "dtype: bool"
      ]
     },
     "execution_count": 13,
     "metadata": {},
     "output_type": "execute_result"
    }
   ],
   "source": [
    "df.isnull().any()"
   ]
  },
  {
   "cell_type": "markdown",
   "metadata": {},
   "source": [
    "### Feature Encoding"
   ]
  },
  {
   "cell_type": "markdown",
   "metadata": {},
   "source": [
    "Debemos transformar las cadenas de variables categóricas en números para que los algoritmos puedan manejar esos valores. Incluso aunque pueda suceder que un algoritmo pueda aceptar entradas categóricas, es muy probable que el algoritmo incorpore el proceso de codificación internamente."
   ]
  },
  {
   "cell_type": "markdown",
   "metadata": {},
   "source": [
    "#### One hot encoding"
   ]
  },
  {
   "cell_type": "code",
   "execution_count": 14,
   "metadata": {},
   "outputs": [
    {
     "name": "stdout",
     "output_type": "stream",
     "text": [
      "<StringArray>\n",
      "['PAYMENT', 'TRANSFER', 'CASH_OUT', 'DEBIT', 'CASH_IN']\n",
      "Length: 5, dtype: string\n"
     ]
    }
   ],
   "source": [
    "print(df['tipo'].unique())"
   ]
  },
  {
   "cell_type": "code",
   "execution_count": 16,
   "metadata": {},
   "outputs": [
    {
     "data": {
      "text/html": [
       "<div>\n",
       "<style scoped>\n",
       "    .dataframe tbody tr th:only-of-type {\n",
       "        vertical-align: middle;\n",
       "    }\n",
       "\n",
       "    .dataframe tbody tr th {\n",
       "        vertical-align: top;\n",
       "    }\n",
       "\n",
       "    .dataframe thead th {\n",
       "        text-align: right;\n",
       "    }\n",
       "</style>\n",
       "<table border=\"1\" class=\"dataframe\">\n",
       "  <thead>\n",
       "    <tr style=\"text-align: right;\">\n",
       "      <th></th>\n",
       "      <th>hora_transaccion</th>\n",
       "      <th>t_id</th>\n",
       "      <th>cuantia</th>\n",
       "      <th>es_fraude</th>\n",
       "      <th>mensaje_alarma</th>\n",
       "      <th>balance_prev_or</th>\n",
       "      <th>balance_post_or</th>\n",
       "      <th>balance_prev_des</th>\n",
       "      <th>balance_post_des</th>\n",
       "      <th>CASH_IN</th>\n",
       "      <th>CASH_OUT</th>\n",
       "      <th>DEBIT</th>\n",
       "      <th>PAYMENT</th>\n",
       "      <th>TRANSFER</th>\n",
       "    </tr>\n",
       "  </thead>\n",
       "  <tbody>\n",
       "    <tr>\n",
       "      <th>0</th>\n",
       "      <td>1</td>\n",
       "      <td>0</td>\n",
       "      <td>9839.64</td>\n",
       "      <td>0</td>\n",
       "      <td>0</td>\n",
       "      <td>170136.0</td>\n",
       "      <td>160296.36</td>\n",
       "      <td>0.0</td>\n",
       "      <td>0.0</td>\n",
       "      <td>0</td>\n",
       "      <td>0</td>\n",
       "      <td>0</td>\n",
       "      <td>1</td>\n",
       "      <td>0</td>\n",
       "    </tr>\n",
       "    <tr>\n",
       "      <th>1</th>\n",
       "      <td>1</td>\n",
       "      <td>1</td>\n",
       "      <td>1864.28</td>\n",
       "      <td>0</td>\n",
       "      <td>0</td>\n",
       "      <td>21249.0</td>\n",
       "      <td>19384.72</td>\n",
       "      <td>0.0</td>\n",
       "      <td>0.0</td>\n",
       "      <td>0</td>\n",
       "      <td>0</td>\n",
       "      <td>0</td>\n",
       "      <td>1</td>\n",
       "      <td>0</td>\n",
       "    </tr>\n",
       "    <tr>\n",
       "      <th>2</th>\n",
       "      <td>1</td>\n",
       "      <td>2</td>\n",
       "      <td>181.00</td>\n",
       "      <td>1</td>\n",
       "      <td>0</td>\n",
       "      <td>181.0</td>\n",
       "      <td>0.00</td>\n",
       "      <td>0.0</td>\n",
       "      <td>0.0</td>\n",
       "      <td>0</td>\n",
       "      <td>0</td>\n",
       "      <td>0</td>\n",
       "      <td>0</td>\n",
       "      <td>1</td>\n",
       "    </tr>\n",
       "    <tr>\n",
       "      <th>3</th>\n",
       "      <td>1</td>\n",
       "      <td>3</td>\n",
       "      <td>181.00</td>\n",
       "      <td>1</td>\n",
       "      <td>0</td>\n",
       "      <td>181.0</td>\n",
       "      <td>0.00</td>\n",
       "      <td>21182.0</td>\n",
       "      <td>0.0</td>\n",
       "      <td>0</td>\n",
       "      <td>1</td>\n",
       "      <td>0</td>\n",
       "      <td>0</td>\n",
       "      <td>0</td>\n",
       "    </tr>\n",
       "    <tr>\n",
       "      <th>4</th>\n",
       "      <td>1</td>\n",
       "      <td>4</td>\n",
       "      <td>11668.14</td>\n",
       "      <td>0</td>\n",
       "      <td>0</td>\n",
       "      <td>41554.0</td>\n",
       "      <td>29885.86</td>\n",
       "      <td>0.0</td>\n",
       "      <td>0.0</td>\n",
       "      <td>0</td>\n",
       "      <td>0</td>\n",
       "      <td>0</td>\n",
       "      <td>1</td>\n",
       "      <td>0</td>\n",
       "    </tr>\n",
       "  </tbody>\n",
       "</table>\n",
       "</div>"
      ],
      "text/plain": [
       "   hora_transaccion  t_id   cuantia  es_fraude  mensaje_alarma  \\\n",
       "0                 1     0   9839.64          0               0   \n",
       "1                 1     1   1864.28          0               0   \n",
       "2                 1     2    181.00          1               0   \n",
       "3                 1     3    181.00          1               0   \n",
       "4                 1     4  11668.14          0               0   \n",
       "\n",
       "   balance_prev_or  balance_post_or  balance_prev_des  balance_post_des  \\\n",
       "0         170136.0        160296.36               0.0               0.0   \n",
       "1          21249.0         19384.72               0.0               0.0   \n",
       "2            181.0             0.00               0.0               0.0   \n",
       "3            181.0             0.00           21182.0               0.0   \n",
       "4          41554.0         29885.86               0.0               0.0   \n",
       "\n",
       "   CASH_IN  CASH_OUT  DEBIT  PAYMENT  TRANSFER  \n",
       "0        0         0      0        1         0  \n",
       "1        0         0      0        1         0  \n",
       "2        0         0      0        0         1  \n",
       "3        0         1      0        0         0  \n",
       "4        0         0      0        1         0  "
      ]
     },
     "metadata": {},
     "output_type": "display_data"
    }
   ],
   "source": [
    "from sklearn.preprocessing import OneHotEncoder\n",
    "\n",
    "# Inicializamos el codificador\n",
    "encoder = OneHotEncoder(sparse_output=False)\n",
    "\n",
    "# Ajustamos y transformamos la columna 'tipo'\n",
    "encoded_data = encoder.fit_transform(df[['tipo']])\n",
    "\n",
    "# Definimos correctamente los nombres de columnas (faltaba este paso)\n",
    "column_names = encoder.get_feature_names_out(['tipo'])\n",
    "column_names = [col.replace('tipo_', '') for col in column_names]\n",
    "\n",
    "# Creamos el DataFrame codificado manteniendo el índice original\n",
    "encoded_df = pd.DataFrame(encoded_data, columns=column_names, index=df.index).astype(int)\n",
    "\n",
    "# Eliminamos columnas originales innecesarias y unimos con las nuevas codificadas\n",
    "df = pd.concat([df.drop(columns=['tipo', 'origen', 'destino']), encoded_df], axis=1)\n",
    "\n",
    "display(df.head())"
   ]
  },
  {
   "cell_type": "markdown",
   "metadata": {},
   "source": [
    "### Feature Selection"
   ]
  },
  {
   "cell_type": "markdown",
   "metadata": {},
   "source": [
    "La selección de características es el proceso de elegir un subconjunto de características relevantes para su uso en la construcción de modelos de aprendizaje automático.\n",
    "\n",
    "No siempre es cierto que cuanta más información tengamos, mejor será el resultado. Incluir características irrelevantes (aquellas que no aportan valor a la predicción) y características redundantes (irrelevantes en presencia de otras) solo sobrecargará el proceso de aprendizaje y aumentará el riesgo de sobreajuste (overfitting).\n",
    "\n",
    "Con la selección de características, podemos lograr:\n",
    "\n",
    "* Simplificación de modelos, facilitando su interpretación.\n",
    "* Tiempos de entrenamiento más cortos y menor costo computacional.\n",
    "* Menor costo en la recopilación de datos.\n",
    "* Evitar la maldición de la dimensionalidad.\n",
    "* Mejor generalización al reducir el sobreajuste.\n",
    "* Es importante recordar que diferentes subconjuntos de características pueden ofrecer un rendimiento óptimo para distintos algoritmos. Por lo tanto, la selección de características no es un proceso separado del entrenamiento del modelo de aprendizaje automático.\n",
    "\n",
    "Si estamos seleccionando características para un modelo lineal, es mejor utilizar procedimientos de selección específicos para este tipo de modelos, como la importancia basada en coeficientes de regresión o Lasso. Por otro lado, si estamos seleccionando características para modelos basados en árboles, es preferible utilizar la importancia derivada de los árboles."
   ]
  },
  {
   "cell_type": "markdown",
   "metadata": {},
   "source": [
    "#### Análisis de redundancia (RDA)"
   ]
  },
  {
   "cell_type": "markdown",
   "metadata": {},
   "source": [
    "##### De atributos:"
   ]
  },
  {
   "cell_type": "markdown",
   "metadata": {},
   "source": [
    "A continuación, se va a comprobar la redundancia de las características mediante el análisis de correlación, ya que todas las variables son numéricas."
   ]
  },
  {
   "cell_type": "code",
   "execution_count": 275,
   "metadata": {},
   "outputs": [
    {
     "data": {
      "text/plain": [
       "Index(['hora_transaccion', 't_id', 'cuantia', 'es_fraude', 'mensaje_alarma',\n",
       "       'balance_prev_or', 'balance_post_or', 'balance_prev_des',\n",
       "       'balance_post_des', 'CASH_IN', 'CASH_OUT', 'DEBIT', 'PAYMENT',\n",
       "       'TRANSFER'],\n",
       "      dtype='object')"
      ]
     },
     "execution_count": 275,
     "metadata": {},
     "output_type": "execute_result"
    }
   ],
   "source": [
    "df.columns"
   ]
  },
  {
   "cell_type": "code",
   "execution_count": 58,
   "metadata": {},
   "outputs": [
    {
     "data": {
      "text/plain": [
       "Index(['hora_transaccion', 'es_fraude', 'mensaje_alarma', 'balance_prev_or',\n",
       "       'balance_post_or', 'balance_prev_des'],\n",
       "      dtype='object')"
      ]
     },
     "execution_count": 58,
     "metadata": {},
     "output_type": "execute_result"
    }
   ],
   "source": [
    "variables_cuantitativas = df.iloc[:, [0, 3, 4, 5, 6, 7]]\n",
    "variables_cuantitativas.columns"
   ]
  },
  {
   "cell_type": "code",
   "execution_count": 59,
   "metadata": {},
   "outputs": [
    {
     "data": {
      "text/html": [
       "<style type=\"text/css\">\n",
       "#T_c61b2_row0_col0, #T_c61b2_row1_col1, #T_c61b2_row2_col2, #T_c61b2_row3_col3, #T_c61b2_row3_col4, #T_c61b2_row4_col3, #T_c61b2_row4_col4, #T_c61b2_row5_col5 {\n",
       "  background-color: #2d004b;\n",
       "  color: #f1f1f1;\n",
       "}\n",
       "#T_c61b2_row0_col1, #T_c61b2_row1_col0 {\n",
       "  background-color: #934607;\n",
       "  color: #f1f1f1;\n",
       "}\n",
       "#T_c61b2_row0_col2, #T_c61b2_row0_col3, #T_c61b2_row0_col4, #T_c61b2_row1_col4, #T_c61b2_row1_col5, #T_c61b2_row3_col0, #T_c61b2_row4_col0, #T_c61b2_row4_col1, #T_c61b2_row5_col1, #T_c61b2_row5_col2 {\n",
       "  background-color: #7f3b08;\n",
       "  color: #f1f1f1;\n",
       "}\n",
       "#T_c61b2_row0_col5 {\n",
       "  background-color: #8f4407;\n",
       "  color: #f1f1f1;\n",
       "}\n",
       "#T_c61b2_row1_col2 {\n",
       "  background-color: #954807;\n",
       "  color: #f1f1f1;\n",
       "}\n",
       "#T_c61b2_row1_col3 {\n",
       "  background-color: #894108;\n",
       "  color: #f1f1f1;\n",
       "}\n",
       "#T_c61b2_row2_col0, #T_c61b2_row2_col3, #T_c61b2_row2_col4 {\n",
       "  background-color: #853e08;\n",
       "  color: #f1f1f1;\n",
       "}\n",
       "#T_c61b2_row2_col1 {\n",
       "  background-color: #9a4a07;\n",
       "  color: #f1f1f1;\n",
       "}\n",
       "#T_c61b2_row2_col5, #T_c61b2_row3_col2, #T_c61b2_row4_col2 {\n",
       "  background-color: #813c08;\n",
       "  color: #f1f1f1;\n",
       "}\n",
       "#T_c61b2_row3_col1 {\n",
       "  background-color: #874008;\n",
       "  color: #f1f1f1;\n",
       "}\n",
       "#T_c61b2_row3_col5, #T_c61b2_row4_col5 {\n",
       "  background-color: #a44f07;\n",
       "  color: #f1f1f1;\n",
       "}\n",
       "#T_c61b2_row5_col0 {\n",
       "  background-color: #914507;\n",
       "  color: #f1f1f1;\n",
       "}\n",
       "#T_c61b2_row5_col3, #T_c61b2_row5_col4 {\n",
       "  background-color: #a65107;\n",
       "  color: #f1f1f1;\n",
       "}\n",
       "</style>\n",
       "<table id=\"T_c61b2\">\n",
       "  <thead>\n",
       "    <tr>\n",
       "      <th class=\"blank level0\" >&nbsp;</th>\n",
       "      <th id=\"T_c61b2_level0_col0\" class=\"col_heading level0 col0\" >hora_transaccion</th>\n",
       "      <th id=\"T_c61b2_level0_col1\" class=\"col_heading level0 col1\" >es_fraude</th>\n",
       "      <th id=\"T_c61b2_level0_col2\" class=\"col_heading level0 col2\" >mensaje_alarma</th>\n",
       "      <th id=\"T_c61b2_level0_col3\" class=\"col_heading level0 col3\" >balance_prev_or</th>\n",
       "      <th id=\"T_c61b2_level0_col4\" class=\"col_heading level0 col4\" >balance_post_or</th>\n",
       "      <th id=\"T_c61b2_level0_col5\" class=\"col_heading level0 col5\" >balance_prev_des</th>\n",
       "    </tr>\n",
       "  </thead>\n",
       "  <tbody>\n",
       "    <tr>\n",
       "      <th id=\"T_c61b2_level0_row0\" class=\"row_heading level0 row0\" >hora_transaccion</th>\n",
       "      <td id=\"T_c61b2_row0_col0\" class=\"data row0 col0\" >1.000000</td>\n",
       "      <td id=\"T_c61b2_row0_col1\" class=\"data row0 col1\" >0.031555</td>\n",
       "      <td id=\"T_c61b2_row0_col2\" class=\"data row0 col2\" >0.003277</td>\n",
       "      <td id=\"T_c61b2_row0_col3\" class=\"data row0 col3\" >-0.010058</td>\n",
       "      <td id=\"T_c61b2_row0_col4\" class=\"data row0 col4\" >-0.010298</td>\n",
       "      <td id=\"T_c61b2_row0_col5\" class=\"data row0 col5\" >0.027666</td>\n",
       "    </tr>\n",
       "    <tr>\n",
       "      <th id=\"T_c61b2_level0_row1\" class=\"row_heading level0 row1\" >es_fraude</th>\n",
       "      <td id=\"T_c61b2_row1_col0\" class=\"data row1 col0\" >0.031555</td>\n",
       "      <td id=\"T_c61b2_row1_col1\" class=\"data row1 col1\" >1.000000</td>\n",
       "      <td id=\"T_c61b2_row1_col2\" class=\"data row1 col2\" >0.044120</td>\n",
       "      <td id=\"T_c61b2_row1_col3\" class=\"data row1 col3\" >0.010157</td>\n",
       "      <td id=\"T_c61b2_row1_col4\" class=\"data row1 col4\" >-0.008145</td>\n",
       "      <td id=\"T_c61b2_row1_col5\" class=\"data row1 col5\" >-0.005881</td>\n",
       "    </tr>\n",
       "    <tr>\n",
       "      <th id=\"T_c61b2_level0_row2\" class=\"row_heading level0 row2\" >mensaje_alarma</th>\n",
       "      <td id=\"T_c61b2_row2_col0\" class=\"data row2 col0\" >0.003277</td>\n",
       "      <td id=\"T_c61b2_row2_col1\" class=\"data row2 col1\" >0.044120</td>\n",
       "      <td id=\"T_c61b2_row2_col2\" class=\"data row2 col2\" >1.000000</td>\n",
       "      <td id=\"T_c61b2_row2_col3\" class=\"data row2 col3\" >0.003835</td>\n",
       "      <td id=\"T_c61b2_row2_col4\" class=\"data row2 col4\" >0.003776</td>\n",
       "      <td id=\"T_c61b2_row2_col5\" class=\"data row2 col5\" >-0.000514</td>\n",
       "    </tr>\n",
       "    <tr>\n",
       "      <th id=\"T_c61b2_level0_row3\" class=\"row_heading level0 row3\" >balance_prev_or</th>\n",
       "      <td id=\"T_c61b2_row3_col0\" class=\"data row3 col0\" >-0.010058</td>\n",
       "      <td id=\"T_c61b2_row3_col1\" class=\"data row3 col1\" >0.010157</td>\n",
       "      <td id=\"T_c61b2_row3_col2\" class=\"data row3 col2\" >0.003835</td>\n",
       "      <td id=\"T_c61b2_row3_col3\" class=\"data row3 col3\" >1.000000</td>\n",
       "      <td id=\"T_c61b2_row3_col4\" class=\"data row3 col4\" >0.998803</td>\n",
       "      <td id=\"T_c61b2_row3_col5\" class=\"data row3 col5\" >0.066243</td>\n",
       "    </tr>\n",
       "    <tr>\n",
       "      <th id=\"T_c61b2_level0_row4\" class=\"row_heading level0 row4\" >balance_post_or</th>\n",
       "      <td id=\"T_c61b2_row4_col0\" class=\"data row4 col0\" >-0.010298</td>\n",
       "      <td id=\"T_c61b2_row4_col1\" class=\"data row4 col1\" >-0.008145</td>\n",
       "      <td id=\"T_c61b2_row4_col2\" class=\"data row4 col2\" >0.003776</td>\n",
       "      <td id=\"T_c61b2_row4_col3\" class=\"data row4 col3\" >0.998803</td>\n",
       "      <td id=\"T_c61b2_row4_col4\" class=\"data row4 col4\" >1.000000</td>\n",
       "      <td id=\"T_c61b2_row4_col5\" class=\"data row4 col5\" >0.067812</td>\n",
       "    </tr>\n",
       "    <tr>\n",
       "      <th id=\"T_c61b2_level0_row5\" class=\"row_heading level0 row5\" >balance_prev_des</th>\n",
       "      <td id=\"T_c61b2_row5_col0\" class=\"data row5 col0\" >0.027666</td>\n",
       "      <td id=\"T_c61b2_row5_col1\" class=\"data row5 col1\" >-0.005881</td>\n",
       "      <td id=\"T_c61b2_row5_col2\" class=\"data row5 col2\" >-0.000514</td>\n",
       "      <td id=\"T_c61b2_row5_col3\" class=\"data row5 col3\" >0.066243</td>\n",
       "      <td id=\"T_c61b2_row5_col4\" class=\"data row5 col4\" >0.067812</td>\n",
       "      <td id=\"T_c61b2_row5_col5\" class=\"data row5 col5\" >1.000000</td>\n",
       "    </tr>\n",
       "  </tbody>\n",
       "</table>\n"
      ],
      "text/plain": [
       "<pandas.io.formats.style.Styler at 0x1270d3e0d70>"
      ]
     },
     "execution_count": 59,
     "metadata": {},
     "output_type": "execute_result"
    }
   ],
   "source": [
    "corr_matrix = variables_cuantitativas.corr(method='pearson')\n",
    "corr_matrix.style.background_gradient(cmap='PuOr')\n"
   ]
  },
  {
   "cell_type": "code",
   "execution_count": 277,
   "metadata": {},
   "outputs": [
    {
     "data": {
      "application/vnd.plotly.v1+json": {
       "config": {
        "plotlyServerURL": "https://plot.ly"
       },
       "data": [
        {
         "coloraxis": "coloraxis",
         "hovertemplate": "x: %{x}<br>y: %{y}<br>color: %{z}<extra></extra>",
         "name": "0",
         "texttemplate": "%{z}",
         "type": "heatmap",
         "x": [
          "cuantia",
          "hora_transaccion",
          "balance_prev_or",
          "balance_post_or",
          "balance_prev_des",
          "balance_post_des"
         ],
         "xaxis": "x",
         "y": [
          "cuantia",
          "hora_transaccion",
          "balance_prev_or",
          "balance_post_or",
          "balance_prev_des",
          "balance_post_des"
         ],
         "yaxis": "y",
         "z": [
          [
           1,
           0.022572645104577925,
           -0.0027627521765138225,
           -0.007860844023648176,
           0.2941380181824067,
           0.45930493847070136
          ],
          [
           0.022572645104577925,
           1,
           -0.009525095232895119,
           -0.009791883990825732,
           0.027705879266386502,
           0.025767426456159082
          ],
          [
           -0.0027627521765138225,
           -0.009525095232895119,
           1,
           0.9988028114760615,
           0.06624275262005104,
           0.04202883223047217
          ],
          [
           -0.007860844023648176,
           -0.009791883990825732,
           0.9988028114760615,
           1,
           0.06781167023249444,
           0.041837646061977624
          ],
          [
           0.2941380181824067,
           0.027705879266386502,
           0.06624275262005104,
           0.06781167023249444,
           1,
           0.9765684870612579
          ],
          [
           0.45930493847070136,
           0.025767426456159082,
           0.04202883223047217,
           0.041837646061977624,
           0.9765684870612579,
           1
          ]
         ]
        }
       ],
       "layout": {
        "coloraxis": {
         "colorscale": [
          [
           0,
           "#0d0887"
          ],
          [
           0.1111111111111111,
           "#46039f"
          ],
          [
           0.2222222222222222,
           "#7201a8"
          ],
          [
           0.3333333333333333,
           "#9c179e"
          ],
          [
           0.4444444444444444,
           "#bd3786"
          ],
          [
           0.5555555555555556,
           "#d8576b"
          ],
          [
           0.6666666666666666,
           "#ed7953"
          ],
          [
           0.7777777777777778,
           "#fb9f3a"
          ],
          [
           0.8888888888888888,
           "#fdca26"
          ],
          [
           1,
           "#f0f921"
          ]
         ]
        },
        "template": {
         "data": {
          "bar": [
           {
            "error_x": {
             "color": "#2a3f5f"
            },
            "error_y": {
             "color": "#2a3f5f"
            },
            "marker": {
             "line": {
              "color": "#E5ECF6",
              "width": 0.5
             },
             "pattern": {
              "fillmode": "overlay",
              "size": 10,
              "solidity": 0.2
             }
            },
            "type": "bar"
           }
          ],
          "barpolar": [
           {
            "marker": {
             "line": {
              "color": "#E5ECF6",
              "width": 0.5
             },
             "pattern": {
              "fillmode": "overlay",
              "size": 10,
              "solidity": 0.2
             }
            },
            "type": "barpolar"
           }
          ],
          "carpet": [
           {
            "aaxis": {
             "endlinecolor": "#2a3f5f",
             "gridcolor": "white",
             "linecolor": "white",
             "minorgridcolor": "white",
             "startlinecolor": "#2a3f5f"
            },
            "baxis": {
             "endlinecolor": "#2a3f5f",
             "gridcolor": "white",
             "linecolor": "white",
             "minorgridcolor": "white",
             "startlinecolor": "#2a3f5f"
            },
            "type": "carpet"
           }
          ],
          "choropleth": [
           {
            "colorbar": {
             "outlinewidth": 0,
             "ticks": ""
            },
            "type": "choropleth"
           }
          ],
          "contour": [
           {
            "colorbar": {
             "outlinewidth": 0,
             "ticks": ""
            },
            "colorscale": [
             [
              0,
              "#0d0887"
             ],
             [
              0.1111111111111111,
              "#46039f"
             ],
             [
              0.2222222222222222,
              "#7201a8"
             ],
             [
              0.3333333333333333,
              "#9c179e"
             ],
             [
              0.4444444444444444,
              "#bd3786"
             ],
             [
              0.5555555555555556,
              "#d8576b"
             ],
             [
              0.6666666666666666,
              "#ed7953"
             ],
             [
              0.7777777777777778,
              "#fb9f3a"
             ],
             [
              0.8888888888888888,
              "#fdca26"
             ],
             [
              1,
              "#f0f921"
             ]
            ],
            "type": "contour"
           }
          ],
          "contourcarpet": [
           {
            "colorbar": {
             "outlinewidth": 0,
             "ticks": ""
            },
            "type": "contourcarpet"
           }
          ],
          "heatmap": [
           {
            "colorbar": {
             "outlinewidth": 0,
             "ticks": ""
            },
            "colorscale": [
             [
              0,
              "#0d0887"
             ],
             [
              0.1111111111111111,
              "#46039f"
             ],
             [
              0.2222222222222222,
              "#7201a8"
             ],
             [
              0.3333333333333333,
              "#9c179e"
             ],
             [
              0.4444444444444444,
              "#bd3786"
             ],
             [
              0.5555555555555556,
              "#d8576b"
             ],
             [
              0.6666666666666666,
              "#ed7953"
             ],
             [
              0.7777777777777778,
              "#fb9f3a"
             ],
             [
              0.8888888888888888,
              "#fdca26"
             ],
             [
              1,
              "#f0f921"
             ]
            ],
            "type": "heatmap"
           }
          ],
          "heatmapgl": [
           {
            "colorbar": {
             "outlinewidth": 0,
             "ticks": ""
            },
            "colorscale": [
             [
              0,
              "#0d0887"
             ],
             [
              0.1111111111111111,
              "#46039f"
             ],
             [
              0.2222222222222222,
              "#7201a8"
             ],
             [
              0.3333333333333333,
              "#9c179e"
             ],
             [
              0.4444444444444444,
              "#bd3786"
             ],
             [
              0.5555555555555556,
              "#d8576b"
             ],
             [
              0.6666666666666666,
              "#ed7953"
             ],
             [
              0.7777777777777778,
              "#fb9f3a"
             ],
             [
              0.8888888888888888,
              "#fdca26"
             ],
             [
              1,
              "#f0f921"
             ]
            ],
            "type": "heatmapgl"
           }
          ],
          "histogram": [
           {
            "marker": {
             "pattern": {
              "fillmode": "overlay",
              "size": 10,
              "solidity": 0.2
             }
            },
            "type": "histogram"
           }
          ],
          "histogram2d": [
           {
            "colorbar": {
             "outlinewidth": 0,
             "ticks": ""
            },
            "colorscale": [
             [
              0,
              "#0d0887"
             ],
             [
              0.1111111111111111,
              "#46039f"
             ],
             [
              0.2222222222222222,
              "#7201a8"
             ],
             [
              0.3333333333333333,
              "#9c179e"
             ],
             [
              0.4444444444444444,
              "#bd3786"
             ],
             [
              0.5555555555555556,
              "#d8576b"
             ],
             [
              0.6666666666666666,
              "#ed7953"
             ],
             [
              0.7777777777777778,
              "#fb9f3a"
             ],
             [
              0.8888888888888888,
              "#fdca26"
             ],
             [
              1,
              "#f0f921"
             ]
            ],
            "type": "histogram2d"
           }
          ],
          "histogram2dcontour": [
           {
            "colorbar": {
             "outlinewidth": 0,
             "ticks": ""
            },
            "colorscale": [
             [
              0,
              "#0d0887"
             ],
             [
              0.1111111111111111,
              "#46039f"
             ],
             [
              0.2222222222222222,
              "#7201a8"
             ],
             [
              0.3333333333333333,
              "#9c179e"
             ],
             [
              0.4444444444444444,
              "#bd3786"
             ],
             [
              0.5555555555555556,
              "#d8576b"
             ],
             [
              0.6666666666666666,
              "#ed7953"
             ],
             [
              0.7777777777777778,
              "#fb9f3a"
             ],
             [
              0.8888888888888888,
              "#fdca26"
             ],
             [
              1,
              "#f0f921"
             ]
            ],
            "type": "histogram2dcontour"
           }
          ],
          "mesh3d": [
           {
            "colorbar": {
             "outlinewidth": 0,
             "ticks": ""
            },
            "type": "mesh3d"
           }
          ],
          "parcoords": [
           {
            "line": {
             "colorbar": {
              "outlinewidth": 0,
              "ticks": ""
             }
            },
            "type": "parcoords"
           }
          ],
          "pie": [
           {
            "automargin": true,
            "type": "pie"
           }
          ],
          "scatter": [
           {
            "fillpattern": {
             "fillmode": "overlay",
             "size": 10,
             "solidity": 0.2
            },
            "type": "scatter"
           }
          ],
          "scatter3d": [
           {
            "line": {
             "colorbar": {
              "outlinewidth": 0,
              "ticks": ""
             }
            },
            "marker": {
             "colorbar": {
              "outlinewidth": 0,
              "ticks": ""
             }
            },
            "type": "scatter3d"
           }
          ],
          "scattercarpet": [
           {
            "marker": {
             "colorbar": {
              "outlinewidth": 0,
              "ticks": ""
             }
            },
            "type": "scattercarpet"
           }
          ],
          "scattergeo": [
           {
            "marker": {
             "colorbar": {
              "outlinewidth": 0,
              "ticks": ""
             }
            },
            "type": "scattergeo"
           }
          ],
          "scattergl": [
           {
            "marker": {
             "colorbar": {
              "outlinewidth": 0,
              "ticks": ""
             }
            },
            "type": "scattergl"
           }
          ],
          "scattermapbox": [
           {
            "marker": {
             "colorbar": {
              "outlinewidth": 0,
              "ticks": ""
             }
            },
            "type": "scattermapbox"
           }
          ],
          "scatterpolar": [
           {
            "marker": {
             "colorbar": {
              "outlinewidth": 0,
              "ticks": ""
             }
            },
            "type": "scatterpolar"
           }
          ],
          "scatterpolargl": [
           {
            "marker": {
             "colorbar": {
              "outlinewidth": 0,
              "ticks": ""
             }
            },
            "type": "scatterpolargl"
           }
          ],
          "scatterternary": [
           {
            "marker": {
             "colorbar": {
              "outlinewidth": 0,
              "ticks": ""
             }
            },
            "type": "scatterternary"
           }
          ],
          "surface": [
           {
            "colorbar": {
             "outlinewidth": 0,
             "ticks": ""
            },
            "colorscale": [
             [
              0,
              "#0d0887"
             ],
             [
              0.1111111111111111,
              "#46039f"
             ],
             [
              0.2222222222222222,
              "#7201a8"
             ],
             [
              0.3333333333333333,
              "#9c179e"
             ],
             [
              0.4444444444444444,
              "#bd3786"
             ],
             [
              0.5555555555555556,
              "#d8576b"
             ],
             [
              0.6666666666666666,
              "#ed7953"
             ],
             [
              0.7777777777777778,
              "#fb9f3a"
             ],
             [
              0.8888888888888888,
              "#fdca26"
             ],
             [
              1,
              "#f0f921"
             ]
            ],
            "type": "surface"
           }
          ],
          "table": [
           {
            "cells": {
             "fill": {
              "color": "#EBF0F8"
             },
             "line": {
              "color": "white"
             }
            },
            "header": {
             "fill": {
              "color": "#C8D4E3"
             },
             "line": {
              "color": "white"
             }
            },
            "type": "table"
           }
          ]
         },
         "layout": {
          "annotationdefaults": {
           "arrowcolor": "#2a3f5f",
           "arrowhead": 0,
           "arrowwidth": 1
          },
          "autotypenumbers": "strict",
          "coloraxis": {
           "colorbar": {
            "outlinewidth": 0,
            "ticks": ""
           }
          },
          "colorscale": {
           "diverging": [
            [
             0,
             "#8e0152"
            ],
            [
             0.1,
             "#c51b7d"
            ],
            [
             0.2,
             "#de77ae"
            ],
            [
             0.3,
             "#f1b6da"
            ],
            [
             0.4,
             "#fde0ef"
            ],
            [
             0.5,
             "#f7f7f7"
            ],
            [
             0.6,
             "#e6f5d0"
            ],
            [
             0.7,
             "#b8e186"
            ],
            [
             0.8,
             "#7fbc41"
            ],
            [
             0.9,
             "#4d9221"
            ],
            [
             1,
             "#276419"
            ]
           ],
           "sequential": [
            [
             0,
             "#0d0887"
            ],
            [
             0.1111111111111111,
             "#46039f"
            ],
            [
             0.2222222222222222,
             "#7201a8"
            ],
            [
             0.3333333333333333,
             "#9c179e"
            ],
            [
             0.4444444444444444,
             "#bd3786"
            ],
            [
             0.5555555555555556,
             "#d8576b"
            ],
            [
             0.6666666666666666,
             "#ed7953"
            ],
            [
             0.7777777777777778,
             "#fb9f3a"
            ],
            [
             0.8888888888888888,
             "#fdca26"
            ],
            [
             1,
             "#f0f921"
            ]
           ],
           "sequentialminus": [
            [
             0,
             "#0d0887"
            ],
            [
             0.1111111111111111,
             "#46039f"
            ],
            [
             0.2222222222222222,
             "#7201a8"
            ],
            [
             0.3333333333333333,
             "#9c179e"
            ],
            [
             0.4444444444444444,
             "#bd3786"
            ],
            [
             0.5555555555555556,
             "#d8576b"
            ],
            [
             0.6666666666666666,
             "#ed7953"
            ],
            [
             0.7777777777777778,
             "#fb9f3a"
            ],
            [
             0.8888888888888888,
             "#fdca26"
            ],
            [
             1,
             "#f0f921"
            ]
           ]
          },
          "colorway": [
           "#636efa",
           "#EF553B",
           "#00cc96",
           "#ab63fa",
           "#FFA15A",
           "#19d3f3",
           "#FF6692",
           "#B6E880",
           "#FF97FF",
           "#FECB52"
          ],
          "font": {
           "color": "#2a3f5f"
          },
          "geo": {
           "bgcolor": "white",
           "lakecolor": "white",
           "landcolor": "#E5ECF6",
           "showlakes": true,
           "showland": true,
           "subunitcolor": "white"
          },
          "hoverlabel": {
           "align": "left"
          },
          "hovermode": "closest",
          "mapbox": {
           "style": "light"
          },
          "paper_bgcolor": "white",
          "plot_bgcolor": "#E5ECF6",
          "polar": {
           "angularaxis": {
            "gridcolor": "white",
            "linecolor": "white",
            "ticks": ""
           },
           "bgcolor": "#E5ECF6",
           "radialaxis": {
            "gridcolor": "white",
            "linecolor": "white",
            "ticks": ""
           }
          },
          "scene": {
           "xaxis": {
            "backgroundcolor": "#E5ECF6",
            "gridcolor": "white",
            "gridwidth": 2,
            "linecolor": "white",
            "showbackground": true,
            "ticks": "",
            "zerolinecolor": "white"
           },
           "yaxis": {
            "backgroundcolor": "#E5ECF6",
            "gridcolor": "white",
            "gridwidth": 2,
            "linecolor": "white",
            "showbackground": true,
            "ticks": "",
            "zerolinecolor": "white"
           },
           "zaxis": {
            "backgroundcolor": "#E5ECF6",
            "gridcolor": "white",
            "gridwidth": 2,
            "linecolor": "white",
            "showbackground": true,
            "ticks": "",
            "zerolinecolor": "white"
           }
          },
          "shapedefaults": {
           "line": {
            "color": "#2a3f5f"
           }
          },
          "ternary": {
           "aaxis": {
            "gridcolor": "white",
            "linecolor": "white",
            "ticks": ""
           },
           "baxis": {
            "gridcolor": "white",
            "linecolor": "white",
            "ticks": ""
           },
           "bgcolor": "#E5ECF6",
           "caxis": {
            "gridcolor": "white",
            "linecolor": "white",
            "ticks": ""
           }
          },
          "title": {
           "x": 0.05
          },
          "xaxis": {
           "automargin": true,
           "gridcolor": "white",
           "linecolor": "white",
           "ticks": "",
           "title": {
            "standoff": 15
           },
           "zerolinecolor": "white",
           "zerolinewidth": 2
          },
          "yaxis": {
           "automargin": true,
           "gridcolor": "white",
           "linecolor": "white",
           "ticks": "",
           "title": {
            "standoff": 15
           },
           "zerolinecolor": "white",
           "zerolinewidth": 2
          }
         }
        },
        "title": {
         "text": "Matriz de Correlación"
        },
        "xaxis": {
         "anchor": "y",
         "domain": [
          0,
          1
         ]
        },
        "yaxis": {
         "anchor": "x",
         "autorange": "reversed",
         "domain": [
          0,
          1
         ]
        }
       }
      }
     },
     "metadata": {},
     "output_type": "display_data"
    }
   ],
   "source": [
    "fig = px.imshow(corr_matrix, text_auto=True, aspect='auto', title='Matriz de Correlación')\n",
    "fig.show()"
   ]
  },
  {
   "cell_type": "markdown",
   "metadata": {},
   "source": [
    "Se nota una fuerte correlación entre las siguientes variables:\n",
    "\n",
    "* oldbalanceDest y newbalanceDest\n",
    "* oldbalanceOrg y newbalanceOrig\n",
    "\n",
    "Esta relación se debe a la influencia mutua entre las variables. Por ejemplo, cuando se realiza una transferencia de dinero a un destinatario, el saldo de destino aumenta mientras que el saldo de origen disminuye.\n",
    "\n",
    "Por ahora, no se eliminan estas variables ya que no se encuentran correlacionadas de manera significativa con otras variables.\n",
    "\n",
    "Además, más adelante se explorarán otros métodos, como el PCA, que ayudan a seleccionar las variables que deben eliminarse para reducir la dimensionalidad del conjunto de datos."
   ]
  },
  {
   "cell_type": "markdown",
   "metadata": {},
   "source": [
    "##### De registros:"
   ]
  },
  {
   "cell_type": "markdown",
   "metadata": {},
   "source": [
    "El test Chi-cuadrado (Chi-Square) se utiliza para evaluar si existe una dependencia estadísticamente significativa entre variables categóricas. Ayuda a seleccionar solo aquellas características categóricas que tienen relación significativa con la variable objetivo (en este caso, la variable que indica fraude o no)"
   ]
  },
  {
   "cell_type": "code",
   "execution_count": 278,
   "metadata": {},
   "outputs": [
    {
     "data": {
      "text/html": [
       "<div>\n",
       "<style scoped>\n",
       "    .dataframe tbody tr th:only-of-type {\n",
       "        vertical-align: middle;\n",
       "    }\n",
       "\n",
       "    .dataframe tbody tr th {\n",
       "        vertical-align: top;\n",
       "    }\n",
       "\n",
       "    .dataframe thead th {\n",
       "        text-align: right;\n",
       "    }\n",
       "</style>\n",
       "<table border=\"1\" class=\"dataframe\">\n",
       "  <thead>\n",
       "    <tr style=\"text-align: right;\">\n",
       "      <th></th>\n",
       "      <th>hora_transaccion</th>\n",
       "      <th>t_id</th>\n",
       "      <th>cuantia</th>\n",
       "      <th>es_fraude</th>\n",
       "      <th>mensaje_alarma</th>\n",
       "      <th>balance_prev_or</th>\n",
       "      <th>balance_post_or</th>\n",
       "      <th>balance_prev_des</th>\n",
       "      <th>balance_post_des</th>\n",
       "      <th>CASH_IN</th>\n",
       "      <th>CASH_OUT</th>\n",
       "      <th>DEBIT</th>\n",
       "      <th>PAYMENT</th>\n",
       "      <th>TRANSFER</th>\n",
       "    </tr>\n",
       "  </thead>\n",
       "  <tbody>\n",
       "    <tr>\n",
       "      <th>0</th>\n",
       "      <td>1</td>\n",
       "      <td>0</td>\n",
       "      <td>9839.64</td>\n",
       "      <td>0</td>\n",
       "      <td>No_detectado_fraude</td>\n",
       "      <td>170136.0</td>\n",
       "      <td>160296.36</td>\n",
       "      <td>0.0</td>\n",
       "      <td>0.0</td>\n",
       "      <td>0</td>\n",
       "      <td>0</td>\n",
       "      <td>0</td>\n",
       "      <td>1</td>\n",
       "      <td>0</td>\n",
       "    </tr>\n",
       "    <tr>\n",
       "      <th>1</th>\n",
       "      <td>1</td>\n",
       "      <td>1</td>\n",
       "      <td>1864.28</td>\n",
       "      <td>0</td>\n",
       "      <td>No_detectado_fraude</td>\n",
       "      <td>21249.0</td>\n",
       "      <td>19384.72</td>\n",
       "      <td>0.0</td>\n",
       "      <td>0.0</td>\n",
       "      <td>0</td>\n",
       "      <td>0</td>\n",
       "      <td>0</td>\n",
       "      <td>1</td>\n",
       "      <td>0</td>\n",
       "    </tr>\n",
       "    <tr>\n",
       "      <th>2</th>\n",
       "      <td>1</td>\n",
       "      <td>2</td>\n",
       "      <td>181.00</td>\n",
       "      <td>1</td>\n",
       "      <td>No_detectado_fraude</td>\n",
       "      <td>181.0</td>\n",
       "      <td>0.00</td>\n",
       "      <td>0.0</td>\n",
       "      <td>0.0</td>\n",
       "      <td>0</td>\n",
       "      <td>0</td>\n",
       "      <td>0</td>\n",
       "      <td>0</td>\n",
       "      <td>1</td>\n",
       "    </tr>\n",
       "    <tr>\n",
       "      <th>3</th>\n",
       "      <td>1</td>\n",
       "      <td>3</td>\n",
       "      <td>181.00</td>\n",
       "      <td>1</td>\n",
       "      <td>No_detectado_fraude</td>\n",
       "      <td>181.0</td>\n",
       "      <td>0.00</td>\n",
       "      <td>21182.0</td>\n",
       "      <td>0.0</td>\n",
       "      <td>0</td>\n",
       "      <td>1</td>\n",
       "      <td>0</td>\n",
       "      <td>0</td>\n",
       "      <td>0</td>\n",
       "    </tr>\n",
       "    <tr>\n",
       "      <th>4</th>\n",
       "      <td>1</td>\n",
       "      <td>4</td>\n",
       "      <td>11668.14</td>\n",
       "      <td>0</td>\n",
       "      <td>No_detectado_fraude</td>\n",
       "      <td>41554.0</td>\n",
       "      <td>29885.86</td>\n",
       "      <td>0.0</td>\n",
       "      <td>0.0</td>\n",
       "      <td>0</td>\n",
       "      <td>0</td>\n",
       "      <td>0</td>\n",
       "      <td>1</td>\n",
       "      <td>0</td>\n",
       "    </tr>\n",
       "  </tbody>\n",
       "</table>\n",
       "</div>"
      ],
      "text/plain": [
       "   hora_transaccion  t_id   cuantia  es_fraude       mensaje_alarma  \\\n",
       "0                 1     0   9839.64          0  No_detectado_fraude   \n",
       "1                 1     1   1864.28          0  No_detectado_fraude   \n",
       "2                 1     2    181.00          1  No_detectado_fraude   \n",
       "3                 1     3    181.00          1  No_detectado_fraude   \n",
       "4                 1     4  11668.14          0  No_detectado_fraude   \n",
       "\n",
       "   balance_prev_or  balance_post_or  balance_prev_des  balance_post_des  \\\n",
       "0         170136.0        160296.36               0.0               0.0   \n",
       "1          21249.0         19384.72               0.0               0.0   \n",
       "2            181.0             0.00               0.0               0.0   \n",
       "3            181.0             0.00           21182.0               0.0   \n",
       "4          41554.0         29885.86               0.0               0.0   \n",
       "\n",
       "   CASH_IN  CASH_OUT  DEBIT  PAYMENT  TRANSFER  \n",
       "0        0         0      0        1         0  \n",
       "1        0         0      0        1         0  \n",
       "2        0         0      0        0         1  \n",
       "3        0         1      0        0         0  \n",
       "4        0         0      0        1         0  "
      ]
     },
     "execution_count": 278,
     "metadata": {},
     "output_type": "execute_result"
    }
   ],
   "source": [
    "df.head()"
   ]
  },
  {
   "cell_type": "code",
   "execution_count": 17,
   "metadata": {},
   "outputs": [
    {
     "data": {
      "text/plain": [
       "np.False_"
      ]
     },
     "execution_count": 17,
     "metadata": {},
     "output_type": "execute_result"
    }
   ],
   "source": [
    "df.isnull().values.any()"
   ]
  },
  {
   "cell_type": "code",
   "execution_count": 18,
   "metadata": {},
   "outputs": [
    {
     "data": {
      "text/html": [
       "<div>\n",
       "<style scoped>\n",
       "    .dataframe tbody tr th:only-of-type {\n",
       "        vertical-align: middle;\n",
       "    }\n",
       "\n",
       "    .dataframe tbody tr th {\n",
       "        vertical-align: top;\n",
       "    }\n",
       "\n",
       "    .dataframe thead th {\n",
       "        text-align: right;\n",
       "    }\n",
       "</style>\n",
       "<table border=\"1\" class=\"dataframe\">\n",
       "  <thead>\n",
       "    <tr style=\"text-align: right;\">\n",
       "      <th></th>\n",
       "      <th>Variable</th>\n",
       "      <th>Chi2</th>\n",
       "      <th>p-value</th>\n",
       "    </tr>\n",
       "  </thead>\n",
       "  <tbody>\n",
       "    <tr>\n",
       "      <th>0</th>\n",
       "      <td>hora_transaccion</td>\n",
       "      <td>5.272793e+05</td>\n",
       "      <td>0.000000e+00</td>\n",
       "    </tr>\n",
       "    <tr>\n",
       "      <th>1</th>\n",
       "      <td>t_id</td>\n",
       "      <td>2.920313e+09</td>\n",
       "      <td>0.000000e+00</td>\n",
       "    </tr>\n",
       "    <tr>\n",
       "      <th>2</th>\n",
       "      <td>cuantia</td>\n",
       "      <td>7.586027e+10</td>\n",
       "      <td>0.000000e+00</td>\n",
       "    </tr>\n",
       "    <tr>\n",
       "      <th>3</th>\n",
       "      <td>mensaje_alarma</td>\n",
       "      <td>1.238506e+04</td>\n",
       "      <td>0.000000e+00</td>\n",
       "    </tr>\n",
       "    <tr>\n",
       "      <th>4</th>\n",
       "      <td>balance_prev_or</td>\n",
       "      <td>6.565946e+09</td>\n",
       "      <td>0.000000e+00</td>\n",
       "    </tr>\n",
       "    <tr>\n",
       "      <th>5</th>\n",
       "      <td>balance_post_or</td>\n",
       "      <td>4.220572e+09</td>\n",
       "      <td>0.000000e+00</td>\n",
       "    </tr>\n",
       "    <tr>\n",
       "      <th>6</th>\n",
       "      <td>balance_prev_des</td>\n",
       "      <td>2.310118e+09</td>\n",
       "      <td>0.000000e+00</td>\n",
       "    </tr>\n",
       "    <tr>\n",
       "      <th>7</th>\n",
       "      <td>balance_post_des</td>\n",
       "      <td>2.041072e+07</td>\n",
       "      <td>0.000000e+00</td>\n",
       "    </tr>\n",
       "    <tr>\n",
       "      <th>8</th>\n",
       "      <td>CASH_IN</td>\n",
       "      <td>1.807687e+03</td>\n",
       "      <td>0.000000e+00</td>\n",
       "    </tr>\n",
       "    <tr>\n",
       "      <th>9</th>\n",
       "      <td>CASH_OUT</td>\n",
       "      <td>5.223640e+02</td>\n",
       "      <td>1.294894e-115</td>\n",
       "    </tr>\n",
       "    <tr>\n",
       "      <th>10</th>\n",
       "      <td>DEBIT</td>\n",
       "      <td>5.352512e+01</td>\n",
       "      <td>2.553067e-13</td>\n",
       "    </tr>\n",
       "    <tr>\n",
       "      <th>11</th>\n",
       "      <td>PAYMENT</td>\n",
       "      <td>2.779423e+03</td>\n",
       "      <td>0.000000e+00</td>\n",
       "    </tr>\n",
       "    <tr>\n",
       "      <th>12</th>\n",
       "      <td>TRANSFER</td>\n",
       "      <td>1.690890e+04</td>\n",
       "      <td>0.000000e+00</td>\n",
       "    </tr>\n",
       "  </tbody>\n",
       "</table>\n",
       "</div>"
      ],
      "text/plain": [
       "            Variable          Chi2        p-value\n",
       "0   hora_transaccion  5.272793e+05   0.000000e+00\n",
       "1               t_id  2.920313e+09   0.000000e+00\n",
       "2            cuantia  7.586027e+10   0.000000e+00\n",
       "3     mensaje_alarma  1.238506e+04   0.000000e+00\n",
       "4    balance_prev_or  6.565946e+09   0.000000e+00\n",
       "5    balance_post_or  4.220572e+09   0.000000e+00\n",
       "6   balance_prev_des  2.310118e+09   0.000000e+00\n",
       "7   balance_post_des  2.041072e+07   0.000000e+00\n",
       "8            CASH_IN  1.807687e+03   0.000000e+00\n",
       "9           CASH_OUT  5.223640e+02  1.294894e-115\n",
       "10             DEBIT  5.352512e+01   2.553067e-13\n",
       "11           PAYMENT  2.779423e+03   0.000000e+00\n",
       "12          TRANSFER  1.690890e+04   0.000000e+00"
      ]
     },
     "metadata": {},
     "output_type": "display_data"
    }
   ],
   "source": [
    "from sklearn.feature_selection import chi2\n",
    "\n",
    "# Separar las variables predictoras (ya codificadas) y la variable objetivo\n",
    "X = df.drop('es_fraude', axis=1)\n",
    "y = df['es_fraude']\n",
    "\n",
    "# Aplicar el test chi-cuadrado para cada característica\n",
    "chi2_stats, p_values = chi2(X, y)\n",
    "\n",
    "# Crear un DataFrame para visualizar los resultados\n",
    "resultados = pd.DataFrame({\n",
    "    'Variable': X.columns,\n",
    "    'Chi2': chi2_stats,\n",
    "    'p-value': p_values\n",
    "})\n",
    "\n",
    "display(resultados)\n"
   ]
  },
  {
   "cell_type": "code",
   "execution_count": 19,
   "metadata": {},
   "outputs": [
    {
     "data": {
      "text/plain": [
       "CASH_IN  CASH_OUT  DEBIT  PAYMENT  TRANSFER\n",
       "0        1         0      0        0           4114\n",
       "         0         0      0        1           4095\n",
       "Name: count, dtype: int64"
      ]
     },
     "execution_count": 19,
     "metadata": {},
     "output_type": "execute_result"
    }
   ],
   "source": [
    "df[df['es_fraude'] == 1][['CASH_IN', 'CASH_OUT', 'DEBIT', 'PAYMENT', 'TRANSFER']].value_counts()"
   ]
  },
  {
   "cell_type": "markdown",
   "metadata": {},
   "source": [
    "* Cuantía y balance previo de origen son extremadamente predictivos para fraudes.\n",
    "* TRANSFER, mensaje_alarma y CASH_OUT también son importantes para la detección de fraude."
   ]
  },
  {
   "cell_type": "markdown",
   "metadata": {},
   "source": [
    "##### Análisis de duplicados:"
   ]
  },
  {
   "cell_type": "markdown",
   "metadata": {},
   "source": [
    "Se verifica que no existan registros duplicados en el conjunto de datos.\n",
    "\n",
    "Para ello, se utiliza la función duplicated() de pandas, que detecta filas idénticas en el dataset, marcando como duplicadas todas las apariciones después de la primera instancia encontrada."
   ]
  },
  {
   "cell_type": "code",
   "execution_count": 20,
   "metadata": {},
   "outputs": [
    {
     "data": {
      "text/plain": [
       "np.False_"
      ]
     },
     "execution_count": 20,
     "metadata": {},
     "output_type": "execute_result"
    }
   ],
   "source": [
    "df.duplicated().any()"
   ]
  },
  {
   "cell_type": "code",
   "execution_count": 285,
   "metadata": {},
   "outputs": [
    {
     "data": {
      "text/html": [
       "<div>\n",
       "<style scoped>\n",
       "    .dataframe tbody tr th:only-of-type {\n",
       "        vertical-align: middle;\n",
       "    }\n",
       "\n",
       "    .dataframe tbody tr th {\n",
       "        vertical-align: top;\n",
       "    }\n",
       "\n",
       "    .dataframe thead th {\n",
       "        text-align: right;\n",
       "    }\n",
       "</style>\n",
       "<table border=\"1\" class=\"dataframe\">\n",
       "  <thead>\n",
       "    <tr style=\"text-align: right;\">\n",
       "      <th></th>\n",
       "      <th>hora_transaccion</th>\n",
       "      <th>t_id</th>\n",
       "      <th>cuantia</th>\n",
       "      <th>es_fraude</th>\n",
       "      <th>mensaje_alarma</th>\n",
       "      <th>balance_prev_or</th>\n",
       "      <th>balance_post_or</th>\n",
       "      <th>balance_prev_des</th>\n",
       "      <th>balance_post_des</th>\n",
       "      <th>CASH_IN</th>\n",
       "      <th>CASH_OUT</th>\n",
       "      <th>DEBIT</th>\n",
       "      <th>PAYMENT</th>\n",
       "      <th>TRANSFER</th>\n",
       "    </tr>\n",
       "  </thead>\n",
       "  <tbody>\n",
       "  </tbody>\n",
       "</table>\n",
       "</div>"
      ],
      "text/plain": [
       "Empty DataFrame\n",
       "Columns: [hora_transaccion, t_id, cuantia, es_fraude, mensaje_alarma, balance_prev_or, balance_post_or, balance_prev_des, balance_post_des, CASH_IN, CASH_OUT, DEBIT, PAYMENT, TRANSFER]\n",
       "Index: []"
      ]
     },
     "execution_count": 285,
     "metadata": {},
     "output_type": "execute_result"
    }
   ],
   "source": [
    "df[df.duplicated()]"
   ]
  },
  {
   "cell_type": "markdown",
   "metadata": {},
   "source": [
    "#### Balanceo de Clases"
   ]
  },
  {
   "cell_type": "markdown",
   "metadata": {},
   "source": [
    "Usar este conjunto de datos tal como está sería un error fatal debido a su grave desbalance de clases. Aquí está el porqué:\n",
    "\n",
    "Usar los datos tal como están:\n",
    "*   La abrumadora mayoría de los registros pertenece a la clase no fraudulenta (clase 0), que representa más del 99% del conjunto de datos. Los modelos entrenados con datos desbalanceados pueden priorizar la precisión en la clase mayoritaria, descuidando la clase minoritaria (transacciones fraudulentas). Esto puede resultar en un rendimiento deficiente para detectar el fraude.\n",
    "\n",
    "Por qué el oversampling es un error fatal:\n",
    "*   Técnicas de oversampling como SMOTE (Técnica de Sobremuestreo Sintético de Minorías) inflan artificialmente la clase minoritaria generando ejemplos sintéticos. Sin embargo, esto puede llevar a un sobreajuste y a la introducción de ruido, especialmente en casos donde la clase minoritaria ya está representada escasamente.\n",
    "\n",
    "Por qué el submuestreo es la mejor opción:\n",
    "*   El submuestreo implica reducir aleatoriamente el número de muestras en la clase mayoritaria para equilibrarla con la clase minoritaria. Este enfoque ayuda a mitigar los sesgos hacia la clase mayoritaria mientras mantiene la integridad del conjunto de datos. Al reducir el número de muestras de la clase mayoritaria para que coincida con la clase minoritaria, el submuestreo fomenta que el modelo aprenda de ambas clases por igual, mejorando su capacidad para detectar transacciones fraudulentas con precisión."
   ]
  },
  {
   "cell_type": "code",
   "execution_count": 21,
   "metadata": {},
   "outputs": [
    {
     "data": {
      "text/html": [
       "<div>\n",
       "<style scoped>\n",
       "    .dataframe tbody tr th:only-of-type {\n",
       "        vertical-align: middle;\n",
       "    }\n",
       "\n",
       "    .dataframe tbody tr th {\n",
       "        vertical-align: top;\n",
       "    }\n",
       "\n",
       "    .dataframe thead th {\n",
       "        text-align: right;\n",
       "    }\n",
       "</style>\n",
       "<table border=\"1\" class=\"dataframe\">\n",
       "  <thead>\n",
       "    <tr style=\"text-align: right;\">\n",
       "      <th></th>\n",
       "      <th>hora_transaccion</th>\n",
       "      <th>cuantia</th>\n",
       "      <th>mensaje_alarma</th>\n",
       "      <th>balance_prev_or</th>\n",
       "      <th>balance_post_or</th>\n",
       "      <th>balance_prev_des</th>\n",
       "      <th>balance_post_des</th>\n",
       "      <th>CASH_IN</th>\n",
       "      <th>CASH_OUT</th>\n",
       "      <th>DEBIT</th>\n",
       "      <th>PAYMENT</th>\n",
       "      <th>TRANSFER</th>\n",
       "      <th>es_fraude</th>\n",
       "    </tr>\n",
       "  </thead>\n",
       "  <tbody>\n",
       "    <tr>\n",
       "      <th>2312346</th>\n",
       "      <td>188</td>\n",
       "      <td>88074.56</td>\n",
       "      <td>0</td>\n",
       "      <td>219652.00</td>\n",
       "      <td>307726.56</td>\n",
       "      <td>817826.64</td>\n",
       "      <td>729752.08</td>\n",
       "      <td>1</td>\n",
       "      <td>0</td>\n",
       "      <td>0</td>\n",
       "      <td>0</td>\n",
       "      <td>0</td>\n",
       "      <td>0</td>\n",
       "    </tr>\n",
       "    <tr>\n",
       "      <th>1932901</th>\n",
       "      <td>177</td>\n",
       "      <td>286198.15</td>\n",
       "      <td>0</td>\n",
       "      <td>363.71</td>\n",
       "      <td>0.00</td>\n",
       "      <td>307446.20</td>\n",
       "      <td>593644.35</td>\n",
       "      <td>0</td>\n",
       "      <td>1</td>\n",
       "      <td>0</td>\n",
       "      <td>0</td>\n",
       "      <td>0</td>\n",
       "      <td>0</td>\n",
       "    </tr>\n",
       "    <tr>\n",
       "      <th>4734482</th>\n",
       "      <td>332</td>\n",
       "      <td>166734.10</td>\n",
       "      <td>0</td>\n",
       "      <td>10755.00</td>\n",
       "      <td>0.00</td>\n",
       "      <td>156606.99</td>\n",
       "      <td>323341.09</td>\n",
       "      <td>0</td>\n",
       "      <td>1</td>\n",
       "      <td>0</td>\n",
       "      <td>0</td>\n",
       "      <td>0</td>\n",
       "      <td>0</td>\n",
       "    </tr>\n",
       "    <tr>\n",
       "      <th>4145541</th>\n",
       "      <td>303</td>\n",
       "      <td>364235.84</td>\n",
       "      <td>0</td>\n",
       "      <td>675345.66</td>\n",
       "      <td>1039581.50</td>\n",
       "      <td>7396423.67</td>\n",
       "      <td>7032187.82</td>\n",
       "      <td>1</td>\n",
       "      <td>0</td>\n",
       "      <td>0</td>\n",
       "      <td>0</td>\n",
       "      <td>0</td>\n",
       "      <td>0</td>\n",
       "    </tr>\n",
       "    <tr>\n",
       "      <th>4924900</th>\n",
       "      <td>350</td>\n",
       "      <td>15842.15</td>\n",
       "      <td>0</td>\n",
       "      <td>182.00</td>\n",
       "      <td>16024.15</td>\n",
       "      <td>2534069.89</td>\n",
       "      <td>2518227.74</td>\n",
       "      <td>1</td>\n",
       "      <td>0</td>\n",
       "      <td>0</td>\n",
       "      <td>0</td>\n",
       "      <td>0</td>\n",
       "      <td>0</td>\n",
       "    </tr>\n",
       "  </tbody>\n",
       "</table>\n",
       "</div>"
      ],
      "text/plain": [
       "         hora_transaccion    cuantia  mensaje_alarma  balance_prev_or  \\\n",
       "2312346               188   88074.56               0        219652.00   \n",
       "1932901               177  286198.15               0           363.71   \n",
       "4734482               332  166734.10               0         10755.00   \n",
       "4145541               303  364235.84               0        675345.66   \n",
       "4924900               350   15842.15               0           182.00   \n",
       "\n",
       "         balance_post_or  balance_prev_des  balance_post_des  CASH_IN  \\\n",
       "2312346        307726.56         817826.64         729752.08        1   \n",
       "1932901             0.00         307446.20         593644.35        0   \n",
       "4734482             0.00         156606.99         323341.09        0   \n",
       "4145541       1039581.50        7396423.67        7032187.82        1   \n",
       "4924900         16024.15        2534069.89        2518227.74        1   \n",
       "\n",
       "         CASH_OUT  DEBIT  PAYMENT  TRANSFER  es_fraude  \n",
       "2312346         0      0        0         0          0  \n",
       "1932901         1      0        0         0          0  \n",
       "4734482         1      0        0         0          0  \n",
       "4145541         0      0        0         0          0  \n",
       "4924900         0      0        0         0          0  "
      ]
     },
     "execution_count": 21,
     "metadata": {},
     "output_type": "execute_result"
    }
   ],
   "source": [
    "# Separamos las features (X) y la variable objetivo (y)\n",
    "X = df.drop(['es_fraude', 't_id'], axis=1)\n",
    "y = df['es_fraude']\n",
    "\n",
    "# Iniciamos RandomUnderSampler\n",
    "rus = RandomUnderSampler(random_state=42) # 42 es la respuesta a todo\n",
    "\n",
    "# Fit y aplicamos el rereampler al dataframe\n",
    "X_resampled, y_resampled = rus.fit_resample(X, y)\n",
    "\n",
    "# Convertimos los datos de nuevo a formato dataframe\n",
    "df_downsampled = pd.concat([pd.DataFrame(X_resampled, columns=X.columns), pd.DataFrame(y_resampled, columns=['es_fraude'])], axis=1)\n",
    "\n",
    "df_downsampled.head()"
   ]
  },
  {
   "cell_type": "code",
   "execution_count": 43,
   "metadata": {},
   "outputs": [
    {
     "data": {
      "text/plain": [
       "(16418, 13)"
      ]
     },
     "execution_count": 43,
     "metadata": {},
     "output_type": "execute_result"
    }
   ],
   "source": [
    "df_downsampled.shape"
   ]
  },
  {
   "cell_type": "code",
   "execution_count": 23,
   "metadata": {},
   "outputs": [
    {
     "data": {
      "text/plain": [
       "TRANSFER  CASH_OUT  DEBIT  PAYMENT  CASH_IN\n",
       "0         1         0      0        0          7058\n",
       "1         0         0      0        0          4761\n",
       "0         0         0      1        0          2786\n",
       "                           0        1          1762\n",
       "                    1      0        0            51\n",
       "Name: count, dtype: int64"
      ]
     },
     "execution_count": 23,
     "metadata": {},
     "output_type": "execute_result"
    }
   ],
   "source": [
    "tipos_transaccion = ['TRANSFER', 'CASH_OUT', 'DEBIT', 'PAYMENT', 'CASH_IN']\n",
    "df_downsampled[tipos_transaccion].value_counts()"
   ]
  },
  {
   "cell_type": "markdown",
   "metadata": {},
   "source": [
    "#### Normalizado y escalado"
   ]
  },
  {
   "cell_type": "markdown",
   "metadata": {},
   "source": [
    "Para proceder con la normalización, en este caso vamos a utilizar la estandarización (StandardScaler), ya que este método reduce la influencia de valores extremos o atípicos que suelen estar presentes en variables como la cuantía o los balances. Esta técnica habitualmente mejora el desempeño de modelos predictivos, como Regresión Logística, Random Forest o XGBoost, al hacer que los datos tengan una distribución con media cero y desviación estándar igual a uno."
   ]
  },
  {
   "cell_type": "code",
   "execution_count": 26,
   "metadata": {},
   "outputs": [
    {
     "data": {
      "text/plain": [
       "Index(['hora_transaccion', 'cuantia', 'mensaje_alarma', 'balance_prev_or',\n",
       "       'balance_post_or', 'balance_prev_des', 'balance_post_des', 'CASH_IN',\n",
       "       'CASH_OUT', 'DEBIT', 'PAYMENT', 'TRANSFER', 'es_fraude'],\n",
       "      dtype='object')"
      ]
     },
     "execution_count": 26,
     "metadata": {},
     "output_type": "execute_result"
    }
   ],
   "source": [
    "df_downsampled.columns"
   ]
  },
  {
   "cell_type": "code",
   "execution_count": null,
   "metadata": {},
   "outputs": [
    {
     "data": {
      "text/html": [
       "<div>\n",
       "<style scoped>\n",
       "    .dataframe tbody tr th:only-of-type {\n",
       "        vertical-align: middle;\n",
       "    }\n",
       "\n",
       "    .dataframe tbody tr th {\n",
       "        vertical-align: top;\n",
       "    }\n",
       "\n",
       "    .dataframe thead th {\n",
       "        text-align: right;\n",
       "    }\n",
       "</style>\n",
       "<table border=\"1\" class=\"dataframe\">\n",
       "  <thead>\n",
       "    <tr style=\"text-align: right;\">\n",
       "      <th></th>\n",
       "      <th>hora_transaccion</th>\n",
       "      <th>cuantia</th>\n",
       "      <th>balance_prev_or</th>\n",
       "      <th>balance_post_or</th>\n",
       "      <th>balance_prev_des</th>\n",
       "      <th>balance_post_des</th>\n",
       "      <th>mensaje_alarma</th>\n",
       "      <th>CASH_IN</th>\n",
       "      <th>CASH_OUT</th>\n",
       "      <th>DEBIT</th>\n",
       "      <th>PAYMENT</th>\n",
       "      <th>TRANSFER</th>\n",
       "      <th>es_fraude</th>\n",
       "    </tr>\n",
       "  </thead>\n",
       "  <tbody>\n",
       "    <tr>\n",
       "      <th>2312346</th>\n",
       "      <td>-0.609841</td>\n",
       "      <td>-0.389412</td>\n",
       "      <td>-0.311617</td>\n",
       "      <td>-0.082586</td>\n",
       "      <td>-0.002861</td>\n",
       "      <td>-0.137623</td>\n",
       "      <td>0</td>\n",
       "      <td>1</td>\n",
       "      <td>0</td>\n",
       "      <td>0</td>\n",
       "      <td>0</td>\n",
       "      <td>0</td>\n",
       "      <td>0</td>\n",
       "    </tr>\n",
       "    <tr>\n",
       "      <th>1932901</th>\n",
       "      <td>-0.666682</td>\n",
       "      <td>-0.285413</td>\n",
       "      <td>-0.379103</td>\n",
       "      <td>-0.205818</td>\n",
       "      <td>-0.152714</td>\n",
       "      <td>-0.172226</td>\n",
       "      <td>0</td>\n",
       "      <td>0</td>\n",
       "      <td>1</td>\n",
       "      <td>0</td>\n",
       "      <td>0</td>\n",
       "      <td>0</td>\n",
       "      <td>0</td>\n",
       "    </tr>\n",
       "    <tr>\n",
       "      <th>4734482</th>\n",
       "      <td>0.134269</td>\n",
       "      <td>-0.348122</td>\n",
       "      <td>-0.375905</td>\n",
       "      <td>-0.205818</td>\n",
       "      <td>-0.197003</td>\n",
       "      <td>-0.240948</td>\n",
       "      <td>0</td>\n",
       "      <td>0</td>\n",
       "      <td>1</td>\n",
       "      <td>0</td>\n",
       "      <td>0</td>\n",
       "      <td>0</td>\n",
       "      <td>0</td>\n",
       "    </tr>\n",
       "    <tr>\n",
       "      <th>4145541</th>\n",
       "      <td>-0.015586</td>\n",
       "      <td>-0.244449</td>\n",
       "      <td>-0.171378</td>\n",
       "      <td>0.210493</td>\n",
       "      <td>1.928686</td>\n",
       "      <td>1.464697</td>\n",
       "      <td>0</td>\n",
       "      <td>1</td>\n",
       "      <td>0</td>\n",
       "      <td>0</td>\n",
       "      <td>0</td>\n",
       "      <td>0</td>\n",
       "      <td>0</td>\n",
       "    </tr>\n",
       "    <tr>\n",
       "      <th>4924900</th>\n",
       "      <td>0.227283</td>\n",
       "      <td>-0.427328</td>\n",
       "      <td>-0.379159</td>\n",
       "      <td>-0.199401</td>\n",
       "      <td>0.501046</td>\n",
       "      <td>0.317076</td>\n",
       "      <td>0</td>\n",
       "      <td>1</td>\n",
       "      <td>0</td>\n",
       "      <td>0</td>\n",
       "      <td>0</td>\n",
       "      <td>0</td>\n",
       "      <td>0</td>\n",
       "    </tr>\n",
       "  </tbody>\n",
       "</table>\n",
       "</div>"
      ],
      "text/plain": [
       "         hora_transaccion   cuantia  balance_prev_or  balance_post_or  \\\n",
       "2312346         -0.609841 -0.389412        -0.311617        -0.082586   \n",
       "1932901         -0.666682 -0.285413        -0.379103        -0.205818   \n",
       "4734482          0.134269 -0.348122        -0.375905        -0.205818   \n",
       "4145541         -0.015586 -0.244449        -0.171378         0.210493   \n",
       "4924900          0.227283 -0.427328        -0.379159        -0.199401   \n",
       "\n",
       "         balance_prev_des  balance_post_des  mensaje_alarma  CASH_IN  \\\n",
       "2312346         -0.002861         -0.137623               0        1   \n",
       "1932901         -0.152714         -0.172226               0        0   \n",
       "4734482         -0.197003         -0.240948               0        0   \n",
       "4145541          1.928686          1.464697               0        1   \n",
       "4924900          0.501046          0.317076               0        1   \n",
       "\n",
       "         CASH_OUT  DEBIT  PAYMENT  TRANSFER  es_fraude  \n",
       "2312346         0      0        0         0          0  \n",
       "1932901         1      0        0         0          0  \n",
       "4734482         1      0        0         0          0  \n",
       "4145541         0      0        0         0          0  \n",
       "4924900         0      0        0         0          0  "
      ]
     },
     "metadata": {},
     "output_type": "display_data"
    }
   ],
   "source": [
    "# Columnas que son variables numéricas\n",
    "cols_a_escalar = df_downsampled.columns[[0, 1, 3, 4, 5, 6]]\n",
    "\n",
    "# Escalamos estas columnas\n",
    "s_scaler = StandardScaler()\n",
    "df_escalado = s_scaler.fit_transform(df_downsampled[cols_a_escalar])\n",
    "df_escalado = pd.DataFrame(df_escalado, columns=cols_a_escalar, index=df_downsampled.index)\n",
    "\n",
    "# Seleccionamos las columnas no escaladas directamente\n",
    "cols_restantes = [col for col in df_downsampled.columns if col not in cols_a_escalar]\n",
    "\n",
    "# Concatenamos respetando el índice\n",
    "df_final = pd.concat([df_escalado, df_downsampled[cols_restantes]], axis=1)\n",
    "\n",
    "display(df_final.head())"
   ]
  },
  {
   "cell_type": "code",
   "execution_count": 51,
   "metadata": {},
   "outputs": [
    {
     "data": {
      "text/html": [
       "<div>\n",
       "<style scoped>\n",
       "    .dataframe tbody tr th:only-of-type {\n",
       "        vertical-align: middle;\n",
       "    }\n",
       "\n",
       "    .dataframe tbody tr th {\n",
       "        vertical-align: top;\n",
       "    }\n",
       "\n",
       "    .dataframe thead th {\n",
       "        text-align: right;\n",
       "    }\n",
       "</style>\n",
       "<table border=\"1\" class=\"dataframe\">\n",
       "  <thead>\n",
       "    <tr style=\"text-align: right;\">\n",
       "      <th></th>\n",
       "      <th>hora_transaccion</th>\n",
       "      <th>cuantia</th>\n",
       "      <th>balance_prev_or</th>\n",
       "      <th>balance_post_or</th>\n",
       "      <th>balance_prev_des</th>\n",
       "      <th>balance_post_des</th>\n",
       "      <th>mensaje_alarma</th>\n",
       "      <th>CASH_IN</th>\n",
       "      <th>CASH_OUT</th>\n",
       "      <th>DEBIT</th>\n",
       "      <th>PAYMENT</th>\n",
       "      <th>TRANSFER</th>\n",
       "      <th>es_fraude</th>\n",
       "    </tr>\n",
       "  </thead>\n",
       "  <tbody>\n",
       "    <tr>\n",
       "      <th>2312346</th>\n",
       "      <td>-0.609841</td>\n",
       "      <td>-0.389412</td>\n",
       "      <td>-0.311617</td>\n",
       "      <td>-0.082586</td>\n",
       "      <td>-0.002861</td>\n",
       "      <td>-0.137623</td>\n",
       "      <td>0</td>\n",
       "      <td>1</td>\n",
       "      <td>0</td>\n",
       "      <td>0</td>\n",
       "      <td>0</td>\n",
       "      <td>0</td>\n",
       "      <td>0</td>\n",
       "    </tr>\n",
       "    <tr>\n",
       "      <th>1932901</th>\n",
       "      <td>-0.666682</td>\n",
       "      <td>-0.285413</td>\n",
       "      <td>-0.379103</td>\n",
       "      <td>-0.205818</td>\n",
       "      <td>-0.152714</td>\n",
       "      <td>-0.172226</td>\n",
       "      <td>0</td>\n",
       "      <td>0</td>\n",
       "      <td>1</td>\n",
       "      <td>0</td>\n",
       "      <td>0</td>\n",
       "      <td>0</td>\n",
       "      <td>0</td>\n",
       "    </tr>\n",
       "    <tr>\n",
       "      <th>4734482</th>\n",
       "      <td>0.134269</td>\n",
       "      <td>-0.348122</td>\n",
       "      <td>-0.375905</td>\n",
       "      <td>-0.205818</td>\n",
       "      <td>-0.197003</td>\n",
       "      <td>-0.240948</td>\n",
       "      <td>0</td>\n",
       "      <td>0</td>\n",
       "      <td>1</td>\n",
       "      <td>0</td>\n",
       "      <td>0</td>\n",
       "      <td>0</td>\n",
       "      <td>0</td>\n",
       "    </tr>\n",
       "    <tr>\n",
       "      <th>4145541</th>\n",
       "      <td>-0.015586</td>\n",
       "      <td>-0.244449</td>\n",
       "      <td>-0.171378</td>\n",
       "      <td>0.210493</td>\n",
       "      <td>1.928686</td>\n",
       "      <td>1.464697</td>\n",
       "      <td>0</td>\n",
       "      <td>1</td>\n",
       "      <td>0</td>\n",
       "      <td>0</td>\n",
       "      <td>0</td>\n",
       "      <td>0</td>\n",
       "      <td>0</td>\n",
       "    </tr>\n",
       "    <tr>\n",
       "      <th>4924900</th>\n",
       "      <td>0.227283</td>\n",
       "      <td>-0.427328</td>\n",
       "      <td>-0.379159</td>\n",
       "      <td>-0.199401</td>\n",
       "      <td>0.501046</td>\n",
       "      <td>0.317076</td>\n",
       "      <td>0</td>\n",
       "      <td>1</td>\n",
       "      <td>0</td>\n",
       "      <td>0</td>\n",
       "      <td>0</td>\n",
       "      <td>0</td>\n",
       "      <td>0</td>\n",
       "    </tr>\n",
       "    <tr>\n",
       "      <th>...</th>\n",
       "      <td>...</td>\n",
       "      <td>...</td>\n",
       "      <td>...</td>\n",
       "      <td>...</td>\n",
       "      <td>...</td>\n",
       "      <td>...</td>\n",
       "      <td>...</td>\n",
       "      <td>...</td>\n",
       "      <td>...</td>\n",
       "      <td>...</td>\n",
       "      <td>...</td>\n",
       "      <td>...</td>\n",
       "      <td>...</td>\n",
       "    </tr>\n",
       "    <tr>\n",
       "      <th>6362515</th>\n",
       "      <td>2.258082</td>\n",
       "      <td>-0.257338</td>\n",
       "      <td>-0.274678</td>\n",
       "      <td>-0.205818</td>\n",
       "      <td>-0.242984</td>\n",
       "      <td>-0.236793</td>\n",
       "      <td>0</td>\n",
       "      <td>0</td>\n",
       "      <td>1</td>\n",
       "      <td>0</td>\n",
       "      <td>0</td>\n",
       "      <td>0</td>\n",
       "      <td>1</td>\n",
       "    </tr>\n",
       "    <tr>\n",
       "      <th>6362516</th>\n",
       "      <td>2.258082</td>\n",
       "      <td>2.877343</td>\n",
       "      <td>1.563117</td>\n",
       "      <td>-0.205818</td>\n",
       "      <td>-0.242984</td>\n",
       "      <td>-0.323154</td>\n",
       "      <td>0</td>\n",
       "      <td>0</td>\n",
       "      <td>0</td>\n",
       "      <td>0</td>\n",
       "      <td>0</td>\n",
       "      <td>1</td>\n",
       "      <td>1</td>\n",
       "    </tr>\n",
       "    <tr>\n",
       "      <th>6362517</th>\n",
       "      <td>2.258082</td>\n",
       "      <td>2.877343</td>\n",
       "      <td>1.563117</td>\n",
       "      <td>-0.205818</td>\n",
       "      <td>-0.222875</td>\n",
       "      <td>1.298860</td>\n",
       "      <td>0</td>\n",
       "      <td>0</td>\n",
       "      <td>1</td>\n",
       "      <td>0</td>\n",
       "      <td>0</td>\n",
       "      <td>0</td>\n",
       "      <td>1</td>\n",
       "    </tr>\n",
       "    <tr>\n",
       "      <th>6362518</th>\n",
       "      <td>2.258082</td>\n",
       "      <td>0.010540</td>\n",
       "      <td>-0.117627</td>\n",
       "      <td>-0.205818</td>\n",
       "      <td>-0.242984</td>\n",
       "      <td>-0.323154</td>\n",
       "      <td>0</td>\n",
       "      <td>0</td>\n",
       "      <td>0</td>\n",
       "      <td>0</td>\n",
       "      <td>0</td>\n",
       "      <td>1</td>\n",
       "      <td>1</td>\n",
       "    </tr>\n",
       "    <tr>\n",
       "      <th>6362519</th>\n",
       "      <td>2.258082</td>\n",
       "      <td>0.010540</td>\n",
       "      <td>-0.117627</td>\n",
       "      <td>-0.205818</td>\n",
       "      <td>1.668452</td>\n",
       "      <td>1.548065</td>\n",
       "      <td>0</td>\n",
       "      <td>0</td>\n",
       "      <td>1</td>\n",
       "      <td>0</td>\n",
       "      <td>0</td>\n",
       "      <td>0</td>\n",
       "      <td>1</td>\n",
       "    </tr>\n",
       "  </tbody>\n",
       "</table>\n",
       "<p>16418 rows × 13 columns</p>\n",
       "</div>"
      ],
      "text/plain": [
       "         hora_transaccion   cuantia  balance_prev_or  balance_post_or  \\\n",
       "2312346         -0.609841 -0.389412        -0.311617        -0.082586   \n",
       "1932901         -0.666682 -0.285413        -0.379103        -0.205818   \n",
       "4734482          0.134269 -0.348122        -0.375905        -0.205818   \n",
       "4145541         -0.015586 -0.244449        -0.171378         0.210493   \n",
       "4924900          0.227283 -0.427328        -0.379159        -0.199401   \n",
       "...                   ...       ...              ...              ...   \n",
       "6362515          2.258082 -0.257338        -0.274678        -0.205818   \n",
       "6362516          2.258082  2.877343         1.563117        -0.205818   \n",
       "6362517          2.258082  2.877343         1.563117        -0.205818   \n",
       "6362518          2.258082  0.010540        -0.117627        -0.205818   \n",
       "6362519          2.258082  0.010540        -0.117627        -0.205818   \n",
       "\n",
       "         balance_prev_des  balance_post_des  mensaje_alarma  CASH_IN  \\\n",
       "2312346         -0.002861         -0.137623               0        1   \n",
       "1932901         -0.152714         -0.172226               0        0   \n",
       "4734482         -0.197003         -0.240948               0        0   \n",
       "4145541          1.928686          1.464697               0        1   \n",
       "4924900          0.501046          0.317076               0        1   \n",
       "...                   ...               ...             ...      ...   \n",
       "6362515         -0.242984         -0.236793               0        0   \n",
       "6362516         -0.242984         -0.323154               0        0   \n",
       "6362517         -0.222875          1.298860               0        0   \n",
       "6362518         -0.242984         -0.323154               0        0   \n",
       "6362519          1.668452          1.548065               0        0   \n",
       "\n",
       "         CASH_OUT  DEBIT  PAYMENT  TRANSFER  es_fraude  \n",
       "2312346         0      0        0         0          0  \n",
       "1932901         1      0        0         0          0  \n",
       "4734482         1      0        0         0          0  \n",
       "4145541         0      0        0         0          0  \n",
       "4924900         0      0        0         0          0  \n",
       "...           ...    ...      ...       ...        ...  \n",
       "6362515         1      0        0         0          1  \n",
       "6362516         0      0        0         1          1  \n",
       "6362517         1      0        0         0          1  \n",
       "6362518         0      0        0         1          1  \n",
       "6362519         1      0        0         0          1  \n",
       "\n",
       "[16418 rows x 13 columns]"
      ]
     },
     "execution_count": 51,
     "metadata": {},
     "output_type": "execute_result"
    }
   ],
   "source": [
    "df_final"
   ]
  },
  {
   "cell_type": "markdown",
   "metadata": {},
   "source": [
    "# 🚄 Comparación de modelos"
   ]
  },
  {
   "cell_type": "code",
   "execution_count": null,
   "metadata": {},
   "outputs": [
    {
     "name": "stderr",
     "output_type": "stream",
     "text": [
      "100%|██████████| 32/32 [00:22<00:00,  1.43it/s]"
     ]
    },
    {
     "name": "stdout",
     "output_type": "stream",
     "text": [
      "[LightGBM] [Info] Number of positive: 5754, number of negative: 5738\n",
      "[LightGBM] [Info] Auto-choosing row-wise multi-threading, the overhead of testing was 0.001449 seconds.\n",
      "You can set `force_row_wise=true` to remove the overhead.\n",
      "And if memory is not enough, you can set `force_col_wise=true`.\n",
      "[LightGBM] [Info] Total Bins 1545\n",
      "[LightGBM] [Info] Number of data points in the train set: 11492, number of used features: 11\n",
      "[LightGBM] [Info] [binary:BoostFromScore]: pavg=0.500696 -> initscore=0.002785\n",
      "[LightGBM] [Info] Start training from score 0.002785\n",
      "                               Accuracy  Balanced Accuracy  ROC AUC  F1 Score  \\\n",
      "Model                                                                           \n",
      "XGBClassifier                      0.99               0.99     0.99      0.99   \n",
      "LGBMClassifier                     0.99               0.99     0.99      0.99   \n",
      "BaggingClassifier                  0.99               0.99     0.99      0.99   \n",
      "RandomForestClassifier             0.99               0.99     0.99      0.99   \n",
      "DecisionTreeClassifier             0.99               0.99     0.99      0.99   \n",
      "ExtraTreesClassifier               0.99               0.99     0.99      0.99   \n",
      "ExtraTreeClassifier                0.97               0.97     0.97      0.97   \n",
      "AdaBoostClassifier                 0.97               0.97     0.97      0.97   \n",
      "LinearSVC                          0.95               0.95     0.95      0.95   \n",
      "CalibratedClassifierCV             0.95               0.95     0.95      0.95   \n",
      "Perceptron                         0.94               0.94     0.94      0.94   \n",
      "KNeighborsClassifier               0.94               0.94     0.94      0.94   \n",
      "PassiveAggressiveClassifier        0.94               0.94     0.94      0.94   \n",
      "SGDClassifier                      0.94               0.94     0.94      0.94   \n",
      "LogisticRegression                 0.93               0.93     0.93      0.93   \n",
      "SVC                                0.91               0.91     0.91      0.91   \n",
      "LabelPropagation                   0.91               0.91     0.91      0.91   \n",
      "LabelSpreading                     0.91               0.91     0.91      0.91   \n",
      "LinearDiscriminantAnalysis         0.85               0.85     0.85      0.85   \n",
      "RidgeClassifier                    0.85               0.85     0.85      0.85   \n",
      "RidgeClassifierCV                  0.85               0.85     0.85      0.85   \n",
      "NuSVC                              0.85               0.85     0.85      0.85   \n",
      "BernoulliNB                        0.83               0.83     0.83      0.83   \n",
      "NearestCentroid                    0.82               0.82     0.82      0.82   \n",
      "GaussianNB                         0.78               0.78     0.78      0.77   \n",
      "QuadraticDiscriminantAnalysis      0.50               0.50     0.50      0.34   \n",
      "DummyClassifier                    0.50               0.50     0.50      0.33   \n",
      "\n",
      "                               Time Taken  \n",
      "Model                                      \n",
      "XGBClassifier                        0.37  \n",
      "LGBMClassifier                       0.44  \n",
      "BaggingClassifier                    0.27  \n",
      "RandomForestClassifier               0.93  \n",
      "DecisionTreeClassifier               0.05  \n",
      "ExtraTreesClassifier                 0.43  \n",
      "ExtraTreeClassifier                  0.02  \n",
      "AdaBoostClassifier                   0.49  \n",
      "LinearSVC                            0.14  \n",
      "CalibratedClassifierCV               0.68  \n",
      "Perceptron                           0.03  \n",
      "KNeighborsClassifier                 0.45  \n",
      "PassiveAggressiveClassifier          0.05  \n",
      "SGDClassifier                        0.04  \n",
      "LogisticRegression                   0.05  \n",
      "SVC                                  2.63  \n",
      "LabelPropagation                     3.68  \n",
      "LabelSpreading                       5.25  \n",
      "LinearDiscriminantAnalysis           0.06  \n",
      "RidgeClassifier                      0.04  \n",
      "RidgeClassifierCV                    0.03  \n",
      "NuSVC                                6.12  \n",
      "BernoulliNB                          0.02  \n",
      "NearestCentroid                      0.05  \n",
      "GaussianNB                           0.02  \n",
      "QuadraticDiscriminantAnalysis        0.04  \n",
      "DummyClassifier                      0.02  \n"
     ]
    },
    {
     "name": "stderr",
     "output_type": "stream",
     "text": [
      "\n"
     ]
    }
   ],
   "source": [
    "X = df_final.drop('es_fraude', axis=1)\n",
    "y = df_final['es_fraude']\n",
    "\n",
    "# Divide y aplica LazyPredict\n",
    "X_train, X_test, y_train, y_test = train_test_split(\n",
    "    X, y, test_size=0.3, random_state=42\n",
    ")\n",
    "\n",
    "from lazypredict.Supervised import LazyClassifier\n",
    "\n",
    "clf = LazyClassifier()\n",
    "models, predictions = clf.fit(X_train, X_test, y_train, y_test)\n",
    "\n",
    "print(models)"
   ]
  },
  {
   "cell_type": "code",
   "execution_count": null,
   "metadata": {},
   "outputs": [
    {
     "name": "stdout",
     "output_type": "stream",
     "text": [
      "              precision    recall  f1-score   support\n",
      "\n",
      "         0.0       1.00      0.99      0.99      2471\n",
      "         1.0       0.99      1.00      0.99      2455\n",
      "\n",
      "    accuracy                           0.99      4926\n",
      "   macro avg       0.99      0.99      0.99      4926\n",
      "weighted avg       0.99      0.99      0.99      4926\n",
      "\n",
      "ROC AUC: 0.9943303213405854\n"
     ]
    }
   ],
   "source": [
    "# Importaciones necesarias\n",
    "from xgboost import XGBClassifier\n",
    "from sklearn.model_selection import train_test_split\n",
    "from sklearn.metrics import classification_report, confusion_matrix, roc_auc_score\n",
    "\n",
    "# División de datos escalados en entrenamiento y prueba (70%-30%)\n",
    "X = df_final.drop('es_fraude', axis=1)\n",
    "y = df_final['es_fraude']\n",
    "X_train, X_test, y_train, y_test = train_test_split(\n",
    "    X, y, test_size=0.3, random_state=42\n",
    ")\n",
    "\n",
    "# Entrenar XGBoost\n",
    "xgb_model = XGBClassifier(random_state=42, use_label_encoder=False, eval_metric='logloss')\n",
    "xgb_model = xgb_model.fit(X_train, y_train)\n",
    "\n",
    "# Predicciones\n",
    "y_pred = xgb_model.predict(X_test)\n",
    "\n",
    "# Métricas de evaluación\n",
    "print(classification_report(y_test, y_pred))\n",
    "print(f\"ROC AUC: {roc_auc_score(y_test, y_pred)}\")"
   ]
  },
  {
   "cell_type": "code",
   "execution_count": 54,
   "metadata": {},
   "outputs": [
    {
     "name": "stdout",
     "output_type": "stream",
     "text": [
      "Media ROC-AUC (Cross-validation): 0.9954\n"
     ]
    }
   ],
   "source": [
    "from sklearn.model_selection import cross_val_score\n",
    "\n",
    "cv_scores = cross_val_score(xgb_model, X, y, cv=5, scoring='roc_auc')\n",
    "print(f'Media ROC-AUC (Cross-validation): {cv_scores.mean():.4f}')"
   ]
  }
 ],
 "metadata": {
  "kernelspec": {
   "display_name": "Python 3",
   "language": "python",
   "name": "python3"
  },
  "language_info": {
   "codemirror_mode": {
    "name": "ipython",
    "version": 3
   },
   "file_extension": ".py",
   "mimetype": "text/x-python",
   "name": "python",
   "nbconvert_exporter": "python",
   "pygments_lexer": "ipython3",
   "version": "3.12.6"
  }
 },
 "nbformat": 4,
 "nbformat_minor": 2
}
